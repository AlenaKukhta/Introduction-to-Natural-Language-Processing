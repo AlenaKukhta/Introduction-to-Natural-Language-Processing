{
 "cells": [
  {
   "cell_type": "markdown",
   "id": "68f1d371",
   "metadata": {},
   "source": [
    "# Курсовой проект по курсу \"Введение в обработку естественного языка\" на тему \"Создание чат-бота в Telegram\"\n",
    "\n",
    "##### Задание:\n",
    "\n",
    "1. продумать написать тему курсового проекта\n",
    "\n",
    "2. подготовить данные для обучения\n",
    "\n",
    "3. продумать интенты на которые вы будете обучаться\n",
    "\n",
    "##### Для сдачи задания необходимо написать:\n",
    "\n",
    "1. на какую тему ваш бот будет общаться (на каких датасетах планируете обучать модели)\n",
    "\n",
    "2. написать на какие интенты вы будете обучать бота\n",
    "\n",
    "    примеры интентов:\n",
    "\n",
    "    1) болталка\n",
    "    \n",
    "    2) погода в городе\n",
    "    \n",
    "    3) время в городе\n",
    "    \n",
    "    4) праздники\n",
    "    \n",
    "    5) фильмы\n",
    "    \n",
    "    6) покупка товара\n",
    "\n",
    "    можно добавить что-то своё\n",
    "\n",
    "**из обязательных (всего обязательно 3-ри интента)**\n",
    "\n",
    "ваш бот дожен работать в режиме\n",
    "1. болталка\n",
    "2. на ваш выбор\n",
    "3. на ваш выбор****"
   ]
  },
  {
   "cell_type": "markdown",
   "id": "b548ff4a",
   "metadata": {},
   "source": [
    "## Тема: Микробиота\n",
    "\n",
    "## Данные для обучения:\n",
    "\n",
    "1) Для болталки - 'dataset.jsonl' или 'test_dataset.txt' и 'train_dataset.txt' (данные из 14 урока)\n",
    "\n",
    "2) Для диагностики - https://www.kaggle.com/code/tmathieu/feature-selection-to-predict-diabetes/data/\n",
    "\n",
    "3) Для распознования .pdf - https://www.kaggle.com/datasets/devashishprasad/documnet-layout-recognition-dataset-publaynet-t0\n",
    "\n",
    "4) Для продажи товаров - 'ProductsDataset.csv' (данные из 14 урока)\n",
    "\n",
    "## Интенты:\n",
    "\n",
    "1) Болталка\n",
    "\n",
    "2) Диагностика\n",
    "\n",
    "3) Распознавание файлов .pdf\n",
    "\n",
    "4) Продажа товаров\n",
    "\n",
    "## Режимы работы бота:\n",
    "\n",
    "1) Болталка\n",
    "\n",
    "2) Анализ данных микробиоты и отчет с рекомендациями\n",
    "\n",
    "3) Продажа товаров"
   ]
  },
  {
   "cell_type": "code",
   "execution_count": null,
   "id": "43f25fc6",
   "metadata": {},
   "outputs": [],
   "source": []
  },
  {
   "cell_type": "code",
   "execution_count": 12,
   "id": "5b35586c",
   "metadata": {},
   "outputs": [],
   "source": [
    "# !pip install corus\n",
    "# !pip install datasets\n",
    "# !pip install kaggle"
   ]
  },
  {
   "cell_type": "code",
   "execution_count": 11,
   "id": "44f6502e",
   "metadata": {},
   "outputs": [],
   "source": [
    "# !wget https://www.kaggle.com/code/tmathieu/feature-selection-to-predict-diabetes/abundance.txt\n",
    "# !wget https://www.kaggle.com/code/tmathieu/feature-selection-to-predict-diabetes/data?select=abundance.txt.zip\n",
    "# !wget https://www.kaggle.com/code/tmathieu/feature-selection-to-predict-diabetes/data/abundance_stoolsubset.txt\n",
    "# !wget https://www.kaggle.com/code/tmathieu/feature-selection-to-predict-diabetes/data/marker_presence.txt\n",
    "# !wget https://www.kaggle.com/code/tmathieu/feature-selection-to-predict-diabetes/data/markers2clades_DB.txt\n",
    "    \n",
    "# !kaggle kernels output tmathieu/feature-selection-to-predict-diabetes -p /path/to/dest"
   ]
  },
  {
   "cell_type": "code",
   "execution_count": null,
   "id": "6636be46",
   "metadata": {},
   "outputs": [],
   "source": []
  }
 ],
 "metadata": {
  "kernelspec": {
   "display_name": "Python 3 (ipykernel)",
   "language": "python",
   "name": "python3"
  },
  "language_info": {
   "codemirror_mode": {
    "name": "ipython",
    "version": 3
   },
   "file_extension": ".py",
   "mimetype": "text/x-python",
   "name": "python",
   "nbconvert_exporter": "python",
   "pygments_lexer": "ipython3",
   "version": "3.10.4"
  }
 },
 "nbformat": 4,
 "nbformat_minor": 5
}
