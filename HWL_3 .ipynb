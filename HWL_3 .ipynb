{
 "cells": [
  {
   "cell_type": "markdown",
   "id": "d1971ea4",
   "metadata": {},
   "source": [
    "# Практическое задание к уроку 3. Embedding word2vec fasttext\n",
    "\n",
    "Задача поиск похожих по эмбеддингам\n",
    "\n",
    "Скачиваем датасет (источник): положительные, отрицательные.\n",
    "\n",
    "или можно через ноутбук\n",
    "\n",
    "!wget https://www.dropbox.com/s/fnpq3z4bcnoktiv/positive.csv\n",
    "!wget https://www.dropbox.com/s/r6u59ljhhjdg6j0/negative.csv\n",
    "\n",
    "что надо сделать\n",
    "\n",
    "1. объединить в одну выборку\n",
    "\n",
    "2. на основе word2vec/fasttext/glove/слоя Embedding реализовать метод поиска ближайших твитов\n",
    "(на вход метода должен приходить запрос (какой-то твит, вопрос) и количество вариантов вывода к примеру 5-ть, ваш метод должен возвращать 5-ть ближайших твитов к этому запросу)\n",
    "\n",
    "3. Проверить насколько хорошо работают подходы\n"
   ]
  },
  {
   "cell_type": "code",
   "execution_count": 1,
   "id": "317bc927",
   "metadata": {},
   "outputs": [
    {
     "name": "stdout",
     "output_type": "stream",
     "text": [
      "Requirement already satisfied: annoy in /Users/alenakukhta/opt/anaconda3/lib/python3.9/site-packages (1.17.0)\r\n"
     ]
    }
   ],
   "source": [
    "!pip install annoy"
   ]
  },
  {
   "cell_type": "code",
   "execution_count": 2,
   "id": "9e032eb9",
   "metadata": {},
   "outputs": [
    {
     "name": "stdout",
     "output_type": "stream",
     "text": [
      "Requirement already satisfied: gensim in /Users/alenakukhta/opt/anaconda3/lib/python3.9/site-packages (3.8.3)\n",
      "Requirement already satisfied: scipy>=0.18.1 in /Users/alenakukhta/opt/anaconda3/lib/python3.9/site-packages (from gensim) (1.7.1)\n",
      "Requirement already satisfied: numpy>=1.11.3 in /Users/alenakukhta/opt/anaconda3/lib/python3.9/site-packages (from gensim) (1.20.3)\n",
      "Requirement already satisfied: smart-open>=1.8.1 in /Users/alenakukhta/opt/anaconda3/lib/python3.9/site-packages (from gensim) (6.0.0)\n",
      "Requirement already satisfied: six>=1.5.0 in /Users/alenakukhta/opt/anaconda3/lib/python3.9/site-packages (from gensim) (1.16.0)\n"
     ]
    }
   ],
   "source": [
    "!pip install gensim"
   ]
  },
  {
   "cell_type": "code",
   "execution_count": 3,
   "id": "e3d69602",
   "metadata": {},
   "outputs": [],
   "source": [
    "# Импорт библиотек\n",
    "\n",
    "import pandas as pd\n",
    "import numpy as np\n",
    "import re\n",
    "import string\n",
    "from pymorphy2 import MorphAnalyzer\n",
    "from stop_words import get_stop_words\n",
    "import annoy\n",
    "from gensim.models import Word2Vec, FastText"
   ]
  },
  {
   "cell_type": "markdown",
   "id": "23e69186",
   "metadata": {},
   "source": [
    "## 1. Объединить в одну выборку"
   ]
  },
  {
   "cell_type": "code",
   "execution_count": 4,
   "id": "2bd2e06e",
   "metadata": {},
   "outputs": [],
   "source": [
    "# Загрузка данных\n",
    "\n",
    "df1 = pd.read_csv('positive.csv', sep=';', header = None, usecols = [3], names=['tweet'])\n",
    "df2 = pd.read_csv('negative.csv', sep=';', header = None, usecols = [3], names=['tweet'])"
   ]
  },
  {
   "cell_type": "code",
   "execution_count": 5,
   "id": "e0b50607",
   "metadata": {},
   "outputs": [
    {
     "data": {
      "text/html": [
       "<div>\n",
       "<style scoped>\n",
       "    .dataframe tbody tr th:only-of-type {\n",
       "        vertical-align: middle;\n",
       "    }\n",
       "\n",
       "    .dataframe tbody tr th {\n",
       "        vertical-align: top;\n",
       "    }\n",
       "\n",
       "    .dataframe thead th {\n",
       "        text-align: right;\n",
       "    }\n",
       "</style>\n",
       "<table border=\"1\" class=\"dataframe\">\n",
       "  <thead>\n",
       "    <tr style=\"text-align: right;\">\n",
       "      <th></th>\n",
       "      <th>tweet</th>\n",
       "    </tr>\n",
       "  </thead>\n",
       "  <tbody>\n",
       "    <tr>\n",
       "      <th>0</th>\n",
       "      <td>@first_timee хоть я и школота, но поверь, у на...</td>\n",
       "    </tr>\n",
       "    <tr>\n",
       "      <th>1</th>\n",
       "      <td>Да, все-таки он немного похож на него. Но мой ...</td>\n",
       "    </tr>\n",
       "    <tr>\n",
       "      <th>2</th>\n",
       "      <td>RT @KatiaCheh: Ну ты идиотка) я испугалась за ...</td>\n",
       "    </tr>\n",
       "    <tr>\n",
       "      <th>3</th>\n",
       "      <td>RT @digger2912: \"Кто то в углу сидит и погибае...</td>\n",
       "    </tr>\n",
       "    <tr>\n",
       "      <th>4</th>\n",
       "      <td>@irina_dyshkant Вот что значит страшилка :D\\nН...</td>\n",
       "    </tr>\n",
       "  </tbody>\n",
       "</table>\n",
       "</div>"
      ],
      "text/plain": [
       "                                               tweet\n",
       "0  @first_timee хоть я и школота, но поверь, у на...\n",
       "1  Да, все-таки он немного похож на него. Но мой ...\n",
       "2  RT @KatiaCheh: Ну ты идиотка) я испугалась за ...\n",
       "3  RT @digger2912: \"Кто то в углу сидит и погибае...\n",
       "4  @irina_dyshkant Вот что значит страшилка :D\\nН..."
      ]
     },
     "execution_count": 5,
     "metadata": {},
     "output_type": "execute_result"
    }
   ],
   "source": [
    "# Объединение двух датафреймов\n",
    "\n",
    "df = df1.append(df2, ignore_index = True, sort = False)\n",
    "\n",
    "df.head(5)"
   ]
  },
  {
   "cell_type": "markdown",
   "id": "4a09129b",
   "metadata": {},
   "source": [
    "## 2. На основе word2vec/fasttext/glove/слоя Embedding реализовать метод поиска ближайших твитов (на вход метода должен приходить запрос (какой-то твит, вопрос) и количество вариантов вывода к примеру 5-ть, ваш метод должен возвращать 5-ть ближайших твитов к этому запросу)"
   ]
  },
  {
   "cell_type": "code",
   "execution_count": 6,
   "id": "e1c6bb4f",
   "metadata": {},
   "outputs": [],
   "source": [
    "# Препроцессинг текста\n",
    "\n",
    "def preprocess_txt(line):\n",
    "    line = re.sub(r'RT*', '', line)\n",
    "    line = re.sub(r'@[\\w]*', ' ', line)\n",
    "    spls = \"\".join(i for i in line.strip() if i not in exclude).split()\n",
    "    spls = [morpher.parse(i.lower())[0].normal_form for i in spls]\n",
    "    spls = [i for i in spls if i not in sw and i != \"\"]\n",
    "    return spls"
   ]
  },
  {
   "cell_type": "code",
   "execution_count": 7,
   "id": "35ae8dd7",
   "metadata": {},
   "outputs": [],
   "source": [
    "assert True\n",
    "\n",
    "sentences = []\n",
    "\n",
    "morpher = MorphAnalyzer()\n",
    "sw = set(get_stop_words(\"ru\"))\n",
    "exclude = set(string.punctuation)\n",
    "\n",
    "for line in df['tweet']:\n",
    "    spls = preprocess_txt(line)\n",
    "    sentences.append(spls)"
   ]
  },
  {
   "cell_type": "code",
   "execution_count": 8,
   "id": "7c3b984a",
   "metadata": {},
   "outputs": [],
   "source": [
    "sentences = [i for i in sentences if len(i) > 2]"
   ]
  },
  {
   "cell_type": "code",
   "execution_count": 10,
   "id": "06a4b76a",
   "metadata": {},
   "outputs": [],
   "source": [
    "# Создание модели Word2Vec\n",
    "\n",
    "modelW2V = Word2Vec(sentences=sentences, size=300, window=5, min_count=3)\n",
    "\n",
    "#pip uninstall gensim && pip install gensim==3.8.3 # при ошибке init() got an unexpected keyword argument 'size'"
   ]
  },
  {
   "cell_type": "code",
   "execution_count": 11,
   "id": "c7b3426c",
   "metadata": {},
   "outputs": [],
   "source": [
    "# Создание модели FastText\n",
    "\n",
    "modelFT = FastText(sentences=sentences, size=300, min_count=3, window=5, workers=8)"
   ]
  },
  {
   "cell_type": "code",
   "execution_count": 12,
   "id": "7e417e7a",
   "metadata": {},
   "outputs": [
    {
     "data": {
      "text/plain": [
       "True"
      ]
     },
     "execution_count": 12,
     "metadata": {},
     "output_type": "execute_result"
    }
   ],
   "source": [
    "w2v_index = annoy.AnnoyIndex(300 ,'angular')\n",
    "ft_index = annoy.AnnoyIndex(300 ,'angular')\n",
    "\n",
    "counter = 0\n",
    "index_map = {}\n",
    "\n",
    "for line in df['tweet']:\n",
    "    n_w2v = 0\n",
    "    n_ft = 0\n",
    "    index_map[counter] = line\n",
    "    tweet = preprocess_txt(line)\n",
    "    \n",
    "    vector_w2v = np.zeros(300)\n",
    "    vector_ft = np.zeros(300)\n",
    "    for word in tweet:\n",
    "        if word in modelW2V.wv:\n",
    "            vector_w2v += modelW2V.wv[word]\n",
    "            n_w2v += 1\n",
    "        if word in modelFT.wv:\n",
    "            vector_ft += modelFT.wv[word]\n",
    "            n_ft += 1\n",
    "    if n_w2v > 0:\n",
    "        vector_w2v = vector_w2v / n_w2v\n",
    "    if n_ft > 0:\n",
    "        vector_ft = vector_ft / n_ft\n",
    "    w2v_index.add_item(counter, vector_w2v)\n",
    "    ft_index.add_item(counter, vector_ft)\n",
    "    counter += 1\n",
    "\n",
    "    if counter > 100000:\n",
    "        break\n",
    "\n",
    "w2v_index.build(10)\n",
    "ft_index.build(10)"
   ]
  },
  {
   "cell_type": "code",
   "execution_count": 13,
   "id": "b439b2e9",
   "metadata": {},
   "outputs": [],
   "source": [
    "def get_response(question, index, model, index_map):\n",
    "    question = preprocess_txt(question)\n",
    "    vector = np.zeros(300)\n",
    "    norm = 0\n",
    "    for word in question:\n",
    "        if word in model.wv:\n",
    "            vector += model.wv[word]\n",
    "            norm += 1\n",
    "    if norm > 0:\n",
    "        vector = vector / norm\n",
    "    answers = index.get_nns_by_vector(vector, 5, )\n",
    "    return [index_map[i] for i in answers]"
   ]
  },
  {
   "cell_type": "markdown",
   "id": "4133f1bb",
   "metadata": {},
   "source": [
    "## 3. Проверить насколько хорошо работают подходы"
   ]
  },
  {
   "cell_type": "code",
   "execution_count": 14,
   "id": "1f9ee2c3",
   "metadata": {},
   "outputs": [],
   "source": [
    "TEXT = \"сегодня хорошая погода\""
   ]
  },
  {
   "cell_type": "code",
   "execution_count": 15,
   "id": "4afeed7d",
   "metadata": {},
   "outputs": [
    {
     "data": {
      "text/plain": [
       "['хороший день..такая погода приятная)снежочек..только скользко блеать.',\n",
       " 'Прекрасная погода за окном:)Сейчас побегу по делам...',\n",
       " '@caribbean_rm Прекрасная погода:)\\nОбожаю именно такую:)',\n",
       " '@winteat спасибо и тебе приятного денечка, хоть погода и не айс :) @HelenaBrts @akutata11 @ira_dudchik @nalbakrinova @Pravodumru @YDubos',\n",
       " 'Будем надеяться на хорошую погоду на выходных, очень уж шашлыков хочется)']"
      ]
     },
     "execution_count": 15,
     "metadata": {},
     "output_type": "execute_result"
    }
   ],
   "source": [
    "get_response(TEXT, w2v_index, modelW2V, index_map)"
   ]
  },
  {
   "cell_type": "code",
   "execution_count": 16,
   "id": "a09121f2",
   "metadata": {},
   "outputs": [
    {
     "data": {
      "text/plain": [
       "['@Barmaleevich любая погода хороша ) @lenlekk @Mork_skay @KompassUkraine @Dnevnik_Yoga @Rita__kz @Stas730U @stasko08',\n",
       " 'RT @Nastysa09: Хороший вечер ,отличная тренировка , и вообще день хороший :)))',\n",
       " 'Попкорн и Гаррик-это всё что нужно для хорошего вечера :)',\n",
       " 'Самый лучший день ! ))) Первый хороший снег нападал)))))',\n",
       " '@samshitov Хорошего вечернего отдыха )) @twitaritar @tatauras @A_Anisimovv @fm_mode @gavrohic @v_suhareff']"
      ]
     },
     "execution_count": 16,
     "metadata": {},
     "output_type": "execute_result"
    }
   ],
   "source": [
    "get_response(TEXT, ft_index, modelFT, index_map)"
   ]
  },
  {
   "cell_type": "markdown",
   "id": "268f6d7a",
   "metadata": {},
   "source": [
    "**Вывод:** Обе модели справились с задачей, выдались релевантные твиты."
   ]
  }
 ],
 "metadata": {
  "kernelspec": {
   "display_name": "Python 3 (ipykernel)",
   "language": "python",
   "name": "python3"
  },
  "language_info": {
   "codemirror_mode": {
    "name": "ipython",
    "version": 3
   },
   "file_extension": ".py",
   "mimetype": "text/x-python",
   "name": "python",
   "nbconvert_exporter": "python",
   "pygments_lexer": "ipython3",
   "version": "3.9.7"
  }
 },
 "nbformat": 4,
 "nbformat_minor": 5
}
