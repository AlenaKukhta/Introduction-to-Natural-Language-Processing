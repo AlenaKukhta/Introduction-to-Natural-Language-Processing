{
 "cells": [
  {
   "cell_type": "markdown",
   "id": "d1971ea4",
   "metadata": {},
   "source": [
    "# Практическое задание к уроку 4. Тематическое моделирование. EM-алгоритм\n",
    "\n",
    "Задача тематическое моделирование. Продолжаем исследование датасета с твитами.\n",
    "\n",
    "Скачиваем датасет (источник): положительные, отрицательные.\n",
    "\n",
    "или можно через ноутбук\n",
    "\n",
    "!wget https://www.dropbox.com/s/fnpq3z4bcnoktiv/positive.csv \n",
    "!wget https://www.dropbox.com/s/r6u59ljhhjdg6j0/negative.csv\n",
    "\n",
    "как альтернатива можно скачать данные из Роспотребнадзора https://zpp.rospotrebnadzor.ru/Forum/Appeals\n",
    "\n",
    "для этого берём ноутбук parse_rospotrebnadzor.ipynb устанавливаем количество скачанных страниц больше не 50-сят хотябы 500 и для анализа берём только вопросы так как ответы есть не всегда\n",
    "\n",
    "Что надо сделать:\n",
    "\n",
    "1. объединить в одну выборку (это только для твитов), для роспотребнадзора сформировать датасет из вопросов\n",
    "\n",
    "2. провести исследование и выявить тематики о которых говорят в твитах (для твитов), а для роспотребнадзора так же выявить тематики о которых люди пишут проанализировать\n",
    "\n",
    "3. сделать визуализацию кластеров тематик\n",
    "\n",
    "4. проинтерпритировать получившиеся тематики"
   ]
  },
  {
   "cell_type": "code",
   "execution_count": 1,
   "id": "317bc927",
   "metadata": {},
   "outputs": [
    {
     "name": "stdout",
     "output_type": "stream",
     "text": [
      "Requirement already satisfied: pyLDAvis in /Users/alenakukhta/opt/anaconda3/lib/python3.9/site-packages (3.3.1)\n",
      "Requirement already satisfied: pandas>=1.2.0 in /Users/alenakukhta/opt/anaconda3/lib/python3.9/site-packages (from pyLDAvis) (1.3.4)\n",
      "Requirement already satisfied: numexpr in /Users/alenakukhta/opt/anaconda3/lib/python3.9/site-packages (from pyLDAvis) (2.7.3)\n",
      "Requirement already satisfied: future in /Users/alenakukhta/opt/anaconda3/lib/python3.9/site-packages (from pyLDAvis) (0.18.2)\n",
      "Requirement already satisfied: setuptools in /Users/alenakukhta/opt/anaconda3/lib/python3.9/site-packages (from pyLDAvis) (58.0.4)\n",
      "Requirement already satisfied: joblib in /Users/alenakukhta/opt/anaconda3/lib/python3.9/site-packages (from pyLDAvis) (1.1.0)\n",
      "Requirement already satisfied: scipy in /Users/alenakukhta/opt/anaconda3/lib/python3.9/site-packages (from pyLDAvis) (1.7.1)\n",
      "Requirement already satisfied: scikit-learn in /Users/alenakukhta/opt/anaconda3/lib/python3.9/site-packages (from pyLDAvis) (0.24.2)\n",
      "Requirement already satisfied: gensim in /Users/alenakukhta/opt/anaconda3/lib/python3.9/site-packages (from pyLDAvis) (3.8.3)\n",
      "Requirement already satisfied: jinja2 in /Users/alenakukhta/opt/anaconda3/lib/python3.9/site-packages (from pyLDAvis) (2.11.3)\n",
      "Requirement already satisfied: sklearn in /Users/alenakukhta/opt/anaconda3/lib/python3.9/site-packages (from pyLDAvis) (0.0)\n",
      "Requirement already satisfied: funcy in /Users/alenakukhta/opt/anaconda3/lib/python3.9/site-packages (from pyLDAvis) (1.17)\n",
      "Requirement already satisfied: numpy>=1.20.0 in /Users/alenakukhta/opt/anaconda3/lib/python3.9/site-packages (from pyLDAvis) (1.20.3)\n",
      "Requirement already satisfied: python-dateutil>=2.7.3 in /Users/alenakukhta/opt/anaconda3/lib/python3.9/site-packages (from pandas>=1.2.0->pyLDAvis) (2.8.2)\n",
      "Requirement already satisfied: pytz>=2017.3 in /Users/alenakukhta/opt/anaconda3/lib/python3.9/site-packages (from pandas>=1.2.0->pyLDAvis) (2021.3)\n",
      "Requirement already satisfied: six>=1.5.0 in /Users/alenakukhta/opt/anaconda3/lib/python3.9/site-packages (from gensim->pyLDAvis) (1.16.0)\n",
      "Requirement already satisfied: smart-open>=1.8.1 in /Users/alenakukhta/opt/anaconda3/lib/python3.9/site-packages (from gensim->pyLDAvis) (6.0.0)\n",
      "Requirement already satisfied: MarkupSafe>=0.23 in /Users/alenakukhta/opt/anaconda3/lib/python3.9/site-packages (from jinja2->pyLDAvis) (1.1.1)\n",
      "Requirement already satisfied: threadpoolctl>=2.0.0 in /Users/alenakukhta/opt/anaconda3/lib/python3.9/site-packages (from scikit-learn->pyLDAvis) (2.2.0)\n"
     ]
    }
   ],
   "source": [
    "!pip install pyLDAvis"
   ]
  },
  {
   "cell_type": "code",
   "execution_count": 2,
   "id": "e3d69602",
   "metadata": {},
   "outputs": [
    {
     "name": "stderr",
     "output_type": "stream",
     "text": [
      "[nltk_data] Downloading package stopwords to\n",
      "[nltk_data]     /Users/alenakukhta/nltk_data...\n",
      "[nltk_data]   Package stopwords is already up-to-date!\n"
     ]
    }
   ],
   "source": [
    "# Импорт библиотек\n",
    "\n",
    "import pandas as pd\n",
    "import re\n",
    "import numpy as np\n",
    "from nltk.corpus import stopwords\n",
    "from pymystem3 import Mystem\n",
    "import nltk\n",
    "nltk.download('stopwords')\n",
    "import pymorphy2\n",
    "from gensim.models import *\n",
    "from gensim import corpora\n",
    "import pyLDAvis\n",
    "import pyLDAvis.gensim_models as gensimvis\n",
    "import matplotlib.pyplot as plt\n",
    "import warnings\n",
    "def fxn():\n",
    "    warnings.warn(\"deprecated\", DeprecationWarning)\n",
    "with warnings.catch_warnings():\n",
    "    warnings.simplefilter(\"ignore\")\n",
    "    fxn()"
   ]
  },
  {
   "cell_type": "markdown",
   "id": "23e69186",
   "metadata": {},
   "source": [
    "## 1. Объединить в одну выборку (это только для твитов), для роспотребнадзора сформировать датасет из вопросов"
   ]
  },
  {
   "cell_type": "code",
   "execution_count": 3,
   "id": "2bd2e06e",
   "metadata": {},
   "outputs": [
    {
     "data": {
      "text/html": [
       "<div>\n",
       "<style scoped>\n",
       "    .dataframe tbody tr th:only-of-type {\n",
       "        vertical-align: middle;\n",
       "    }\n",
       "\n",
       "    .dataframe tbody tr th {\n",
       "        vertical-align: top;\n",
       "    }\n",
       "\n",
       "    .dataframe thead th {\n",
       "        text-align: right;\n",
       "    }\n",
       "</style>\n",
       "<table border=\"1\" class=\"dataframe\">\n",
       "  <thead>\n",
       "    <tr style=\"text-align: right;\">\n",
       "      <th></th>\n",
       "      <th>text</th>\n",
       "      <th>label</th>\n",
       "    </tr>\n",
       "  </thead>\n",
       "  <tbody>\n",
       "    <tr>\n",
       "      <th>0</th>\n",
       "      <td>@first_timee хоть я и школота, но поверь, у на...</td>\n",
       "      <td>positive</td>\n",
       "    </tr>\n",
       "    <tr>\n",
       "      <th>1</th>\n",
       "      <td>Да, все-таки он немного похож на него. Но мой ...</td>\n",
       "      <td>positive</td>\n",
       "    </tr>\n",
       "    <tr>\n",
       "      <th>2</th>\n",
       "      <td>RT @KatiaCheh: Ну ты идиотка) я испугалась за ...</td>\n",
       "      <td>positive</td>\n",
       "    </tr>\n",
       "    <tr>\n",
       "      <th>3</th>\n",
       "      <td>RT @digger2912: \"Кто то в углу сидит и погибае...</td>\n",
       "      <td>positive</td>\n",
       "    </tr>\n",
       "    <tr>\n",
       "      <th>4</th>\n",
       "      <td>@irina_dyshkant Вот что значит страшилка :D\\nН...</td>\n",
       "      <td>positive</td>\n",
       "    </tr>\n",
       "  </tbody>\n",
       "</table>\n",
       "</div>"
      ],
      "text/plain": [
       "                                                text     label\n",
       "0  @first_timee хоть я и школота, но поверь, у на...  positive\n",
       "1  Да, все-таки он немного похож на него. Но мой ...  positive\n",
       "2  RT @KatiaCheh: Ну ты идиотка) я испугалась за ...  positive\n",
       "3  RT @digger2912: \"Кто то в углу сидит и погибае...  positive\n",
       "4  @irina_dyshkant Вот что значит страшилка :D\\nН...  positive"
      ]
     },
     "execution_count": 3,
     "metadata": {},
     "output_type": "execute_result"
    }
   ],
   "source": [
    "# Загрузка данных\n",
    "\n",
    "positive = pd.read_csv('positive.csv', sep=';', usecols=[3], names=['text'])\n",
    "positive['label'] = ['positive'] * len(positive)\n",
    "\n",
    "negative = pd.read_csv('negative.csv', sep=';', usecols=[3], names=['text'])\n",
    "negative['label'] = ['negative'] * len(negative)\n",
    "\n",
    "# Объединение двух датафреймов\n",
    "\n",
    "df = pd.concat([positive, negative], ignore_index=True)\n",
    "\n",
    "df.head()"
   ]
  },
  {
   "cell_type": "code",
   "execution_count": 4,
   "id": "276e7dd1",
   "metadata": {},
   "outputs": [
    {
     "name": "stdout",
     "output_type": "stream",
     "text": [
      "<class 'pandas.core.frame.DataFrame'>\n",
      "RangeIndex: 226834 entries, 0 to 226833\n",
      "Data columns (total 2 columns):\n",
      " #   Column  Non-Null Count   Dtype \n",
      "---  ------  --------------   ----- \n",
      " 0   text    226834 non-null  object\n",
      " 1   label   226834 non-null  object\n",
      "dtypes: object(2)\n",
      "memory usage: 3.5+ MB\n"
     ]
    }
   ],
   "source": [
    "# Информация о датасете\n",
    "df.info()"
   ]
  },
  {
   "cell_type": "markdown",
   "id": "4a09129b",
   "metadata": {},
   "source": [
    "## 2. Провести исследование и выявить тематики о которых говорят в твитах (для твитов), а для роспотребнадзора так же выявить тематики о которых люди пишут проанализировать"
   ]
  },
  {
   "cell_type": "code",
   "execution_count": 5,
   "id": "e1c6bb4f",
   "metadata": {},
   "outputs": [
    {
     "name": "stderr",
     "output_type": "stream",
     "text": [
      "<>:4: DeprecationWarning: invalid escape sequence \\w\n",
      "<>:4: DeprecationWarning: invalid escape sequence \\w\n",
      "/var/folders/64/g6jhnpm16ql1vgrrbrbd_yd00000gn/T/ipykernel_14132/10130644.py:4: DeprecationWarning: invalid escape sequence \\w\n",
      "  words_regex = re.compile('\\w+')\n",
      "/Users/alenakukhta/opt/anaconda3/lib/python3.9/site-packages/pymorphy2/units/base.py:70: DeprecationWarning: inspect.getargspec() is deprecated since Python 3.0, use inspect.signature() or inspect.getfullargspec()\n",
      "  args, varargs, kw, default = inspect.getargspec(cls.__init__)\n",
      "/Users/alenakukhta/opt/anaconda3/lib/python3.9/site-packages/pymorphy2/units/base.py:70: DeprecationWarning: inspect.getargspec() is deprecated since Python 3.0, use inspect.signature() or inspect.getfullargspec()\n",
      "  args, varargs, kw, default = inspect.getargspec(cls.__init__)\n",
      "/Users/alenakukhta/opt/anaconda3/lib/python3.9/site-packages/pymorphy2/units/base.py:70: DeprecationWarning: inspect.getargspec() is deprecated since Python 3.0, use inspect.signature() or inspect.getfullargspec()\n",
      "  args, varargs, kw, default = inspect.getargspec(cls.__init__)\n",
      "/Users/alenakukhta/opt/anaconda3/lib/python3.9/site-packages/pymorphy2/units/base.py:70: DeprecationWarning: inspect.getargspec() is deprecated since Python 3.0, use inspect.signature() or inspect.getfullargspec()\n",
      "  args, varargs, kw, default = inspect.getargspec(cls.__init__)\n",
      "/Users/alenakukhta/opt/anaconda3/lib/python3.9/site-packages/pymorphy2/units/base.py:70: DeprecationWarning: inspect.getargspec() is deprecated since Python 3.0, use inspect.signature() or inspect.getfullargspec()\n",
      "  args, varargs, kw, default = inspect.getargspec(cls.__init__)\n",
      "/Users/alenakukhta/opt/anaconda3/lib/python3.9/site-packages/pymorphy2/units/base.py:70: DeprecationWarning: inspect.getargspec() is deprecated since Python 3.0, use inspect.signature() or inspect.getfullargspec()\n",
      "  args, varargs, kw, default = inspect.getargspec(cls.__init__)\n",
      "/Users/alenakukhta/opt/anaconda3/lib/python3.9/site-packages/pymorphy2/units/base.py:70: DeprecationWarning: inspect.getargspec() is deprecated since Python 3.0, use inspect.signature() or inspect.getfullargspec()\n",
      "  args, varargs, kw, default = inspect.getargspec(cls.__init__)\n",
      "/Users/alenakukhta/opt/anaconda3/lib/python3.9/site-packages/pymorphy2/units/base.py:70: DeprecationWarning: inspect.getargspec() is deprecated since Python 3.0, use inspect.signature() or inspect.getfullargspec()\n",
      "  args, varargs, kw, default = inspect.getargspec(cls.__init__)\n",
      "/Users/alenakukhta/opt/anaconda3/lib/python3.9/site-packages/pymorphy2/units/base.py:70: DeprecationWarning: inspect.getargspec() is deprecated since Python 3.0, use inspect.signature() or inspect.getfullargspec()\n",
      "  args, varargs, kw, default = inspect.getargspec(cls.__init__)\n",
      "/Users/alenakukhta/opt/anaconda3/lib/python3.9/site-packages/pymorphy2/units/base.py:70: DeprecationWarning: inspect.getargspec() is deprecated since Python 3.0, use inspect.signature() or inspect.getfullargspec()\n",
      "  args, varargs, kw, default = inspect.getargspec(cls.__init__)\n",
      "/Users/alenakukhta/opt/anaconda3/lib/python3.9/site-packages/pymorphy2/units/base.py:70: DeprecationWarning: inspect.getargspec() is deprecated since Python 3.0, use inspect.signature() or inspect.getfullargspec()\n",
      "  args, varargs, kw, default = inspect.getargspec(cls.__init__)\n",
      "/Users/alenakukhta/opt/anaconda3/lib/python3.9/site-packages/pymorphy2/units/base.py:70: DeprecationWarning: inspect.getargspec() is deprecated since Python 3.0, use inspect.signature() or inspect.getfullargspec()\n",
      "  args, varargs, kw, default = inspect.getargspec(cls.__init__)\n"
     ]
    }
   ],
   "source": [
    "### Препроцессинг текста\n",
    "\n",
    "# Компеляция объекта (1 или более букв)\n",
    "words_regex = re.compile('\\w+') \n",
    "\n",
    "# Формирование списка токенов из букв и длины >3\n",
    "def find_words(text, regex = words_regex):\n",
    "    tokens = regex.findall(text) # поиск всех слов в тексте --> получение списка токенов\n",
    "    return [w for w in tokens if w.isalpha() and len(w)>= 4] # выбор токетов, состоящих из букв длиною > 3\n",
    "\n",
    "morph = pymorphy2.MorphAnalyzer() # морфологический анализ\n",
    "stopwords_list = stopwords.words('russian') # список стоп-слов\n",
    "\n",
    "# Формирование списка нормальных форм токенов: удаление стопслов и токенов из небукв\n",
    "def lemmatize(words, lemmer = morph, stopwords = stopwords_list):\n",
    "    lemmas = [lemmer.parse(w)[0].normal_form for w in words] #список нормальных форм для всех токенов\n",
    "    return [w for w in lemmas if not w in stopwords and w.isalpha()] #удаляем из списка нормальных форм стоп-слова и токены с небуквой(ми)\n",
    "\n",
    "# Очищение токены от нецензурной лексики и ненужных слов\n",
    "def clear_tokens(tokens):\n",
    "    string_tokens = ' '.join(tokens)\n",
    "    string_tokens = re.sub(r'[A-za-z]', ' ',  string_tokens) \n",
    "    string_tokens = re.sub(r'\\w+ще\\b', ' ',  string_tokens) \n",
    "    string_tokens = re.sub(r'\\bбл\\w+', ' ',  string_tokens) \n",
    "    string_tokens = re.sub(r'значит', ' ',  string_tokens) \n",
    "    string_tokens = re.sub(r'почему', ' ',  string_tokens) \n",
    "    string_tokens = re.sub(r'свой', ' ',  string_tokens) \n",
    "    string_tokens = re.sub(r'капец', ' ',  string_tokens) \n",
    "    string_tokens = re.sub(r'который', ' ',  string_tokens)\n",
    "    string_tokens = re.sub(r'это', ' ',  string_tokens)\n",
    "    string_tokens = re.sub(r'весь', ' ',  string_tokens)\n",
    "    string_tokens = re.sub(r'\\bидио\\w+', ' ',  string_tokens) \n",
    "    string_tokens = re.sub(r'\\bпид\\w+', ' ',  string_tokens)\n",
    "    string_tokens = re.sub(r'\\bхуй\\w+', ' ', string_tokens)\n",
    "    string_tokens = re.sub(r'\\w+xу.\\b', ' ',  string_tokens)\n",
    "    string_tokens = re.sub(r'\\w+xу\\w+', ' ',  string_tokens)\n",
    "    string_tokens = re.sub(r'\\w+но\\b', ' ',  string_tokens)\n",
    "    string_tokens = re.sub(r'\\bпоп\\w+', ' ',  string_tokens)\n",
    "    string_tokens = re.sub(r'\\bпиз\\w+', ' ',  string_tokens)\n",
    "    string_tokens = re.sub(r'\\bгов\\w+', ' ',  string_tokens)\n",
    "    string_tokens = re.sub(r'\\bфиг\\w+', ' ',  string_tokens)\n",
    "    string_tokens = re.sub(r'сука', ' ',  string_tokens)\n",
    "    string_tokens = re.sub(r'очень', ' ',  string_tokens)\n",
    "    string_tokens = re.sub(r'лох', ' ',  string_tokens)\n",
    "    string_tokens = re.sub(r'\\bпи.де\\w+', ' ',  string_tokens)\n",
    "    string_tokens = re.sub(r'нету', ' ',  string_tokens)\n",
    "    string_tokens = re.sub(r'ой', ' ',  string_tokens)\n",
    "    string_tokens = re.sub(r'\\bхот\\w+', ' ',  string_tokens)\n",
    "    string_tokens = re.sub(r'\\bпрост\\w+', ' ',  string_tokens)\n",
    "    string_tokens = re.sub(r'\\bника\\w+', ' ',  string_tokens)\n",
    "    string_tokens = re.sub(r'\\w+ть\\b', ' ',  string_tokens)\n",
    "    string_tokens = re.sub(r'мочь', ' ',  string_tokens)\n",
    "    clear_tokens = string_tokens.split()\n",
    "    clear_tokens = [w for w in clear_tokens if len(w)>2]\n",
    "    return clear_tokens\n",
    "\n",
    "def preprocess(text):\n",
    "    return (clear_tokens(lemmatize(find_words(text))))"
   ]
  },
  {
   "cell_type": "code",
   "execution_count": 6,
   "id": "bac8aee7",
   "metadata": {},
   "outputs": [
    {
     "data": {
      "text/html": [
       "<div>\n",
       "<style scoped>\n",
       "    .dataframe tbody tr th:only-of-type {\n",
       "        vertical-align: middle;\n",
       "    }\n",
       "\n",
       "    .dataframe tbody tr th {\n",
       "        vertical-align: top;\n",
       "    }\n",
       "\n",
       "    .dataframe thead th {\n",
       "        text-align: right;\n",
       "    }\n",
       "</style>\n",
       "<table border=\"1\" class=\"dataframe\">\n",
       "  <thead>\n",
       "    <tr style=\"text-align: right;\">\n",
       "      <th></th>\n",
       "      <th>text</th>\n",
       "      <th>label</th>\n",
       "    </tr>\n",
       "  </thead>\n",
       "  <tbody>\n",
       "    <tr>\n",
       "      <th>0</th>\n",
       "      <td>[школотый, поверь, самый, общество, предмет, тип]</td>\n",
       "      <td>positive</td>\n",
       "    </tr>\n",
       "    <tr>\n",
       "      <th>1</th>\n",
       "      <td>[таки, немного, похожий, мальчик, хороший]</td>\n",
       "      <td>positive</td>\n",
       "    </tr>\n",
       "    <tr>\n",
       "      <th>2</th>\n",
       "      <td>[испугаться]</td>\n",
       "      <td>positive</td>\n",
       "    </tr>\n",
       "    <tr>\n",
       "      <th>3</th>\n",
       "      <td>[угол, голод, порция]</td>\n",
       "      <td>positive</td>\n",
       "    </tr>\n",
       "    <tr>\n",
       "      <th>4</th>\n",
       "      <td>[страшилка, создаться, ощущение, автор]</td>\n",
       "      <td>positive</td>\n",
       "    </tr>\n",
       "  </tbody>\n",
       "</table>\n",
       "</div>"
      ],
      "text/plain": [
       "                                                text     label\n",
       "0  [школотый, поверь, самый, общество, предмет, тип]  positive\n",
       "1         [таки, немного, похожий, мальчик, хороший]  positive\n",
       "2                                       [испугаться]  positive\n",
       "3                              [угол, голод, порция]  positive\n",
       "4            [страшилка, создаться, ощущение, автор]  positive"
      ]
     },
     "execution_count": 6,
     "metadata": {},
     "output_type": "execute_result"
    }
   ],
   "source": [
    "# Предобработка твитов\n",
    "df['text'] = df['text'].apply(preprocess)\n",
    "df.head()"
   ]
  },
  {
   "cell_type": "markdown",
   "id": "bf0d92a4",
   "metadata": {},
   "source": [
    "#### Модель Latent Dirichlet Allocation (LDA)"
   ]
  },
  {
   "cell_type": "code",
   "execution_count": 7,
   "id": "10934ded",
   "metadata": {},
   "outputs": [
    {
     "data": {
      "text/plain": [
       "8172"
      ]
     },
     "execution_count": 7,
     "metadata": {},
     "output_type": "execute_result"
    }
   ],
   "source": [
    "# Формирование словаря уникальных токенов датасета\n",
    "\n",
    "dictionary = corpora.Dictionary(df['text']) # словарь токенов и их индексов (на вход список списков)\n",
    "\n",
    "dictionary.filter_extremes(no_below = 10, no_above = 0.9, keep_n=None) # исключение слов, встречающихся \n",
    "                                                                    # реже 10 раз или составляют более 0.9 словаря \n",
    "\n",
    "dictionary.save('tweet.dict')\n",
    "\n",
    "len(dictionary.keys()) # длина словаря из токенов"
   ]
  },
  {
   "cell_type": "code",
   "execution_count": 8,
   "id": "58abc755",
   "metadata": {},
   "outputs": [],
   "source": [
    "# Векторизация твитов\n",
    "\n",
    "corpus = [dictionary.doc2bow(text) for text in df['text']] # для каждого списка токенов возвращается кортеж \n",
    "                                                            # (индекс и количество повторений токена в твите)\n",
    "\n",
    "corpora.MmCorpus.serialize('tweet.model', corpus) # итерация по корпусу (записывается смещение байта каждого твита)\n",
    "                                                    # полученная структура индексов сохраняется в файл"
   ]
  },
  {
   "cell_type": "code",
   "execution_count": 9,
   "id": "b29e3fc6",
   "metadata": {},
   "outputs": [
    {
     "name": "stdout",
     "output_type": "stream",
     "text": [
      "['школотый', 'поверь', 'самый', 'общество', 'предмет', 'тип']\n",
      "[(0, 1.0), (1, 1.0), (2, 1.0), (3, 1.0), (4, 1.0), (5, 1.0)]\n"
     ]
    }
   ],
   "source": [
    "# Итерация по словарю\n",
    "\n",
    "mm = corpora.MmCorpus('tweet.model') # корпус имеет произвольный доступ\n",
    "\n",
    "print(df['text'].values[0])\n",
    "print(mm[0]) #  извлечение документа с номером 0"
   ]
  },
  {
   "cell_type": "code",
   "execution_count": 10,
   "id": "0c376d48",
   "metadata": {},
   "outputs": [],
   "source": [
    "# Обучение модели\n",
    "\n",
    "lda = ldamodel.LdaModel(corpus, id2word=dictionary, num_topics=3)"
   ]
  },
  {
   "cell_type": "code",
   "execution_count": 11,
   "id": "d1a8e99b",
   "metadata": {},
   "outputs": [
    {
     "data": {
      "text/plain": [
       "[(0,\n",
       "  '0.021*\"завтра\" + 0.015*\"дом\" + 0.013*\"никто\" + 0.012*\"мама\" + 0.012*\"жизнь\" + 0.010*\"работа\" + 0.009*\"прийти\" + 0.009*\"каждый\" + 0.009*\"скоро\" + 0.007*\"дело\" + 0.007*\"прийтись\" + 0.007*\"бояться\" + 0.007*\"закончиться\" + 0.006*\"боль\" + 0.006*\"правда\" + 0.006*\"твиттер\" + 0.006*\"ужасный\" + 0.006*\"фотка\" + 0.006*\"нужный\" + 0.005*\"город\"'),\n",
       " (1,\n",
       "  '0.024*\"день\" + 0.023*\"сегодня\" + 0.018*\"больш\" + 0.018*\"школа\" + 0.017*\"время\" + 0.013*\"утро\" + 0.013*\"жаль\" + 0.012*\"друг\" + 0.011*\"последний\" + 0.010*\"урок\" + 0.010*\"ночь\" + 0.009*\"пока\" + 0.008*\"дом\" + 0.008*\"остаться\" + 0.008*\"найти\" + 0.008*\"человек\" + 0.008*\"втор\" + 0.007*\"жалко\" + 0.007*\"нравиться\" + 0.007*\"неделя\"'),\n",
       " (2,\n",
       "  '0.020*\"хороший\" + 0.017*\"новый\" + 0.013*\"человек\" + 0.012*\"день\" + 0.012*\"час\" + 0.012*\"настроение\" + 0.011*\"год\" + 0.011*\"сегодня\" + 0.010*\"любимый\" + 0.010*\"голова\" + 0.010*\"самый\" + 0.009*\"экзамен\" + 0.008*\"завтра\" + 0.008*\"каникулы\" + 0.008*\"фильм\" + 0.008*\"вчера\" + 0.007*\"вроде\" + 0.007*\"рука\" + 0.006*\"снег\" + 0.006*\"маленький\"')]"
      ]
     },
     "execution_count": 11,
     "metadata": {},
     "output_type": "execute_result"
    }
   ],
   "source": [
    "# Определение вероятных тем\n",
    "\n",
    "lda.show_topics(num_topics=3, num_words=20, formatted=True)"
   ]
  },
  {
   "cell_type": "code",
   "execution_count": 12,
   "id": "328de246",
   "metadata": {},
   "outputs": [
    {
     "name": "stdout",
     "output_type": "stream",
     "text": [
      "-8.0153255101143\n"
     ]
    }
   ],
   "source": [
    "# Оценка качества полученной модели\n",
    "\n",
    "print(lda.log_perplexity(corpus))"
   ]
  },
  {
   "cell_type": "code",
   "execution_count": 13,
   "id": "b8a2f9a6",
   "metadata": {},
   "outputs": [
    {
     "name": "stdout",
     "output_type": "stream",
     "text": [
      "Персплексия:  0.0003303605367699587\n"
     ]
    }
   ],
   "source": [
    "print('Персплексия: ', np.exp(lda.log_perplexity(corpus)))"
   ]
  },
  {
   "cell_type": "markdown",
   "id": "d14756bf",
   "metadata": {},
   "source": [
    "## 3. Сделать визуализацию кластеров тематик"
   ]
  },
  {
   "cell_type": "code",
   "execution_count": 14,
   "id": "3e4d0d47",
   "metadata": {},
   "outputs": [
    {
     "name": "stderr",
     "output_type": "stream",
     "text": [
      "/Users/alenakukhta/opt/anaconda3/lib/python3.9/site-packages/pyLDAvis/_prepare.py:246: FutureWarning: In a future version of pandas all arguments of DataFrame.drop except for the argument 'labels' will be keyword-only\n",
      "  default_term_info = default_term_info.sort_values(\n",
      "/Users/alenakukhta/opt/anaconda3/lib/python3.9/site-packages/past/builtins/misc.py:45: DeprecationWarning: the imp module is deprecated in favour of importlib; see the module's documentation for alternative uses\n",
      "  from imp import reload\n",
      "/Users/alenakukhta/opt/anaconda3/lib/python3.9/site-packages/past/builtins/misc.py:45: DeprecationWarning: the imp module is deprecated in favour of importlib; see the module's documentation for alternative uses\n",
      "  from imp import reload\n",
      "/Users/alenakukhta/opt/anaconda3/lib/python3.9/site-packages/past/builtins/misc.py:45: DeprecationWarning: the imp module is deprecated in favour of importlib; see the module's documentation for alternative uses\n",
      "  from imp import reload\n",
      "/Users/alenakukhta/opt/anaconda3/lib/python3.9/site-packages/past/builtins/misc.py:45: DeprecationWarning: the imp module is deprecated in favour of importlib; see the module's documentation for alternative uses\n",
      "  from imp import reload\n",
      "/Users/alenakukhta/opt/anaconda3/lib/python3.9/site-packages/past/builtins/misc.py:45: DeprecationWarning: the imp module is deprecated in favour of importlib; see the module's documentation for alternative uses\n",
      "  from imp import reload\n",
      "/Users/alenakukhta/opt/anaconda3/lib/python3.9/site-packages/past/builtins/misc.py:45: DeprecationWarning: the imp module is deprecated in favour of importlib; see the module's documentation for alternative uses\n",
      "  from imp import reload\n",
      "/Users/alenakukhta/opt/anaconda3/lib/python3.9/site-packages/past/builtins/misc.py:45: DeprecationWarning: the imp module is deprecated in favour of importlib; see the module's documentation for alternative uses\n",
      "  from imp import reload\n",
      "/Users/alenakukhta/opt/anaconda3/lib/python3.9/site-packages/past/builtins/misc.py:45: DeprecationWarning: the imp module is deprecated in favour of importlib; see the module's documentation for alternative uses\n",
      "  from imp import reload\n"
     ]
    },
    {
     "data": {
      "text/html": [
       "\n",
       "<link rel=\"stylesheet\" type=\"text/css\" href=\"https://cdn.jsdelivr.net/gh/bmabey/pyLDAvis@3.3.1/pyLDAvis/js/ldavis.v1.0.0.css\">\n",
       "\n",
       "\n",
       "<div id=\"ldavis_el141321401768316021284710159576\"></div>\n",
       "<script type=\"text/javascript\">\n",
       "\n",
       "var ldavis_el141321401768316021284710159576_data = {\"mdsDat\": {\"x\": [-0.06488637817342231, -0.26005962625698015, 0.32494600443040234], \"y\": [-0.32698246772464234, 0.21789252577449558, 0.1090899419501467], \"topics\": [1, 2, 3], \"cluster\": [1, 1, 1], \"Freq\": [33.746527427975785, 33.54480216994089, 32.70867040208333]}, \"tinfo\": {\"Term\": [\"\\u0445\\u043e\\u0440\\u043e\\u0448\\u0438\\u0439\", \"\\u0431\\u043e\\u043b\\u044c\\u0448\", \"\\u0432\\u0440\\u0435\\u043c\\u044f\", \"\\u043d\\u043e\\u0432\\u044b\\u0439\", \"\\u0434\\u0435\\u043d\\u044c\", \"\\u0448\\u043a\\u043e\\u043b\\u0430\", \"\\u0443\\u0442\\u0440\\u043e\", \"\\u0436\\u0430\\u043b\\u044c\", \"\\u043c\\u0430\\u043c\\u0430\", \"\\u0434\\u0440\\u0443\\u0433\", \"\\u0447\\u0430\\u0441\", \"\\u043d\\u0430\\u0441\\u0442\\u0440\\u043e\\u0435\\u043d\\u0438\\u0435\", \"\\u043d\\u0438\\u043a\\u0442\\u043e\", \"\\u043f\\u043e\\u0441\\u043b\\u0435\\u0434\\u043d\\u0438\\u0439\", \"\\u0433\\u043e\\u0434\", \"\\u043b\\u044e\\u0431\\u0438\\u043c\\u044b\\u0439\", \"\\u0440\\u0430\\u0431\\u043e\\u0442\\u0430\", \"\\u0443\\u0440\\u043e\\u043a\", \"\\u0433\\u043e\\u043b\\u043e\\u0432\\u0430\", \"\\u043d\\u043e\\u0447\\u044c\", \"\\u0434\\u043e\\u043c\", \"\\u043f\\u043e\\u043a\\u0430\", \"\\u043f\\u0440\\u0438\\u0439\\u0442\\u0438\", \"\\u0441\\u043a\\u043e\\u0440\\u043e\", \"\\u044d\\u043a\\u0437\\u0430\\u043c\\u0435\\u043d\", \"\\u043a\\u0430\\u0436\\u0434\\u044b\\u0439\", \"\\u043a\\u0430\\u043d\\u0438\\u043a\\u0443\\u043b\\u044b\", \"\\u0444\\u0438\\u043b\\u044c\\u043c\", \"\\u0437\\u0430\\u0432\\u0442\\u0440\\u0430\", \"\\u0434\\u0435\\u043b\\u043e\", \"\\u0436\\u0430\\u043b\\u044c\", \"\\u0432\\u0440\\u0435\\u043c\\u044f\", \"\\u0443\\u0442\\u0440\\u043e\", \"\\u043d\\u043e\\u0447\\u044c\", \"\\u0431\\u043e\\u043b\\u044c\\u0448\", \"\\u0436\\u0430\\u043b\\u043a\\u043e\", \"\\u043d\\u0440\\u0430\\u0432\\u0438\\u0442\\u044c\\u0441\\u044f\", \"\\u0434\\u0440\\u0443\\u0433\", \"\\u043c\\u0438\\u043d\\u0443\\u0442\\u0430\", \"\\u043f\\u0440\\u043e\\u0441\\u043d\\u0443\\u0442\\u044c\\u0441\\u044f\", \"\\u043c\\u0435\\u0441\\u044f\\u0446\", \"\\u0431\\u043e\\u0433\", \"\\u0441\\u0442\\u043e\\u043b\\u044c\\u043a\\u043e\", \"\\u0434\\u043e\\u0431\\u0440\\u044b\\u0439\", \"\\u0443\\u0447\\u0438\\u0442\\u044c\\u0441\\u044f\", \"\\u0443\\u0447\\u0451\\u0431\\u0430\", \"\\u0441\\u043b\\u0438\\u0448\\u043a\\u043e\\u043c\", \"\\u043f\\u043e\\u0433\\u043e\\u0434\\u0430\", \"\\u043f\\u044b\\u0442\\u0430\\u0442\\u044c\\u0441\\u044f\", \"\\u0446\\u0435\\u043b\\u044b\\u0439\", \"\\u0434\\u0443\\u0448\\u0430\", \"\\u0443\\u0440\\u043e\\u043a\", \"\\u0447\\u0435\\u0440\\u0442\\u0430\", \"\\u043b\\u0435\\u0442\\u043e\", \"\\u0431\\u043e\\u043b\\u044c\\u043d\\u0438\\u0446\\u0430\", \"\\u0440\\u044f\\u0434\\u043e\\u043c\", \"\\u044f\\u043d\\u0432\\u0430\\u0440\\u044c\", \"\\u0434\\u043e\\u0436\\u0434\\u044c\", \"\\u043d\\u043e\\u0440\\u043c\\u0430\", \"\\u0441\\u043e\\u0436\\u0430\\u043b\\u0435\\u043d\\u0438\\u0435\", \"\\u043f\\u043e\\u043a\\u0430\", \"\\u043f\\u043e\\u0441\\u043b\\u0435\\u0434\\u043d\\u0438\\u0439\", \"\\u0432\\u0442\\u043e\\u0440\", \"\\u043b\\u0435\\u043d\\u0442\\u0430\", \"\\u043f\\u043e\\u043d\\u0435\\u0434\\u0435\\u043b\\u044c\\u043d\\u0438\\u043a\", \"\\u043e\\u0441\\u0442\\u0430\\u0442\\u044c\\u0441\\u044f\", \"\\u043d\\u0430\\u0439\\u0442\\u0438\", \"\\u0448\\u043a\\u043e\\u043b\\u0430\", \"\\u0434\\u0435\\u043d\\u044c\", \"\\u0441\\u0435\\u0433\\u043e\\u0434\\u043d\\u044f\", \"\\u0441\\u043d\\u043e\\u0432\\u0430\", \"\\u043d\\u0435\\u0434\\u0435\\u043b\\u044f\", \"\\u043f\\u0430\\u0440\\u0430\", \"\\u0434\\u043e\\u043c\", \"\\u0447\\u0435\\u043b\\u043e\\u0432\\u0435\\u043a\", \"\\u0438\\u0434\\u0442\\u0438\", \"\\u043d\\u043e\\u0432\\u044b\\u0439\", \"\\u043d\\u0430\\u0441\\u0442\\u0440\\u043e\\u0435\\u043d\\u0438\\u0435\", \"\\u0433\\u043e\\u043b\\u043e\\u0432\\u0430\", \"\\u043b\\u044e\\u0431\\u0438\\u043c\\u044b\\u0439\", \"\\u0445\\u043e\\u0440\\u043e\\u0448\\u0438\\u0439\", \"\\u0444\\u0438\\u043b\\u044c\\u043c\", \"\\u043a\\u0430\\u043d\\u0438\\u043a\\u0443\\u043b\\u044b\", \"\\u0432\\u0440\\u043e\\u0434\\u0435\", \"\\u043c\\u0430\\u043b\\u043e\", \"\\u0447\\u0443\\u0432\\u0441\\u0442\\u0432\\u043e\", \"\\u043f\\u0430\\u0440\\u0435\\u043d\\u044c\", \"\\u043d\\u043e\\u0433\\u0430\", \"\\u0434\\u043e\\u043b\\u0433\\u043e\", \"\\u0442\\u0432\\u0438\\u0442\", \"\\u043f\\u0430\\u043f\\u0430\", \"\\u0437\\u0438\\u043c\\u0430\", \"\\u043f\\u043e\\u043b\\u0443\\u0447\\u0438\\u0442\\u044c\\u0441\\u044f\", \"\\u043d\\u0435\\u0447\\u0435\\u0433\\u043e\", \"\\u043b\\u0435\\u043d\\u044c\", \"\\u044d\\u043a\\u0437\\u0430\\u043c\\u0435\\u043d\", \"\\u0441\\u0435\\u0440\\u0438\\u0430\\u043b\", \"\\u043b\\u0430\\u0434\\u043d\\u044b\\u0439\", \"\\u043d\\u043e\\u0432\\u043e\\u0433\\u043e\\u0434\\u043d\\u0438\\u0439\", \"\\u043d\\u0430\\u0432\\u0435\\u0440\\u043d\\u043e\\u0435\", \"\\u0430\\u0445\\u0438\", \"\\u0431\\u0440\\u0430\\u0442\", \"\\u0436\\u043e\\u043f\\u0430\", \"\\u0451\\u043b\\u043a\\u0430\", \"\\u043b\\u0435\\u0447\\u044c\", \"\\u043d\\u0430\\u0434\\u0435\\u044f\\u0442\\u044c\\u0441\\u044f\", \"\\u0447\\u0430\\u0441\", \"\\u0440\\u0443\\u043a\\u0430\", \"\\u0432\\u0435\\u0447\\u0435\\u0440\", \"\\u043c\\u0430\\u043b\\u0435\\u043d\\u044c\\u043a\\u0438\\u0439\", \"\\u0433\\u043e\\u0434\", \"\\u043f\\u043e\\u0436\\u0430\\u043b\\u0443\\u0439\\u0441\\u0442\\u0430\", \"\\u0441\\u0435\\u0440\\u0434\\u0446\\u0435\", \"\\u0440\\u0435\\u0431\\u0451\\u043d\\u043e\\u043a\", \"\\u0432\\u0447\\u0435\\u0440\\u0430\", \"\\u0441\\u043d\\u0435\\u0433\", \"\\u0434\\u0435\\u043d\\u044c\\u0433\\u0430\", \"\\u0441\\u0430\\u043c\\u044b\\u0439\", \"\\u0447\\u0435\\u043b\\u043e\\u0432\\u0435\\u043a\", \"\\u0443\\u043b\\u0438\\u0446\\u0430\", \"\\u0434\\u0435\\u043d\\u044c\", \"\\u0442\\u0435\\u043b\\u0435\\u0444\\u043e\\u043d\", \"\\u0441\\u0435\\u0433\\u043e\\u0434\\u043d\\u044f\", \"\\u0437\\u0430\\u0432\\u0442\\u0440\\u0430\", \"\\u043a\\u0430\\u0437\\u0430\\u0442\\u044c\\u0441\\u044f\", \"\\u0434\\u0435\\u043b\\u043e\", \"\\u0431\\u043e\\u043b\\u044c\", \"\\u0437\\u0430\\u043a\\u043e\\u043d\\u0447\\u0438\\u0442\\u044c\\u0441\\u044f\", \"\\u0442\\u0432\\u0438\\u0442\\u0442\\u0435\\u0440\", \"\\u043f\\u0440\\u0430\\u0432\\u0434\\u0430\", \"\\u0443\\u0436\\u0430\\u0441\\u043d\\u044b\\u0439\", \"\\u043f\\u0440\\u0438\\u0439\\u0442\\u0438\", \"\\u043a\\u043e\\u043d\\u0435\\u0446\", \"\\u0444\\u043e\\u0442\\u043a\\u0430\", \"\\u0441\\u043a\\u043e\\u0440\\u043e\", \"\\u0433\\u043e\\u0440\\u043e\\u0434\", \"\\u0443\\u0436\\u0430\\u0441\", \"\\u043f\\u043e\\u043b\\u0443\\u0447\\u0430\\u0442\\u044c\\u0441\\u044f\", \"\\u0441\\u043b\\u0435\\u0437\\u0430\", \"\\u0442\\u0435\\u043c\\u043f\\u0435\\u0440\\u0430\\u0442\\u0443\\u0440\\u0430\", \"\\u043f\\u0435\\u0447\\u0430\\u043b\\u044c\", \"\\u0441\\u043e\\u0441\\u043a\\u0443\\u0447\\u0438\\u0442\\u044c\\u0441\\u044f\", \"\\u0441\\u0435\\u0437\\u043e\\u043d\", \"\\u0441\\u0435\\u0441\\u0441\\u0438\\u044f\", \"\\u043c\\u0430\\u043c\\u0430\", \"\\u043a\\u0430\\u0442\\u043e\\u043a\", \"\\u043b\\u0438\\u0448\\u044c\", \"\\u0440\\u043e\\u0441\\u0441\\u0438\\u044f\", \"\\u0448\\u0435\\u0440\\u043b\\u043e\\u043a\", \"\\u043d\\u0430\\u0437\\u044b\\u0432\\u0430\\u0442\\u044c\\u0441\\u044f\", \"\\u043d\\u0430\\u0447\\u0430\\u0442\\u044c\\u0441\\u044f\", \"\\u043f\\u0440\\u0430\\u0437\\u0434\\u043d\\u0438\\u043a\", \"\\u043f\\u0440\\u0438\\u0432\\u0435\\u0442\", \"\\u0444\\u0438\\u0437\\u0438\\u043a\\u0430\", \"\\u0433\\u043e\\u0440\\u043b\\u043e\", \"\\u0440\\u0430\\u0431\\u043e\\u0442\\u0430\", \"\\u043f\\u0440\\u0438\\u0439\\u0442\\u0438\\u0441\\u044c\", \"\\u043a\\u0430\\u0436\\u0434\\u044b\\u0439\", \"\\u0434\\u0435\\u0432\\u0443\\u0448\\u043a\\u0430\", \"\\u0438\\u0441\\u0442\\u043e\\u0440\\u0438\\u044f\", \"\\u0431\\u043e\\u044f\\u0442\\u044c\\u0441\\u044f\", \"\\u0443\\u0439\\u0442\\u0438\", \"\\u0432\\u043e\\u043f\\u0440\\u043e\\u0441\", \"\\u043d\\u0438\\u043a\\u0442\\u043e\", \"\\u0434\\u043e\\u043b\\u0436\\u043d\\u044b\\u0439\", \"\\u043d\\u0443\\u0436\\u043d\\u044b\\u0439\", \"\\u0437\\u0430\\u0432\\u0442\\u0440\\u0430\", \"\\u0436\\u0438\\u0437\\u043d\\u044c\", \"\\u0434\\u043e\\u043c\", \"\\u043f\\u0440\\u043e\\u0431\\u043b\\u0435\\u043c\\u0430\", \"\\u0438\\u0434\\u0442\\u0438\", \"\\u0447\\u0435\\u043b\\u043e\\u0432\\u0435\\u043a\", \"\\u0441\\u0435\\u0433\\u043e\\u0434\\u043d\\u044f\"], \"Freq\": [4958.0, 4589.0, 4217.0, 4090.0, 9085.0, 5071.0, 3233.0, 3142.0, 2962.0, 2951.0, 2968.0, 2874.0, 3214.0, 2748.0, 2708.0, 2527.0, 2518.0, 2546.0, 2501.0, 2423.0, 5763.0, 2316.0, 2164.0, 2086.0, 2129.0, 2123.0, 2009.0, 1876.0, 7719.0, 1790.0, 3141.6687678642816, 4216.178969465635, 3232.671038056854, 2422.986049073248, 4587.053681496903, 1768.1615291815094, 1756.6601377221862, 2949.787760757603, 1458.5170198979274, 1312.8978470467805, 1305.4149945163883, 1251.035137249651, 1271.9624123236997, 1051.949316687226, 1048.6691272543142, 1385.314808948161, 1055.4455914651144, 1119.7233387057015, 954.2927527227336, 919.709659715288, 926.4350555246227, 2544.3468048173327, 882.4742522698205, 981.5510041607843, 860.7332989125565, 853.474464120566, 799.7938733895426, 775.661737669778, 801.234963462192, 743.9833481729036, 2313.1090829811787, 2739.715980606429, 1877.562667469447, 1174.8488409543822, 936.4913038635611, 1992.269592647067, 1974.1466792017982, 4401.5366541429285, 6084.278696883919, 5654.7431827664595, 1515.0426764371302, 1636.982786404644, 1138.6782849503586, 2035.2518164765065, 1969.1711578018658, 1268.105879502819, 4089.2638059732603, 2874.0853635844082, 2500.5502097888907, 2526.924016568452, 4956.003420080271, 1875.2580082084262, 2008.9314930274809, 1686.7542401110509, 1520.5064794307839, 1429.0337329693098, 1454.2566785399758, 1288.29058993194, 1218.4387937471986, 1316.459293573904, 1160.4564768138296, 1072.8287210465667, 1198.6603955179537, 979.8733688268838, 990.8296872490739, 2127.524989495614, 962.3023610729718, 867.145028507664, 783.038058534147, 1194.0673105052178, 786.9084307943276, 770.1096327243397, 728.4471447181087, 697.8746168487636, 758.7241298635253, 1413.4342570573012, 2958.2890827923798, 1648.8900084870877, 1503.2978928127197, 1576.0769144967815, 2677.051202247626, 915.4387240075969, 906.7520125523787, 1102.6823923196375, 1869.584739000424, 1591.990753477553, 1310.3337605441625, 2440.2815950628556, 3196.8431119075653, 1461.6111167773754, 2993.042374725245, 1464.1950868131103, 2669.664188122837, 2055.575329184836, 1316.263723140426, 1789.7090339630593, 1545.2663550202756, 1596.7470051728433, 1452.7533596735466, 1536.2723431292143, 1414.537788332753, 2163.5007383345296, 1278.436182868749, 1409.858167984153, 2085.4897060785083, 1312.5916983999364, 1168.5046692599797, 961.7108621367249, 1010.358800362639, 929.3812100363498, 916.8175186890996, 832.5144269237559, 855.0841978157101, 866.0640150702044, 2959.363264818759, 800.6906964102494, 822.4127750593138, 767.6900177525599, 884.5049831815137, 736.7035411663405, 1022.7832019285682, 830.3392727600907, 671.1882950861758, 633.1697609823757, 632.7121586951514, 2509.4379658803523, 1721.4929579006825, 2107.8993105579366, 911.2847063399267, 970.5457177748347, 1629.6650752253336, 1280.2930806464872, 946.5116644597438, 3097.630540170424, 1140.1510613646024, 1363.654591448494, 4967.35285490601, 2810.9782311694375, 3713.4413261856753, 1006.8524242397823, 1233.4203295127338, 1227.0931388982115, 1070.546240367267], \"Total\": [4958.0, 4589.0, 4217.0, 4090.0, 9085.0, 5071.0, 3233.0, 3142.0, 2962.0, 2951.0, 2968.0, 2874.0, 3214.0, 2748.0, 2708.0, 2527.0, 2518.0, 2546.0, 2501.0, 2423.0, 5763.0, 2316.0, 2164.0, 2086.0, 2129.0, 2123.0, 2009.0, 1876.0, 7719.0, 1790.0, 3142.4636992153382, 4217.247850503091, 3233.495528389112, 2423.797697679367, 4589.046447231333, 1768.9613696237352, 1757.4785262660441, 2951.2592413800485, 1459.3471902085175, 1313.6769611818977, 1306.2155830925644, 1251.8327223567735, 1272.7733899571422, 1052.6988939073703, 1049.4288333334976, 1386.3331962863274, 1056.2324944322288, 1120.6112388987378, 955.095260428737, 920.4831171182973, 927.2231109158324, 2546.5315475734005, 883.257376296604, 982.4406290277053, 861.5290526997657, 854.2904717071457, 800.5941888956146, 776.4453028368056, 802.061262225792, 744.7575456842884, 2316.096464719496, 2748.9049061046735, 1885.9031926962878, 1177.0368103920819, 938.8158185641902, 2062.211372726697, 2076.9953161533203, 5071.890817123594, 9085.929772511296, 9394.953611256564, 1999.7999059105412, 2278.979143944818, 1294.267710921624, 5763.722802238321, 6393.107408607642, 3311.2654447311515, 4090.1031475585464, 2874.8737775696522, 2501.333556236338, 2527.8159885644745, 4958.135515502675, 1876.0936051384488, 2009.832677717459, 1687.5339652016307, 1521.2858382308418, 1429.8071772637347, 1455.052448010782, 1289.0818563659705, 1219.2189285965205, 1317.406267738005, 1161.31430840515, 1073.6290163785986, 1199.5579790288448, 980.6453258400726, 991.6290386915167, 2129.2749510068193, 963.1176791147738, 867.9021503408715, 783.7519141237856, 1195.229278693827, 787.6801971756423, 770.8936527556734, 729.2040166954735, 698.6070238113543, 759.5244824962704, 1414.9356890407778, 2968.861401820838, 1651.119784377906, 1506.3279264010398, 1580.2709880536602, 2708.1835917062094, 916.5488140271777, 908.64341074694, 1122.7395430174872, 2011.3922157772213, 1762.0510775276753, 1401.9764689954834, 3398.8267165742973, 6393.107408607642, 1877.415085437448, 9085.929772511296, 1962.5672843530385, 9394.953611256564, 7719.174678135955, 1843.1832055441962, 1790.5016168285335, 1546.0541983404974, 1597.5735551634868, 1453.5565729686157, 1537.2039740180098, 1415.4151400693706, 2164.8692448551415, 1279.2573833489187, 1410.7642322089325, 2086.8381569038206, 1313.5600243688123, 1169.4704314165544, 962.5088285454693, 1011.2069642141396, 930.1808201441378, 917.6095100361455, 833.2900667842599, 855.8819028531641, 866.8781450016326, 2962.223189269165, 801.4711178363979, 823.2232235542589, 768.4745027964743, 885.4106454373745, 737.4935459334114, 1023.9211388875689, 831.2859196437693, 671.9724402056319, 633.9493859601484, 633.4961287021259, 2518.8430228517855, 1725.7766114741567, 2123.699477238124, 912.5770412987042, 973.5749451131016, 1644.6710439598717, 1291.0546651743757, 949.4272115790646, 3214.3609474218338, 1160.811976135236, 1437.2369255969843, 7719.174678135955, 3913.3379886193898, 5763.722802238321, 1053.0533795348501, 3311.2654447311515, 6393.107408607642, 9394.953611256564], \"Category\": [\"Default\", \"Default\", \"Default\", \"Default\", \"Default\", \"Default\", \"Default\", \"Default\", \"Default\", \"Default\", \"Default\", \"Default\", \"Default\", \"Default\", \"Default\", \"Default\", \"Default\", \"Default\", \"Default\", \"Default\", \"Default\", \"Default\", \"Default\", \"Default\", \"Default\", \"Default\", \"Default\", \"Default\", \"Default\", \"Default\", \"Topic1\", \"Topic1\", \"Topic1\", \"Topic1\", \"Topic1\", \"Topic1\", \"Topic1\", \"Topic1\", \"Topic1\", \"Topic1\", \"Topic1\", \"Topic1\", \"Topic1\", \"Topic1\", \"Topic1\", \"Topic1\", \"Topic1\", \"Topic1\", \"Topic1\", \"Topic1\", \"Topic1\", \"Topic1\", \"Topic1\", \"Topic1\", \"Topic1\", \"Topic1\", \"Topic1\", \"Topic1\", \"Topic1\", \"Topic1\", \"Topic1\", \"Topic1\", \"Topic1\", \"Topic1\", \"Topic1\", \"Topic1\", \"Topic1\", \"Topic1\", \"Topic1\", \"Topic1\", \"Topic1\", \"Topic1\", \"Topic1\", \"Topic1\", \"Topic1\", \"Topic1\", \"Topic2\", \"Topic2\", \"Topic2\", \"Topic2\", \"Topic2\", \"Topic2\", \"Topic2\", \"Topic2\", \"Topic2\", \"Topic2\", \"Topic2\", \"Topic2\", \"Topic2\", \"Topic2\", \"Topic2\", \"Topic2\", \"Topic2\", \"Topic2\", \"Topic2\", \"Topic2\", \"Topic2\", \"Topic2\", \"Topic2\", \"Topic2\", \"Topic2\", \"Topic2\", \"Topic2\", \"Topic2\", \"Topic2\", \"Topic2\", \"Topic2\", \"Topic2\", \"Topic2\", \"Topic2\", \"Topic2\", \"Topic2\", \"Topic2\", \"Topic2\", \"Topic2\", \"Topic2\", \"Topic2\", \"Topic2\", \"Topic2\", \"Topic2\", \"Topic2\", \"Topic2\", \"Topic2\", \"Topic2\", \"Topic2\", \"Topic3\", \"Topic3\", \"Topic3\", \"Topic3\", \"Topic3\", \"Topic3\", \"Topic3\", \"Topic3\", \"Topic3\", \"Topic3\", \"Topic3\", \"Topic3\", \"Topic3\", \"Topic3\", \"Topic3\", \"Topic3\", \"Topic3\", \"Topic3\", \"Topic3\", \"Topic3\", \"Topic3\", \"Topic3\", \"Topic3\", \"Topic3\", \"Topic3\", \"Topic3\", \"Topic3\", \"Topic3\", \"Topic3\", \"Topic3\", \"Topic3\", \"Topic3\", \"Topic3\", \"Topic3\", \"Topic3\", \"Topic3\", \"Topic3\", \"Topic3\", \"Topic3\", \"Topic3\", \"Topic3\", \"Topic3\", \"Topic3\", \"Topic3\", \"Topic3\", \"Topic3\", \"Topic3\", \"Topic3\"], \"logprob\": [30.0, 29.0, 28.0, 27.0, 26.0, 25.0, 24.0, 23.0, 22.0, 21.0, 20.0, 19.0, 18.0, 17.0, 16.0, 15.0, 14.0, 13.0, 12.0, 11.0, 10.0, 9.0, 8.0, 7.0, 6.0, 5.0, 4.0, 3.0, 2.0, 1.0, -4.3714, -4.0772, -4.3429, -4.6312, -3.9929, -4.9462, -4.9528, -4.4344, -5.1388, -5.2439, -5.2497, -5.2922, -5.2756, -5.4655, -5.4687, -5.1902, -5.4622, -5.4031, -5.563, -5.5999, -5.5926, -4.5823, -5.6412, -5.5348, -5.6661, -5.6746, -5.7396, -5.7702, -5.7378, -5.8119, -4.6776, -4.5083, -4.8862, -5.355, -5.5818, -4.8269, -4.836, -4.0342, -3.7105, -3.7837, -5.1007, -5.0233, -5.3863, -4.8056, -4.8386, -5.2786, -4.1018, -4.4544, -4.5937, -4.5832, -3.9096, -4.8814, -4.8126, -4.9874, -5.0911, -5.1532, -5.1357, -5.2569, -5.3126, -5.2352, -5.3614, -5.4399, -5.329, -5.5305, -5.5194, -4.7552, -5.5486, -5.6527, -5.7548, -5.3328, -5.7498, -5.7714, -5.827, -5.8699, -5.7863, -5.1642, -4.4256, -5.0101, -5.1025, -5.0552, -4.5255, -5.5985, -5.6081, -5.4124, -4.8845, -5.0452, -5.2399, -4.6181, -4.348, -5.1306, -4.4139, -5.1289, -4.5282, -4.7896, -5.2354, -4.9029, -5.0497, -5.017, -5.1115, -5.0556, -5.1381, -4.7132, -5.2393, -5.1414, -4.7499, -5.2129, -5.3292, -5.524, -5.4746, -5.5582, -5.5718, -5.6682, -5.6415, -5.6287, -4.4, -5.7072, -5.6804, -5.7493, -5.6077, -5.7905, -5.4624, -5.6709, -5.8836, -5.942, -5.9427, -4.5649, -4.9417, -4.7392, -5.5778, -5.5148, -4.9966, -5.2378, -5.5399, -4.3543, -5.3538, -5.1748, -3.882, -4.4514, -4.173, -5.4781, -5.2751, -5.2803, -5.4168], \"loglift\": [30.0, 29.0, 28.0, 27.0, 26.0, 25.0, 24.0, 23.0, 22.0, 21.0, 20.0, 19.0, 18.0, 17.0, 16.0, 15.0, 14.0, 13.0, 12.0, 11.0, 10.0, 9.0, 8.0, 7.0, 6.0, 5.0, 4.0, 3.0, 2.0, 1.0, 1.086, 1.086, 1.086, 1.086, 1.0859, 1.0858, 1.0858, 1.0858, 1.0857, 1.0857, 1.0857, 1.0857, 1.0857, 1.0856, 1.0856, 1.0856, 1.0855, 1.0855, 1.0855, 1.0855, 1.0854, 1.0854, 1.0854, 1.0854, 1.0854, 1.0853, 1.0853, 1.0853, 1.0853, 1.0853, 1.085, 1.0829, 1.0819, 1.0844, 1.0838, 1.0518, 1.0355, 0.9445, 0.6853, 0.5786, 0.8087, 0.7554, 0.9582, 0.0453, -0.0913, 0.1265, 1.0921, 1.092, 1.092, 1.0919, 1.0919, 1.0918, 1.0918, 1.0918, 1.0918, 1.0917, 1.0917, 1.0917, 1.0916, 1.0916, 1.0915, 1.0915, 1.0915, 1.0915, 1.0915, 1.0915, 1.0914, 1.0914, 1.0914, 1.0913, 1.0913, 1.0913, 1.0912, 1.0912, 1.0912, 1.0912, 1.0887, 1.0909, 1.0903, 1.0896, 1.0807, 1.0911, 1.0902, 1.0743, 1.0192, 0.9908, 1.0247, 0.761, 0.3992, 0.8419, -0.0181, 0.7993, -0.1659, -0.2309, 0.7556, 1.1171, 1.117, 1.117, 1.117, 1.1169, 1.1169, 1.1169, 1.1169, 1.1169, 1.1169, 1.1168, 1.1167, 1.1167, 1.1167, 1.1167, 1.1167, 1.1166, 1.1166, 1.1166, 1.1166, 1.1166, 1.1165, 1.1165, 1.1165, 1.1165, 1.1164, 1.1164, 1.1164, 1.1163, 1.1163, 1.1138, 1.115, 1.1101, 1.1161, 1.1144, 1.1084, 1.1092, 1.1145, 1.0805, 1.0996, 1.065, 0.6767, 0.7867, 0.6779, 1.0727, 0.13, -0.533, -1.0545]}, \"token.table\": {\"Topic\": [2, 1, 3, 1, 1, 2, 3, 2, 3, 2, 1, 2, 3, 2, 3, 1, 3, 2, 1, 2, 3, 1, 2, 3, 2, 3, 2, 3, 2, 3, 1, 2, 3, 3, 1, 2, 3, 1, 2, 3, 1, 1, 2, 1, 2, 3, 1, 2, 3, 1, 2, 1, 1, 1, 1, 2, 3, 2, 1, 2, 3, 3, 2, 1, 2, 3, 1, 3, 1, 2, 3, 1, 2, 3, 1, 2, 3, 3, 2, 1, 3, 2, 1, 2, 2, 3, 2, 1, 2, 2, 2, 3, 1, 1, 2, 3, 1, 2, 3, 3, 1, 2, 3, 2, 1, 3, 1, 2, 3, 2, 1, 2, 3, 2, 2, 2, 1, 1, 1, 1, 3, 1, 2, 3, 2, 1, 2, 3, 2, 3, 1, 2, 2, 3, 1, 3, 3, 2, 3, 1, 2, 1, 2, 3, 2, 3, 3, 3, 1, 3, 1, 3, 1, 2, 3, 1, 1, 1, 2, 3, 1, 2, 3, 3, 2, 3, 1, 1, 2, 3, 1, 2, 3, 3, 2, 3, 2, 3, 2, 3, 3, 1, 1, 2, 1, 2, 3, 1, 3, 1, 1, 2, 3, 1, 2, 3, 3, 1, 3, 3, 1, 3, 1, 2, 3, 1, 2, 3, 1, 1, 1, 2, 3, 3, 2, 3, 1, 2, 3, 1, 1, 2, 1, 2, 3, 1, 2, 3, 1, 3, 2, 3, 1, 2], \"Freq\": [0.9991364551526352, 0.9993347974198935, 0.9993181362324627, 0.9993859142670722, 0.999554058287519, 0.00021791019365326335, 0.00021791019365326335, 0.009120364862680702, 0.9910796484113028, 0.998840757408653, 0.0013277321391620583, 0.9977907025802868, 0.0006638660695810291, 0.0021065332609054334, 0.9974434990387228, 0.9997041078572267, 0.00023712146770807086, 0.9996835825455123, 0.9958093327765205, 0.0005302499109566136, 0.0037117493766962955, 0.0004971680769946653, 0.9297043039800241, 0.07010069885624781, 0.9884854218149357, 0.0114467867300198, 0.9998666486380808, 0.9992168401989411, 0.0007612899155335645, 0.9995736590955702, 0.0010957978940352067, 0.0010957978940352067, 0.9982718814660734, 0.9997198456433555, 0.6696067603787366, 0.3294104263335895, 0.0009905425449389595, 0.020685083267323674, 0.9343951406963452, 0.0442232814680713, 0.999336093244312, 0.9994264852460584, 0.9990002381295674, 0.012060523398984113, 0.005168795742421762, 0.9820711910601349, 0.35307041469963046, 0.0026024846292356054, 0.6442016952234535, 0.9995733206482195, 0.00033883841377905746, 0.9986808882334433, 0.9994565344160456, 0.9998524408681462, 0.06669498028512476, 0.21490604758540202, 0.7183126037604817, 0.9983488616794383, 0.0901650796906272, 0.26634971816656544, 0.6434625730220479, 0.9996409835643354, 0.9994141212942248, 0.3829351712100362, 0.2446194705679253, 0.37236519408673074, 0.003081426874282889, 0.9973551649762284, 0.007063146250573802, 0.00047087641670492015, 0.9926074864139717, 0.2788653881252366, 0.7139821999471038, 0.007053015652972909, 0.0004975538566402886, 0.9995856979903398, 0.9994121836384202, 0.9990170990097185, 0.9989605391108697, 0.9982695440158721, 0.0016991822025802076, 0.9993656511992158, 0.9995514955156716, 0.0010178732133560812, 0.9993094593941901, 0.9985141046568419, 0.9996771962167476, 0.0025312114379360956, 0.9972973065468217, 0.9998121074793056, 0.0006751685717825459, 0.9989119019522766, 0.9990693855529679, 0.999762092111564, 0.9989715122313851, 0.0008366595579827347, 0.000706745902125012, 0.998631959702642, 0.000706745902125012, 0.9993307793185, 0.950411387376611, 0.003370253146725571, 0.04622061458366497, 0.9996960640232383, 0.0009766377136099, 0.9991003810229275, 0.7183040723955118, 0.030715507066393293, 0.25098957202824235, 0.9993419375761367, 0.00031110382945701145, 0.03608804421701333, 0.9637996636578215, 0.9990406222808066, 0.9997302885725009, 0.9991607543302019, 0.998676831464411, 0.9996708893320054, 0.9997277199926529, 0.05079190403466571, 0.9490432479901921, 0.9659533578103286, 0.03297431141119596, 0.000969832688564587, 0.9988682578044225, 0.8800343162304027, 0.03167814483357903, 0.08808069539092706, 0.9992766941066483, 0.9993357631656177, 0.9994545486628007, 0.0008923701327346436, 0.99831016744174, 0.001091049363324306, 0.9986630674643031, 0.0012952828371780845, 0.9994713518147794, 0.9995348461361605, 0.0008336404054513431, 0.997000669877403, 0.0021303433117038527, 0.9967605623297853, 0.0010913436813829766, 0.002182687362765953, 0.0006505317556434342, 0.999216776668315, 0.9984530958441828, 0.9985528570110193, 0.00046192166218653695, 0.9995984769716659, 0.0023177970853268223, 0.9972321959618653, 0.02658934536857764, 0.017093150594085626, 0.9562668137913458, 0.9994846821540597, 0.9988532448289552, 0.0003970076701595399, 0.003573069031435859, 0.9960922444302855, 0.0008906785248806584, 0.9824184129433662, 0.016922891972732508, 0.999382539310351, 0.9987161534868867, 0.0012112991552296988, 0.9984894228018639, 0.02236065746729241, 0.7178947923709668, 0.2597955334686736, 0.6019188847536684, 0.28419512330544555, 0.11399736968544276, 0.9989695974991127, 0.9981913578775758, 0.002201083479333133, 0.9988395196775943, 0.9989870029522651, 0.00047919384485650294, 0.9991191665258087, 0.9988064122807169, 0.9988331220268968, 0.09647847452783612, 0.9034925379312653, 0.7575757932192702, 0.08600860490674223, 0.15601560890060218, 0.9989828291251587, 0.999651901785678, 0.9993923584801154, 0.0007590672858396267, 0.9989325481649487, 0.9996170957643025, 0.24865389527822965, 0.7459616858346889, 0.005095366706521099, 0.9987305477402181, 0.0008550878869068297, 0.9995977397940838, 0.9997067008415988, 0.007745605410634843, 0.9914374925612599, 0.027697657488399117, 0.7787302932315291, 0.19388360241879382, 0.9990058840716846, 0.0007853819843330853, 0.00039269099216654267, 0.9998467514846513, 0.9995913650169728, 0.9990383291045049, 0.0007213273134328554, 0.0007213273134328554, 0.998502426248571, 0.9994170839155074, 0.9994582849554273, 0.00020168871884870538, 0.999569290614184, 0.00040337743769741077, 0.9994751483114543, 0.0033682946579678256, 0.9963415598268829, 0.30798794297573506, 0.5000698088844211, 0.1919254474511056, 0.9985764327246538, 0.999435464252404, 0.9995362090579207, 0.867920891581119, 0.13210063547463646, 0.9994012276309283, 0.0004696434340370904, 0.9992578151279936, 0.9991310940333199], \"Term\": [\"\\u0430\\u0445\\u0438\", \"\\u0431\\u043e\\u0433\", \"\\u0431\\u043e\\u043b\\u044c\", \"\\u0431\\u043e\\u043b\\u044c\\u043d\\u0438\\u0446\\u0430\", \"\\u0431\\u043e\\u043b\\u044c\\u0448\", \"\\u0431\\u043e\\u043b\\u044c\\u0448\", \"\\u0431\\u043e\\u043b\\u044c\\u0448\", \"\\u0431\\u043e\\u044f\\u0442\\u044c\\u0441\\u044f\", \"\\u0431\\u043e\\u044f\\u0442\\u044c\\u0441\\u044f\", \"\\u0431\\u0440\\u0430\\u0442\", \"\\u0432\\u0435\\u0447\\u0435\\u0440\", \"\\u0432\\u0435\\u0447\\u0435\\u0440\", \"\\u0432\\u0435\\u0447\\u0435\\u0440\", \"\\u0432\\u043e\\u043f\\u0440\\u043e\\u0441\", \"\\u0432\\u043e\\u043f\\u0440\\u043e\\u0441\", \"\\u0432\\u0440\\u0435\\u043c\\u044f\", \"\\u0432\\u0440\\u0435\\u043c\\u044f\", \"\\u0432\\u0440\\u043e\\u0434\\u0435\", \"\\u0432\\u0442\\u043e\\u0440\", \"\\u0432\\u0442\\u043e\\u0440\", \"\\u0432\\u0442\\u043e\\u0440\", \"\\u0432\\u0447\\u0435\\u0440\\u0430\", \"\\u0432\\u0447\\u0435\\u0440\\u0430\", \"\\u0432\\u0447\\u0435\\u0440\\u0430\", \"\\u0433\\u043e\\u0434\", \"\\u0433\\u043e\\u0434\", \"\\u0433\\u043e\\u043b\\u043e\\u0432\\u0430\", \"\\u0433\\u043e\\u0440\\u043b\\u043e\", \"\\u0433\\u043e\\u0440\\u043e\\u0434\", \"\\u0433\\u043e\\u0440\\u043e\\u0434\", \"\\u0434\\u0435\\u0432\\u0443\\u0448\\u043a\\u0430\", \"\\u0434\\u0435\\u0432\\u0443\\u0448\\u043a\\u0430\", \"\\u0434\\u0435\\u0432\\u0443\\u0448\\u043a\\u0430\", \"\\u0434\\u0435\\u043b\\u043e\", \"\\u0434\\u0435\\u043d\\u044c\", \"\\u0434\\u0435\\u043d\\u044c\", \"\\u0434\\u0435\\u043d\\u044c\", \"\\u0434\\u0435\\u043d\\u044c\\u0433\\u0430\", \"\\u0434\\u0435\\u043d\\u044c\\u0433\\u0430\", \"\\u0434\\u0435\\u043d\\u044c\\u0433\\u0430\", \"\\u0434\\u043e\\u0431\\u0440\\u044b\\u0439\", \"\\u0434\\u043e\\u0436\\u0434\\u044c\", \"\\u0434\\u043e\\u043b\\u0433\\u043e\", \"\\u0434\\u043e\\u043b\\u0436\\u043d\\u044b\\u0439\", \"\\u0434\\u043e\\u043b\\u0436\\u043d\\u044b\\u0439\", \"\\u0434\\u043e\\u043b\\u0436\\u043d\\u044b\\u0439\", \"\\u0434\\u043e\\u043c\", \"\\u0434\\u043e\\u043c\", \"\\u0434\\u043e\\u043c\", \"\\u0434\\u0440\\u0443\\u0433\", \"\\u0434\\u0440\\u0443\\u0433\", \"\\u0434\\u0443\\u0448\\u0430\", \"\\u0436\\u0430\\u043b\\u043a\\u043e\", \"\\u0436\\u0430\\u043b\\u044c\", \"\\u0436\\u0438\\u0437\\u043d\\u044c\", \"\\u0436\\u0438\\u0437\\u043d\\u044c\", \"\\u0436\\u0438\\u0437\\u043d\\u044c\", \"\\u0436\\u043e\\u043f\\u0430\", \"\\u0437\\u0430\\u0432\\u0442\\u0440\\u0430\", \"\\u0437\\u0430\\u0432\\u0442\\u0440\\u0430\", \"\\u0437\\u0430\\u0432\\u0442\\u0440\\u0430\", \"\\u0437\\u0430\\u043a\\u043e\\u043d\\u0447\\u0438\\u0442\\u044c\\u0441\\u044f\", \"\\u0437\\u0438\\u043c\\u0430\", \"\\u0438\\u0434\\u0442\\u0438\", \"\\u0438\\u0434\\u0442\\u0438\", \"\\u0438\\u0434\\u0442\\u0438\", \"\\u0438\\u0441\\u0442\\u043e\\u0440\\u0438\\u044f\", \"\\u0438\\u0441\\u0442\\u043e\\u0440\\u0438\\u044f\", \"\\u043a\\u0430\\u0436\\u0434\\u044b\\u0439\", \"\\u043a\\u0430\\u0436\\u0434\\u044b\\u0439\", \"\\u043a\\u0430\\u0436\\u0434\\u044b\\u0439\", \"\\u043a\\u0430\\u0437\\u0430\\u0442\\u044c\\u0441\\u044f\", \"\\u043a\\u0430\\u0437\\u0430\\u0442\\u044c\\u0441\\u044f\", \"\\u043a\\u0430\\u0437\\u0430\\u0442\\u044c\\u0441\\u044f\", \"\\u043a\\u0430\\u043d\\u0438\\u043a\\u0443\\u043b\\u044b\", \"\\u043a\\u0430\\u043d\\u0438\\u043a\\u0443\\u043b\\u044b\", \"\\u043a\\u0430\\u0442\\u043e\\u043a\", \"\\u043a\\u043e\\u043d\\u0435\\u0446\", \"\\u043b\\u0430\\u0434\\u043d\\u044b\\u0439\", \"\\u043b\\u0435\\u043d\\u0442\\u0430\", \"\\u043b\\u0435\\u043d\\u0442\\u0430\", \"\\u043b\\u0435\\u043d\\u044c\", \"\\u043b\\u0435\\u0442\\u043e\", \"\\u043b\\u0435\\u0442\\u043e\", \"\\u043b\\u0435\\u0447\\u044c\", \"\\u043b\\u0438\\u0448\\u044c\", \"\\u043b\\u044e\\u0431\\u0438\\u043c\\u044b\\u0439\", \"\\u043c\\u0430\\u043b\\u0435\\u043d\\u044c\\u043a\\u0438\\u0439\", \"\\u043c\\u0430\\u043b\\u0435\\u043d\\u044c\\u043a\\u0438\\u0439\", \"\\u043c\\u0430\\u043b\\u043e\", \"\\u043c\\u0430\\u043c\\u0430\", \"\\u043c\\u0430\\u043c\\u0430\", \"\\u043c\\u0435\\u0441\\u044f\\u0446\", \"\\u043c\\u0438\\u043d\\u0443\\u0442\\u0430\", \"\\u043d\\u0430\\u0432\\u0435\\u0440\\u043d\\u043e\\u0435\", \"\\u043d\\u0430\\u0432\\u0435\\u0440\\u043d\\u043e\\u0435\", \"\\u043d\\u0430\\u0434\\u0435\\u044f\\u0442\\u044c\\u0441\\u044f\", \"\\u043d\\u0430\\u0434\\u0435\\u044f\\u0442\\u044c\\u0441\\u044f\", \"\\u043d\\u0430\\u0434\\u0435\\u044f\\u0442\\u044c\\u0441\\u044f\", \"\\u043d\\u0430\\u0437\\u044b\\u0432\\u0430\\u0442\\u044c\\u0441\\u044f\", \"\\u043d\\u0430\\u0439\\u0442\\u0438\", \"\\u043d\\u0430\\u0439\\u0442\\u0438\", \"\\u043d\\u0430\\u0439\\u0442\\u0438\", \"\\u043d\\u0430\\u0441\\u0442\\u0440\\u043e\\u0435\\u043d\\u0438\\u0435\", \"\\u043d\\u0430\\u0447\\u0430\\u0442\\u044c\\u0441\\u044f\", \"\\u043d\\u0430\\u0447\\u0430\\u0442\\u044c\\u0441\\u044f\", \"\\u043d\\u0435\\u0434\\u0435\\u043b\\u044f\", \"\\u043d\\u0435\\u0434\\u0435\\u043b\\u044f\", \"\\u043d\\u0435\\u0434\\u0435\\u043b\\u044f\", \"\\u043d\\u0435\\u0447\\u0435\\u0433\\u043e\", \"\\u043d\\u0438\\u043a\\u0442\\u043e\", \"\\u043d\\u0438\\u043a\\u0442\\u043e\", \"\\u043d\\u0438\\u043a\\u0442\\u043e\", \"\\u043d\\u043e\\u0432\\u043e\\u0433\\u043e\\u0434\\u043d\\u0438\\u0439\", \"\\u043d\\u043e\\u0432\\u044b\\u0439\", \"\\u043d\\u043e\\u0433\\u0430\", \"\\u043d\\u043e\\u0440\\u043c\\u0430\", \"\\u043d\\u043e\\u0447\\u044c\", \"\\u043d\\u0440\\u0430\\u0432\\u0438\\u0442\\u044c\\u0441\\u044f\", \"\\u043d\\u0443\\u0436\\u043d\\u044b\\u0439\", \"\\u043d\\u0443\\u0436\\u043d\\u044b\\u0439\", \"\\u043e\\u0441\\u0442\\u0430\\u0442\\u044c\\u0441\\u044f\", \"\\u043e\\u0441\\u0442\\u0430\\u0442\\u044c\\u0441\\u044f\", \"\\u043e\\u0441\\u0442\\u0430\\u0442\\u044c\\u0441\\u044f\", \"\\u043f\\u0430\\u043f\\u0430\", \"\\u043f\\u0430\\u0440\\u0430\", \"\\u043f\\u0430\\u0440\\u0430\", \"\\u043f\\u0430\\u0440\\u0430\", \"\\u043f\\u0430\\u0440\\u0435\\u043d\\u044c\", \"\\u043f\\u0435\\u0447\\u0430\\u043b\\u044c\", \"\\u043f\\u043e\\u0433\\u043e\\u0434\\u0430\", \"\\u043f\\u043e\\u0433\\u043e\\u0434\\u0430\", \"\\u043f\\u043e\\u0436\\u0430\\u043b\\u0443\\u0439\\u0441\\u0442\\u0430\", \"\\u043f\\u043e\\u0436\\u0430\\u043b\\u0443\\u0439\\u0441\\u0442\\u0430\", \"\\u043f\\u043e\\u043a\\u0430\", \"\\u043f\\u043e\\u043a\\u0430\", \"\\u043f\\u043e\\u043b\\u0443\\u0447\\u0430\\u0442\\u044c\\u0441\\u044f\", \"\\u043f\\u043e\\u043b\\u0443\\u0447\\u0438\\u0442\\u044c\\u0441\\u044f\", \"\\u043f\\u043e\\u043b\\u0443\\u0447\\u0438\\u0442\\u044c\\u0441\\u044f\", \"\\u043f\\u043e\\u043d\\u0435\\u0434\\u0435\\u043b\\u044c\\u043d\\u0438\\u043a\", \"\\u043f\\u043e\\u043d\\u0435\\u0434\\u0435\\u043b\\u044c\\u043d\\u0438\\u043a\", \"\\u043f\\u043e\\u0441\\u043b\\u0435\\u0434\\u043d\\u0438\\u0439\", \"\\u043f\\u043e\\u0441\\u043b\\u0435\\u0434\\u043d\\u0438\\u0439\", \"\\u043f\\u043e\\u0441\\u043b\\u0435\\u0434\\u043d\\u0438\\u0439\", \"\\u043f\\u0440\\u0430\\u0432\\u0434\\u0430\", \"\\u043f\\u0440\\u0430\\u0432\\u0434\\u0430\", \"\\u043f\\u0440\\u0430\\u0437\\u0434\\u043d\\u0438\\u043a\", \"\\u043f\\u0440\\u0438\\u0432\\u0435\\u0442\", \"\\u043f\\u0440\\u0438\\u0439\\u0442\\u0438\", \"\\u043f\\u0440\\u0438\\u0439\\u0442\\u0438\", \"\\u043f\\u0440\\u0438\\u0439\\u0442\\u0438\\u0441\\u044c\", \"\\u043f\\u0440\\u0438\\u0439\\u0442\\u0438\\u0441\\u044c\", \"\\u043f\\u0440\\u043e\\u0431\\u043b\\u0435\\u043c\\u0430\", \"\\u043f\\u0440\\u043e\\u0431\\u043b\\u0435\\u043c\\u0430\", \"\\u043f\\u0440\\u043e\\u0431\\u043b\\u0435\\u043c\\u0430\", \"\\u043f\\u0440\\u043e\\u0441\\u043d\\u0443\\u0442\\u044c\\u0441\\u044f\", \"\\u043f\\u044b\\u0442\\u0430\\u0442\\u044c\\u0441\\u044f\", \"\\u0440\\u0430\\u0431\\u043e\\u0442\\u0430\", \"\\u0440\\u0430\\u0431\\u043e\\u0442\\u0430\", \"\\u0440\\u0430\\u0431\\u043e\\u0442\\u0430\", \"\\u0440\\u0435\\u0431\\u0451\\u043d\\u043e\\u043a\", \"\\u0440\\u0435\\u0431\\u0451\\u043d\\u043e\\u043a\", \"\\u0440\\u0435\\u0431\\u0451\\u043d\\u043e\\u043a\", \"\\u0440\\u043e\\u0441\\u0441\\u0438\\u044f\", \"\\u0440\\u0443\\u043a\\u0430\", \"\\u0440\\u0443\\u043a\\u0430\", \"\\u0440\\u044f\\u0434\\u043e\\u043c\", \"\\u0441\\u0430\\u043c\\u044b\\u0439\", \"\\u0441\\u0430\\u043c\\u044b\\u0439\", \"\\u0441\\u0430\\u043c\\u044b\\u0439\", \"\\u0441\\u0435\\u0433\\u043e\\u0434\\u043d\\u044f\", \"\\u0441\\u0435\\u0433\\u043e\\u0434\\u043d\\u044f\", \"\\u0441\\u0435\\u0433\\u043e\\u0434\\u043d\\u044f\", \"\\u0441\\u0435\\u0437\\u043e\\u043d\", \"\\u0441\\u0435\\u0440\\u0434\\u0446\\u0435\", \"\\u0441\\u0435\\u0440\\u0434\\u0446\\u0435\", \"\\u0441\\u0435\\u0440\\u0438\\u0430\\u043b\", \"\\u0441\\u0435\\u0441\\u0441\\u0438\\u044f\", \"\\u0441\\u043a\\u043e\\u0440\\u043e\", \"\\u0441\\u043a\\u043e\\u0440\\u043e\", \"\\u0441\\u043b\\u0435\\u0437\\u0430\", \"\\u0441\\u043b\\u0438\\u0448\\u043a\\u043e\\u043c\", \"\\u0441\\u043d\\u0435\\u0433\", \"\\u0441\\u043d\\u0435\\u0433\", \"\\u0441\\u043d\\u043e\\u0432\\u0430\", \"\\u0441\\u043d\\u043e\\u0432\\u0430\", \"\\u0441\\u043d\\u043e\\u0432\\u0430\", \"\\u0441\\u043e\\u0436\\u0430\\u043b\\u0435\\u043d\\u0438\\u0435\", \"\\u0441\\u043e\\u0441\\u043a\\u0443\\u0447\\u0438\\u0442\\u044c\\u0441\\u044f\", \"\\u0441\\u0442\\u043e\\u043b\\u044c\\u043a\\u043e\", \"\\u0442\\u0432\\u0438\\u0442\", \"\\u0442\\u0432\\u0438\\u0442\", \"\\u0442\\u0432\\u0438\\u0442\\u0442\\u0435\\u0440\", \"\\u0442\\u0435\\u043b\\u0435\\u0444\\u043e\\u043d\", \"\\u0442\\u0435\\u043b\\u0435\\u0444\\u043e\\u043d\", \"\\u0442\\u0435\\u043b\\u0435\\u0444\\u043e\\u043d\", \"\\u0442\\u0435\\u043c\\u043f\\u0435\\u0440\\u0430\\u0442\\u0443\\u0440\\u0430\", \"\\u0443\\u0436\\u0430\\u0441\", \"\\u0443\\u0436\\u0430\\u0441\", \"\\u0443\\u0436\\u0430\\u0441\\u043d\\u044b\\u0439\", \"\\u0443\\u0439\\u0442\\u0438\", \"\\u0443\\u0439\\u0442\\u0438\", \"\\u0443\\u043b\\u0438\\u0446\\u0430\", \"\\u0443\\u043b\\u0438\\u0446\\u0430\", \"\\u0443\\u043b\\u0438\\u0446\\u0430\", \"\\u0443\\u0440\\u043e\\u043a\", \"\\u0443\\u0440\\u043e\\u043a\", \"\\u0443\\u0440\\u043e\\u043a\", \"\\u0443\\u0442\\u0440\\u043e\", \"\\u0443\\u0447\\u0438\\u0442\\u044c\\u0441\\u044f\", \"\\u0443\\u0447\\u0451\\u0431\\u0430\", \"\\u0443\\u0447\\u0451\\u0431\\u0430\", \"\\u0443\\u0447\\u0451\\u0431\\u0430\", \"\\u0444\\u0438\\u0437\\u0438\\u043a\\u0430\", \"\\u0444\\u0438\\u043b\\u044c\\u043c\", \"\\u0444\\u043e\\u0442\\u043a\\u0430\", \"\\u0445\\u043e\\u0440\\u043e\\u0448\\u0438\\u0439\", \"\\u0445\\u043e\\u0440\\u043e\\u0448\\u0438\\u0439\", \"\\u0445\\u043e\\u0440\\u043e\\u0448\\u0438\\u0439\", \"\\u0446\\u0435\\u043b\\u044b\\u0439\", \"\\u0447\\u0430\\u0441\", \"\\u0447\\u0430\\u0441\", \"\\u0447\\u0435\\u043b\\u043e\\u0432\\u0435\\u043a\", \"\\u0447\\u0435\\u043b\\u043e\\u0432\\u0435\\u043a\", \"\\u0447\\u0435\\u043b\\u043e\\u0432\\u0435\\u043a\", \"\\u0447\\u0435\\u0440\\u0442\\u0430\", \"\\u0447\\u0443\\u0432\\u0441\\u0442\\u0432\\u043e\", \"\\u0448\\u0435\\u0440\\u043b\\u043e\\u043a\", \"\\u0448\\u043a\\u043e\\u043b\\u0430\", \"\\u0448\\u043a\\u043e\\u043b\\u0430\", \"\\u044d\\u043a\\u0437\\u0430\\u043c\\u0435\\u043d\", \"\\u044d\\u043a\\u0437\\u0430\\u043c\\u0435\\u043d\", \"\\u044f\\u043d\\u0432\\u0430\\u0440\\u044c\", \"\\u0451\\u043b\\u043a\\u0430\"]}, \"R\": 30, \"lambda.step\": 0.01, \"plot.opts\": {\"xlab\": \"PC1\", \"ylab\": \"PC2\"}, \"topic.order\": [2, 3, 1]};\n",
       "\n",
       "function LDAvis_load_lib(url, callback){\n",
       "  var s = document.createElement('script');\n",
       "  s.src = url;\n",
       "  s.async = true;\n",
       "  s.onreadystatechange = s.onload = callback;\n",
       "  s.onerror = function(){console.warn(\"failed to load library \" + url);};\n",
       "  document.getElementsByTagName(\"head\")[0].appendChild(s);\n",
       "}\n",
       "\n",
       "if(typeof(LDAvis) !== \"undefined\"){\n",
       "   // already loaded: just create the visualization\n",
       "   !function(LDAvis){\n",
       "       new LDAvis(\"#\" + \"ldavis_el141321401768316021284710159576\", ldavis_el141321401768316021284710159576_data);\n",
       "   }(LDAvis);\n",
       "}else if(typeof define === \"function\" && define.amd){\n",
       "   // require.js is available: use it to load d3/LDAvis\n",
       "   require.config({paths: {d3: \"https://d3js.org/d3.v5\"}});\n",
       "   require([\"d3\"], function(d3){\n",
       "      window.d3 = d3;\n",
       "      LDAvis_load_lib(\"https://cdn.jsdelivr.net/gh/bmabey/pyLDAvis@3.3.1/pyLDAvis/js/ldavis.v3.0.0.js\", function(){\n",
       "        new LDAvis(\"#\" + \"ldavis_el141321401768316021284710159576\", ldavis_el141321401768316021284710159576_data);\n",
       "      });\n",
       "    });\n",
       "}else{\n",
       "    // require.js not available: dynamically load d3 & LDAvis\n",
       "    LDAvis_load_lib(\"https://d3js.org/d3.v5.js\", function(){\n",
       "         LDAvis_load_lib(\"https://cdn.jsdelivr.net/gh/bmabey/pyLDAvis@3.3.1/pyLDAvis/js/ldavis.v3.0.0.js\", function(){\n",
       "                 new LDAvis(\"#\" + \"ldavis_el141321401768316021284710159576\", ldavis_el141321401768316021284710159576_data);\n",
       "            })\n",
       "         });\n",
       "}\n",
       "</script>"
      ],
      "text/plain": [
       "<IPython.core.display.HTML object>"
      ]
     },
     "execution_count": 14,
     "metadata": {},
     "output_type": "execute_result"
    }
   ],
   "source": [
    "vis_data = gensimvis.prepare(lda, corpus, dictionary)\n",
    "pyLDAvis.display(vis_data)"
   ]
  },
  {
   "cell_type": "markdown",
   "id": "4133f1bb",
   "metadata": {},
   "source": [
    "## 4. Проинтерпритировать получившиеся тематики"
   ]
  },
  {
   "cell_type": "markdown",
   "id": "268f6d7a",
   "metadata": {},
   "source": [
    "Примерные названия тем твитов:\n",
    "\n",
    "Тема 1. Учеба и впечатления школьника.\n",
    "\n",
    "Тема 2. Личная жизнь студентки.\n",
    "\n",
    "Тема 3. Эмоции работника.\n",
    "\n",
    "3 темы наиболее актуальное количество, поскольку при большем значении возможны их наслоения."
   ]
  }
 ],
 "metadata": {
  "kernelspec": {
   "display_name": "Python 3 (ipykernel)",
   "language": "python",
   "name": "python3"
  },
  "language_info": {
   "codemirror_mode": {
    "name": "ipython",
    "version": 3
   },
   "file_extension": ".py",
   "mimetype": "text/x-python",
   "name": "python",
   "nbconvert_exporter": "python",
   "pygments_lexer": "ipython3",
   "version": "3.9.7"
  }
 },
 "nbformat": 4,
 "nbformat_minor": 5
}
