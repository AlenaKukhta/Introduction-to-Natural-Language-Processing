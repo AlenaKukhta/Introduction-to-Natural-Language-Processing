{
 "cells": [
  {
   "cell_type": "markdown",
   "id": "7f4ea59c",
   "metadata": {},
   "source": [
    "# Практическое задание к уроку 8. Рекуррентные нейронные сети RNN LSTM GRU\n",
    "\n",
    "\n",
    "Данные берем отызывы за лето\n",
    "\n",
    "На вебинаре мы говорили, что долгое время CNN и RNN архитектуры были конурируещими выяснить какая архитектура больше подходит для нашей задачи \n",
    "\n",
    "1. построить свёрточные архитектуры \n",
    "\n",
    "2. построить различные архитектуры с RNN\n",
    "\n",
    "3. построить совместные архитектуры CNN -> RNN или (RNN -> CNN)"
   ]
  },
  {
   "cell_type": "code",
   "execution_count": 1,
   "id": "c571bbc0",
   "metadata": {},
   "outputs": [],
   "source": [
    "# # загрузка файла с локального диска\n",
    "# from google.colab import files\n",
    "# uploaded = files.upload()"
   ]
  },
  {
   "cell_type": "code",
   "execution_count": 2,
   "id": "e0fd9db3",
   "metadata": {},
   "outputs": [
    {
     "name": "stdout",
     "output_type": "stream",
     "text": [
      "Requirement already satisfied: stop_words in /Users/alenakukhta/opt/anaconda3/lib/python3.9/site-packages (2018.7.23)\r\n"
     ]
    }
   ],
   "source": [
    "!pip install stop_words"
   ]
  },
  {
   "cell_type": "code",
   "execution_count": 3,
   "id": "b2444440",
   "metadata": {},
   "outputs": [
    {
     "name": "stdout",
     "output_type": "stream",
     "text": [
      "Requirement already satisfied: pymorphy2 in /Users/alenakukhta/opt/anaconda3/lib/python3.9/site-packages (0.9.1)\r\n",
      "Requirement already satisfied: pymorphy2-dicts-ru<3.0,>=2.4 in /Users/alenakukhta/opt/anaconda3/lib/python3.9/site-packages (from pymorphy2) (2.4.417127.4579844)\r\n",
      "Requirement already satisfied: docopt>=0.6 in /Users/alenakukhta/opt/anaconda3/lib/python3.9/site-packages (from pymorphy2) (0.6.2)\r\n",
      "Requirement already satisfied: dawg-python>=0.7.1 in /Users/alenakukhta/opt/anaconda3/lib/python3.9/site-packages (from pymorphy2) (0.7.2)\r\n"
     ]
    }
   ],
   "source": [
    "!pip install pymorphy2"
   ]
  },
  {
   "cell_type": "code",
   "execution_count": 4,
   "id": "44d71f7d",
   "metadata": {},
   "outputs": [],
   "source": [
    "import os\n",
    "os.environ['TF_CPP_MIN_LOG_LEVEL'] = '2'"
   ]
  },
  {
   "cell_type": "code",
   "execution_count": 5,
   "id": "dba1c081",
   "metadata": {},
   "outputs": [
    {
     "name": "stdout",
     "output_type": "stream",
     "text": [
      "Requirement already satisfied: utils in /Users/alenakukhta/opt/anaconda3/lib/python3.9/site-packages (1.0.1)\r\n"
     ]
    }
   ],
   "source": [
    "!pip install utils"
   ]
  },
  {
   "cell_type": "code",
   "execution_count": 6,
   "id": "63d95fee",
   "metadata": {},
   "outputs": [
    {
     "name": "stdout",
     "output_type": "stream",
     "text": [
      "Collecting daal==2021.4.0\n",
      "  Using cached daal-2021.4.0-py2.py3-none-macosx_10_15_x86_64.macosx_11_0_x86_64.whl (189.9 MB)\n",
      "Collecting tbb==2021.*\n",
      "  Using cached tbb-2021.6.0-py2.py3-none-macosx_10_15_x86_64.macosx_11_0_x86_64.whl (1.0 MB)\n",
      "Installing collected packages: tbb, daal\n",
      "  Attempting uninstall: tbb\n",
      "    Found existing installation: TBB 0.2\n",
      "\u001b[31mERROR: Cannot uninstall 'TBB'. It is a distutils installed project and thus we cannot accurately determine which files belong to it which would lead to only a partial uninstall.\u001b[0m\n"
     ]
    }
   ],
   "source": [
    "!pip install daal==2021.4.0"
   ]
  },
  {
   "cell_type": "code",
   "execution_count": 7,
   "id": "6d979d4b",
   "metadata": {},
   "outputs": [
    {
     "name": "stdout",
     "output_type": "stream",
     "text": [
      "zsh:1: 3.10.0 not found\r\n"
     ]
    }
   ],
   "source": [
    "!pip install typing-extensions>=3.10.0"
   ]
  },
  {
   "cell_type": "code",
   "execution_count": 8,
   "id": "4fa0980a",
   "metadata": {},
   "outputs": [
    {
     "name": "stdout",
     "output_type": "stream",
     "text": [
      "Requirement already satisfied: numpy==1.21.0 in /Users/alenakukhta/opt/anaconda3/lib/python3.9/site-packages (1.21.0)\r\n"
     ]
    }
   ],
   "source": [
    "# !pip install --upgrade numpy==1.18.5\n",
    "# !pip install --upgrade numpy==1.19.2\n",
    "# !pip install --upgrade numpy==1.18.5\n",
    "!pip install --upgrade numpy==1.21.0"
   ]
  },
  {
   "cell_type": "code",
   "execution_count": 9,
   "id": "65fffaaa",
   "metadata": {},
   "outputs": [
    {
     "name": "stdout",
     "output_type": "stream",
     "text": [
      "Requirement already satisfied: pandas==1.2.0 in /Users/alenakukhta/opt/anaconda3/lib/python3.9/site-packages (1.2.0)\n",
      "Requirement already satisfied: pytz>=2017.3 in /Users/alenakukhta/opt/anaconda3/lib/python3.9/site-packages (from pandas==1.2.0) (2021.3)\n",
      "Requirement already satisfied: numpy>=1.16.5 in /Users/alenakukhta/opt/anaconda3/lib/python3.9/site-packages (from pandas==1.2.0) (1.21.0)\n",
      "Requirement already satisfied: python-dateutil>=2.7.3 in /Users/alenakukhta/opt/anaconda3/lib/python3.9/site-packages (from pandas==1.2.0) (2.8.2)\n",
      "Requirement already satisfied: six>=1.5 in /Users/alenakukhta/opt/anaconda3/lib/python3.9/site-packages (from python-dateutil>=2.7.3->pandas==1.2.0) (1.15.0)\n"
     ]
    }
   ],
   "source": [
    "!pip install --upgrade pandas==1.2.0"
   ]
  },
  {
   "cell_type": "code",
   "execution_count": 10,
   "id": "a01a9d8e",
   "metadata": {},
   "outputs": [
    {
     "name": "stdout",
     "output_type": "stream",
     "text": [
      "Requirement already satisfied: keras==2.4.3 in /Users/alenakukhta/opt/anaconda3/lib/python3.9/site-packages (2.4.3)\r\n",
      "Requirement already satisfied: scipy>=0.14 in /Users/alenakukhta/opt/anaconda3/lib/python3.9/site-packages (from keras==2.4.3) (1.7.3)\r\n",
      "Requirement already satisfied: pyyaml in /Users/alenakukhta/opt/anaconda3/lib/python3.9/site-packages (from keras==2.4.3) (6.0)\r\n",
      "Requirement already satisfied: numpy>=1.9.1 in /Users/alenakukhta/opt/anaconda3/lib/python3.9/site-packages (from keras==2.4.3) (1.21.0)\r\n",
      "Requirement already satisfied: h5py in /Users/alenakukhta/opt/anaconda3/lib/python3.9/site-packages (from keras==2.4.3) (3.1.0)\r\n"
     ]
    }
   ],
   "source": [
    "!pip install keras==2.4.3"
   ]
  },
  {
   "cell_type": "code",
   "execution_count": 11,
   "id": "6cbbf449",
   "metadata": {},
   "outputs": [
    {
     "name": "stdout",
     "output_type": "stream",
     "text": [
      "Requirement already satisfied: tensorflow==2.5.0 in /Users/alenakukhta/opt/anaconda3/lib/python3.9/site-packages (2.5.0)\n",
      "Requirement already satisfied: h5py~=3.1.0 in /Users/alenakukhta/opt/anaconda3/lib/python3.9/site-packages (from tensorflow==2.5.0) (3.1.0)\n",
      "Requirement already satisfied: six~=1.15.0 in /Users/alenakukhta/opt/anaconda3/lib/python3.9/site-packages (from tensorflow==2.5.0) (1.15.0)\n",
      "Requirement already satisfied: tensorflow-estimator<2.6.0,>=2.5.0rc0 in /Users/alenakukhta/opt/anaconda3/lib/python3.9/site-packages (from tensorflow==2.5.0) (2.5.0)\n",
      "Requirement already satisfied: google-pasta~=0.2 in /Users/alenakukhta/opt/anaconda3/lib/python3.9/site-packages (from tensorflow==2.5.0) (0.2.0)\n",
      "Collecting numpy~=1.19.2\n",
      "  Using cached numpy-1.19.5-cp39-cp39-macosx_10_9_x86_64.whl (15.6 MB)\n",
      "Requirement already satisfied: opt-einsum~=3.3.0 in /Users/alenakukhta/opt/anaconda3/lib/python3.9/site-packages (from tensorflow==2.5.0) (3.3.0)\n",
      "Requirement already satisfied: tensorboard~=2.5 in /Users/alenakukhta/opt/anaconda3/lib/python3.9/site-packages (from tensorflow==2.5.0) (2.8.0)\n",
      "Requirement already satisfied: gast==0.4.0 in /Users/alenakukhta/opt/anaconda3/lib/python3.9/site-packages (from tensorflow==2.5.0) (0.4.0)\n",
      "Requirement already satisfied: typing-extensions~=3.7.4 in /Users/alenakukhta/opt/anaconda3/lib/python3.9/site-packages (from tensorflow==2.5.0) (3.7.4.3)\n",
      "Requirement already satisfied: protobuf>=3.9.2 in /Users/alenakukhta/opt/anaconda3/lib/python3.9/site-packages (from tensorflow==2.5.0) (3.19.1)\n",
      "Requirement already satisfied: astunparse~=1.6.3 in /Users/alenakukhta/opt/anaconda3/lib/python3.9/site-packages (from tensorflow==2.5.0) (1.6.3)\n",
      "Requirement already satisfied: keras-nightly~=2.5.0.dev in /Users/alenakukhta/opt/anaconda3/lib/python3.9/site-packages (from tensorflow==2.5.0) (2.5.0.dev2021032900)\n",
      "Requirement already satisfied: flatbuffers~=1.12.0 in /Users/alenakukhta/opt/anaconda3/lib/python3.9/site-packages (from tensorflow==2.5.0) (1.12)\n",
      "Requirement already satisfied: wheel~=0.35 in /Users/alenakukhta/opt/anaconda3/lib/python3.9/site-packages (from tensorflow==2.5.0) (0.37.1)\n",
      "Requirement already satisfied: absl-py~=0.10 in /Users/alenakukhta/opt/anaconda3/lib/python3.9/site-packages (from tensorflow==2.5.0) (0.15.0)\n",
      "Requirement already satisfied: keras-preprocessing~=1.1.2 in /Users/alenakukhta/opt/anaconda3/lib/python3.9/site-packages (from tensorflow==2.5.0) (1.1.2)\n",
      "Requirement already satisfied: termcolor~=1.1.0 in /Users/alenakukhta/opt/anaconda3/lib/python3.9/site-packages (from tensorflow==2.5.0) (1.1.0)\n",
      "Requirement already satisfied: wrapt~=1.12.1 in /Users/alenakukhta/opt/anaconda3/lib/python3.9/site-packages (from tensorflow==2.5.0) (1.12.1)\n",
      "Requirement already satisfied: grpcio~=1.34.0 in /Users/alenakukhta/opt/anaconda3/lib/python3.9/site-packages (from tensorflow==2.5.0) (1.34.1)\n",
      "Requirement already satisfied: werkzeug>=0.11.15 in /Users/alenakukhta/opt/anaconda3/lib/python3.9/site-packages (from tensorboard~=2.5->tensorflow==2.5.0) (2.0.3)\n",
      "Requirement already satisfied: requests<3,>=2.21.0 in /Users/alenakukhta/opt/anaconda3/lib/python3.9/site-packages (from tensorboard~=2.5->tensorflow==2.5.0) (2.27.1)\n",
      "Requirement already satisfied: google-auth<3,>=1.6.3 in /Users/alenakukhta/opt/anaconda3/lib/python3.9/site-packages (from tensorboard~=2.5->tensorflow==2.5.0) (1.33.0)\n",
      "Requirement already satisfied: google-auth-oauthlib<0.5,>=0.4.1 in /Users/alenakukhta/opt/anaconda3/lib/python3.9/site-packages (from tensorboard~=2.5->tensorflow==2.5.0) (0.4.6)\n",
      "Requirement already satisfied: tensorboard-plugin-wit>=1.6.0 in /Users/alenakukhta/opt/anaconda3/lib/python3.9/site-packages (from tensorboard~=2.5->tensorflow==2.5.0) (1.8.1)\n",
      "Requirement already satisfied: tensorboard-data-server<0.7.0,>=0.6.0 in /Users/alenakukhta/opt/anaconda3/lib/python3.9/site-packages (from tensorboard~=2.5->tensorflow==2.5.0) (0.6.1)\n",
      "Requirement already satisfied: markdown>=2.6.8 in /Users/alenakukhta/opt/anaconda3/lib/python3.9/site-packages (from tensorboard~=2.5->tensorflow==2.5.0) (3.3.4)\n",
      "Requirement already satisfied: setuptools>=41.0.0 in /Users/alenakukhta/opt/anaconda3/lib/python3.9/site-packages (from tensorboard~=2.5->tensorflow==2.5.0) (61.2.0)\n",
      "Requirement already satisfied: pyasn1-modules>=0.2.1 in /Users/alenakukhta/opt/anaconda3/lib/python3.9/site-packages (from google-auth<3,>=1.6.3->tensorboard~=2.5->tensorflow==2.5.0) (0.2.8)\n",
      "Requirement already satisfied: rsa<5,>=3.1.4 in /Users/alenakukhta/opt/anaconda3/lib/python3.9/site-packages (from google-auth<3,>=1.6.3->tensorboard~=2.5->tensorflow==2.5.0) (4.7.2)\n",
      "Requirement already satisfied: cachetools<5.0,>=2.0.0 in /Users/alenakukhta/opt/anaconda3/lib/python3.9/site-packages (from google-auth<3,>=1.6.3->tensorboard~=2.5->tensorflow==2.5.0) (4.2.2)\n",
      "Requirement already satisfied: requests-oauthlib>=0.7.0 in /Users/alenakukhta/opt/anaconda3/lib/python3.9/site-packages (from google-auth-oauthlib<0.5,>=0.4.1->tensorboard~=2.5->tensorflow==2.5.0) (1.3.1)\n",
      "Requirement already satisfied: pyasn1<0.5.0,>=0.4.6 in /Users/alenakukhta/opt/anaconda3/lib/python3.9/site-packages (from pyasn1-modules>=0.2.1->google-auth<3,>=1.6.3->tensorboard~=2.5->tensorflow==2.5.0) (0.4.8)\n",
      "Requirement already satisfied: charset-normalizer~=2.0.0 in /Users/alenakukhta/opt/anaconda3/lib/python3.9/site-packages (from requests<3,>=2.21.0->tensorboard~=2.5->tensorflow==2.5.0) (2.0.4)\n",
      "Requirement already satisfied: certifi>=2017.4.17 in /Users/alenakukhta/opt/anaconda3/lib/python3.9/site-packages (from requests<3,>=2.21.0->tensorboard~=2.5->tensorflow==2.5.0) (2022.5.18.1)\n",
      "Requirement already satisfied: urllib3<1.27,>=1.21.1 in /Users/alenakukhta/opt/anaconda3/lib/python3.9/site-packages (from requests<3,>=2.21.0->tensorboard~=2.5->tensorflow==2.5.0) (1.26.9)\n",
      "Requirement already satisfied: idna<4,>=2.5 in /Users/alenakukhta/opt/anaconda3/lib/python3.9/site-packages (from requests<3,>=2.21.0->tensorboard~=2.5->tensorflow==2.5.0) (3.3)\n",
      "Requirement already satisfied: oauthlib>=3.0.0 in /Users/alenakukhta/opt/anaconda3/lib/python3.9/site-packages (from requests-oauthlib>=0.7.0->google-auth-oauthlib<0.5,>=0.4.1->tensorboard~=2.5->tensorflow==2.5.0) (3.2.0)\n",
      "Installing collected packages: numpy\n",
      "  Attempting uninstall: numpy\n",
      "    Found existing installation: numpy 1.21.0\n",
      "    Uninstalling numpy-1.21.0:\n",
      "      Successfully uninstalled numpy-1.21.0\n",
      "\u001b[31mERROR: pip's dependency resolver does not currently take into account all the packages that are installed. This behaviour is the source of the following dependency conflicts.\n",
      "daal4py 2021.5.0 requires daal==2021.4.0, which is not installed.\n",
      "bokeh 2.4.2 requires typing-extensions>=3.10.0, but you have typing-extensions 3.7.4.3 which is incompatible.\u001b[0m\n",
      "Successfully installed numpy-1.19.5\n"
     ]
    }
   ],
   "source": [
    "!pip install tensorflow==2.5.0"
   ]
  },
  {
   "cell_type": "code",
   "execution_count": 12,
   "id": "2ab16507",
   "metadata": {},
   "outputs": [
    {
     "name": "stdout",
     "output_type": "stream",
     "text": [
      "Requirement already satisfied: dca in /Users/alenakukhta/opt/anaconda3/lib/python3.9/site-packages (0.3.3)\n",
      "Requirement already satisfied: kopt in /Users/alenakukhta/opt/anaconda3/lib/python3.9/site-packages (from dca) (0.1.0)\n",
      "Requirement already satisfied: scikit-learn in /Users/alenakukhta/opt/anaconda3/lib/python3.9/site-packages (from dca) (1.0.2)\n",
      "Requirement already satisfied: pandas in /Users/alenakukhta/opt/anaconda3/lib/python3.9/site-packages (from dca) (1.2.0)\n",
      "Requirement already satisfied: tensorflow>=2.0 in /Users/alenakukhta/opt/anaconda3/lib/python3.9/site-packages (from dca) (2.5.0)\n",
      "Requirement already satisfied: h5py in /Users/alenakukhta/opt/anaconda3/lib/python3.9/site-packages (from dca) (3.1.0)\n",
      "Requirement already satisfied: scanpy in /Users/alenakukhta/opt/anaconda3/lib/python3.9/site-packages (from dca) (1.9.1)\n",
      "Requirement already satisfied: keras<2.6,>=2.4 in /Users/alenakukhta/opt/anaconda3/lib/python3.9/site-packages (from dca) (2.4.3)\n",
      "Requirement already satisfied: six>=1.10.0 in /Users/alenakukhta/opt/anaconda3/lib/python3.9/site-packages (from dca) (1.15.0)\n",
      "Requirement already satisfied: numpy>=1.7 in /Users/alenakukhta/opt/anaconda3/lib/python3.9/site-packages (from dca) (1.19.5)\n",
      "Requirement already satisfied: pyyaml in /Users/alenakukhta/opt/anaconda3/lib/python3.9/site-packages (from keras<2.6,>=2.4->dca) (6.0)\n",
      "Requirement already satisfied: scipy>=0.14 in /Users/alenakukhta/opt/anaconda3/lib/python3.9/site-packages (from keras<2.6,>=2.4->dca) (1.7.3)\n",
      "Requirement already satisfied: termcolor~=1.1.0 in /Users/alenakukhta/opt/anaconda3/lib/python3.9/site-packages (from tensorflow>=2.0->dca) (1.1.0)\n",
      "Requirement already satisfied: wheel~=0.35 in /Users/alenakukhta/opt/anaconda3/lib/python3.9/site-packages (from tensorflow>=2.0->dca) (0.37.1)\n",
      "Requirement already satisfied: gast==0.4.0 in /Users/alenakukhta/opt/anaconda3/lib/python3.9/site-packages (from tensorflow>=2.0->dca) (0.4.0)\n",
      "Requirement already satisfied: astunparse~=1.6.3 in /Users/alenakukhta/opt/anaconda3/lib/python3.9/site-packages (from tensorflow>=2.0->dca) (1.6.3)\n",
      "Requirement already satisfied: tensorboard~=2.5 in /Users/alenakukhta/opt/anaconda3/lib/python3.9/site-packages (from tensorflow>=2.0->dca) (2.8.0)\n",
      "Requirement already satisfied: wrapt~=1.12.1 in /Users/alenakukhta/opt/anaconda3/lib/python3.9/site-packages (from tensorflow>=2.0->dca) (1.12.1)\n",
      "Requirement already satisfied: protobuf>=3.9.2 in /Users/alenakukhta/opt/anaconda3/lib/python3.9/site-packages (from tensorflow>=2.0->dca) (3.19.1)\n",
      "Requirement already satisfied: flatbuffers~=1.12.0 in /Users/alenakukhta/opt/anaconda3/lib/python3.9/site-packages (from tensorflow>=2.0->dca) (1.12)\n",
      "Requirement already satisfied: opt-einsum~=3.3.0 in /Users/alenakukhta/opt/anaconda3/lib/python3.9/site-packages (from tensorflow>=2.0->dca) (3.3.0)\n",
      "Requirement already satisfied: keras-nightly~=2.5.0.dev in /Users/alenakukhta/opt/anaconda3/lib/python3.9/site-packages (from tensorflow>=2.0->dca) (2.5.0.dev2021032900)\n",
      "Requirement already satisfied: absl-py~=0.10 in /Users/alenakukhta/opt/anaconda3/lib/python3.9/site-packages (from tensorflow>=2.0->dca) (0.15.0)\n",
      "Requirement already satisfied: typing-extensions~=3.7.4 in /Users/alenakukhta/opt/anaconda3/lib/python3.9/site-packages (from tensorflow>=2.0->dca) (3.7.4.3)\n",
      "Requirement already satisfied: tensorflow-estimator<2.6.0,>=2.5.0rc0 in /Users/alenakukhta/opt/anaconda3/lib/python3.9/site-packages (from tensorflow>=2.0->dca) (2.5.0)\n",
      "Requirement already satisfied: google-pasta~=0.2 in /Users/alenakukhta/opt/anaconda3/lib/python3.9/site-packages (from tensorflow>=2.0->dca) (0.2.0)\n",
      "Requirement already satisfied: grpcio~=1.34.0 in /Users/alenakukhta/opt/anaconda3/lib/python3.9/site-packages (from tensorflow>=2.0->dca) (1.34.1)\n",
      "Requirement already satisfied: keras-preprocessing~=1.1.2 in /Users/alenakukhta/opt/anaconda3/lib/python3.9/site-packages (from tensorflow>=2.0->dca) (1.1.2)\n",
      "Requirement already satisfied: setuptools>=41.0.0 in /Users/alenakukhta/opt/anaconda3/lib/python3.9/site-packages (from tensorboard~=2.5->tensorflow>=2.0->dca) (61.2.0)\n",
      "Requirement already satisfied: tensorboard-data-server<0.7.0,>=0.6.0 in /Users/alenakukhta/opt/anaconda3/lib/python3.9/site-packages (from tensorboard~=2.5->tensorflow>=2.0->dca) (0.6.1)\n",
      "Requirement already satisfied: werkzeug>=0.11.15 in /Users/alenakukhta/opt/anaconda3/lib/python3.9/site-packages (from tensorboard~=2.5->tensorflow>=2.0->dca) (2.0.3)\n",
      "Requirement already satisfied: google-auth-oauthlib<0.5,>=0.4.1 in /Users/alenakukhta/opt/anaconda3/lib/python3.9/site-packages (from tensorboard~=2.5->tensorflow>=2.0->dca) (0.4.6)\n",
      "Requirement already satisfied: requests<3,>=2.21.0 in /Users/alenakukhta/opt/anaconda3/lib/python3.9/site-packages (from tensorboard~=2.5->tensorflow>=2.0->dca) (2.27.1)\n",
      "Requirement already satisfied: markdown>=2.6.8 in /Users/alenakukhta/opt/anaconda3/lib/python3.9/site-packages (from tensorboard~=2.5->tensorflow>=2.0->dca) (3.3.4)\n",
      "Requirement already satisfied: google-auth<3,>=1.6.3 in /Users/alenakukhta/opt/anaconda3/lib/python3.9/site-packages (from tensorboard~=2.5->tensorflow>=2.0->dca) (1.33.0)\n",
      "Requirement already satisfied: tensorboard-plugin-wit>=1.6.0 in /Users/alenakukhta/opt/anaconda3/lib/python3.9/site-packages (from tensorboard~=2.5->tensorflow>=2.0->dca) (1.8.1)\n",
      "Requirement already satisfied: rsa<5,>=3.1.4 in /Users/alenakukhta/opt/anaconda3/lib/python3.9/site-packages (from google-auth<3,>=1.6.3->tensorboard~=2.5->tensorflow>=2.0->dca) (4.7.2)\n",
      "Requirement already satisfied: cachetools<5.0,>=2.0.0 in /Users/alenakukhta/opt/anaconda3/lib/python3.9/site-packages (from google-auth<3,>=1.6.3->tensorboard~=2.5->tensorflow>=2.0->dca) (4.2.2)\n",
      "Requirement already satisfied: pyasn1-modules>=0.2.1 in /Users/alenakukhta/opt/anaconda3/lib/python3.9/site-packages (from google-auth<3,>=1.6.3->tensorboard~=2.5->tensorflow>=2.0->dca) (0.2.8)\n",
      "Requirement already satisfied: requests-oauthlib>=0.7.0 in /Users/alenakukhta/opt/anaconda3/lib/python3.9/site-packages (from google-auth-oauthlib<0.5,>=0.4.1->tensorboard~=2.5->tensorflow>=2.0->dca) (1.3.1)\n",
      "Requirement already satisfied: pyasn1<0.5.0,>=0.4.6 in /Users/alenakukhta/opt/anaconda3/lib/python3.9/site-packages (from pyasn1-modules>=0.2.1->google-auth<3,>=1.6.3->tensorboard~=2.5->tensorflow>=2.0->dca) (0.4.8)\n",
      "Requirement already satisfied: charset-normalizer~=2.0.0 in /Users/alenakukhta/opt/anaconda3/lib/python3.9/site-packages (from requests<3,>=2.21.0->tensorboard~=2.5->tensorflow>=2.0->dca) (2.0.4)\n",
      "Requirement already satisfied: urllib3<1.27,>=1.21.1 in /Users/alenakukhta/opt/anaconda3/lib/python3.9/site-packages (from requests<3,>=2.21.0->tensorboard~=2.5->tensorflow>=2.0->dca) (1.26.9)\n",
      "Requirement already satisfied: idna<4,>=2.5 in /Users/alenakukhta/opt/anaconda3/lib/python3.9/site-packages (from requests<3,>=2.21.0->tensorboard~=2.5->tensorflow>=2.0->dca) (3.3)\n",
      "Requirement already satisfied: certifi>=2017.4.17 in /Users/alenakukhta/opt/anaconda3/lib/python3.9/site-packages (from requests<3,>=2.21.0->tensorboard~=2.5->tensorflow>=2.0->dca) (2022.5.18.1)\n",
      "Requirement already satisfied: oauthlib>=3.0.0 in /Users/alenakukhta/opt/anaconda3/lib/python3.9/site-packages (from requests-oauthlib>=0.7.0->google-auth-oauthlib<0.5,>=0.4.1->tensorboard~=2.5->tensorflow>=2.0->dca) (3.2.0)\n",
      "Requirement already satisfied: hyperopt in /Users/alenakukhta/opt/anaconda3/lib/python3.9/site-packages (from kopt->dca) (0.2.7)\n",
      "Requirement already satisfied: matplotlib in /Users/alenakukhta/opt/anaconda3/lib/python3.9/site-packages (from kopt->dca) (3.5.1)\n",
      "Requirement already satisfied: future in /Users/alenakukhta/opt/anaconda3/lib/python3.9/site-packages (from kopt->dca) (0.18.2)\n",
      "Requirement already satisfied: joblib>=0.11 in /Users/alenakukhta/opt/anaconda3/lib/python3.9/site-packages (from scikit-learn->dca) (1.1.0)\n",
      "Requirement already satisfied: threadpoolctl>=2.0.0 in /Users/alenakukhta/opt/anaconda3/lib/python3.9/site-packages (from scikit-learn->dca) (2.2.0)\n",
      "Requirement already satisfied: networkx>=2.2 in /Users/alenakukhta/opt/anaconda3/lib/python3.9/site-packages (from hyperopt->kopt->dca) (2.7.1)\n",
      "Requirement already satisfied: tqdm in /Users/alenakukhta/opt/anaconda3/lib/python3.9/site-packages (from hyperopt->kopt->dca) (4.64.0)\n",
      "Requirement already satisfied: cloudpickle in /Users/alenakukhta/opt/anaconda3/lib/python3.9/site-packages (from hyperopt->kopt->dca) (2.0.0)\n",
      "Requirement already satisfied: py4j in /Users/alenakukhta/opt/anaconda3/lib/python3.9/site-packages (from hyperopt->kopt->dca) (0.10.9.5)\n"
     ]
    },
    {
     "name": "stdout",
     "output_type": "stream",
     "text": [
      "Requirement already satisfied: kiwisolver>=1.0.1 in /Users/alenakukhta/opt/anaconda3/lib/python3.9/site-packages (from matplotlib->kopt->dca) (1.3.2)\n",
      "Requirement already satisfied: pyparsing>=2.2.1 in /Users/alenakukhta/opt/anaconda3/lib/python3.9/site-packages (from matplotlib->kopt->dca) (3.0.4)\n",
      "Requirement already satisfied: pillow>=6.2.0 in /Users/alenakukhta/opt/anaconda3/lib/python3.9/site-packages (from matplotlib->kopt->dca) (9.0.1)\n",
      "Requirement already satisfied: cycler>=0.10 in /Users/alenakukhta/opt/anaconda3/lib/python3.9/site-packages (from matplotlib->kopt->dca) (0.11.0)\n",
      "Requirement already satisfied: fonttools>=4.22.0 in /Users/alenakukhta/opt/anaconda3/lib/python3.9/site-packages (from matplotlib->kopt->dca) (4.25.0)\n",
      "Requirement already satisfied: python-dateutil>=2.7 in /Users/alenakukhta/opt/anaconda3/lib/python3.9/site-packages (from matplotlib->kopt->dca) (2.8.2)\n",
      "Requirement already satisfied: packaging>=20.0 in /Users/alenakukhta/opt/anaconda3/lib/python3.9/site-packages (from matplotlib->kopt->dca) (21.3)\n",
      "Requirement already satisfied: pytz>=2017.3 in /Users/alenakukhta/opt/anaconda3/lib/python3.9/site-packages (from pandas->dca) (2021.3)\n",
      "Requirement already satisfied: umap-learn>=0.3.10 in /Users/alenakukhta/opt/anaconda3/lib/python3.9/site-packages (from scanpy->dca) (0.5.3)\n",
      "Requirement already satisfied: session-info in /Users/alenakukhta/opt/anaconda3/lib/python3.9/site-packages (from scanpy->dca) (1.0.0)\n",
      "Requirement already satisfied: statsmodels>=0.10.0rc2 in /Users/alenakukhta/opt/anaconda3/lib/python3.9/site-packages (from scanpy->dca) (0.13.2)\n",
      "Requirement already satisfied: natsort in /Users/alenakukhta/opt/anaconda3/lib/python3.9/site-packages (from scanpy->dca) (8.1.0)\n",
      "Requirement already satisfied: patsy in /Users/alenakukhta/opt/anaconda3/lib/python3.9/site-packages (from scanpy->dca) (0.5.2)\n",
      "Requirement already satisfied: numba>=0.41.0 in /Users/alenakukhta/opt/anaconda3/lib/python3.9/site-packages (from scanpy->dca) (0.55.1)\n",
      "Requirement already satisfied: seaborn in /Users/alenakukhta/opt/anaconda3/lib/python3.9/site-packages (from scanpy->dca) (0.11.2)\n",
      "Requirement already satisfied: anndata>=0.7.4 in /Users/alenakukhta/opt/anaconda3/lib/python3.9/site-packages (from scanpy->dca) (0.8.0)\n",
      "Requirement already satisfied: llvmlite<0.39,>=0.38.0rc1 in /Users/alenakukhta/opt/anaconda3/lib/python3.9/site-packages (from numba>=0.41.0->scanpy->dca) (0.38.0)\n",
      "Requirement already satisfied: pynndescent>=0.5 in /Users/alenakukhta/opt/anaconda3/lib/python3.9/site-packages (from umap-learn>=0.3.10->scanpy->dca) (0.5.7)\n",
      "Requirement already satisfied: stdlib-list in /Users/alenakukhta/opt/anaconda3/lib/python3.9/site-packages (from session-info->scanpy->dca) (0.8.0)\n"
     ]
    }
   ],
   "source": [
    "!pip install dca"
   ]
  },
  {
   "cell_type": "code",
   "execution_count": 13,
   "id": "e3a4b8dc",
   "metadata": {},
   "outputs": [],
   "source": [
    "import dca\n",
    "import pkg_resources\n",
    "\n",
    "import pandas as pd\n",
    "import numpy as np\n",
    "import re\n",
    "\n",
    "pd.set_option('max_colwidth', 120)\n",
    "\n",
    "from string import punctuation\n",
    "from stop_words import get_stop_words\n",
    "from pymorphy2 import MorphAnalyzer\n",
    "\n",
    "# import keras\n",
    "# from keras.models import Sequential, Model\n",
    "# from keras.layers import Dense, Dropout, Activation, Input, Embedding, Conv1D, GlobalMaxPool1D, SimpleRNN, LSTM, GRU, Masking\n",
    "# from keras.preprocessing.text import Tokenizer\n",
    "# from keras.preprocessing.sequence import pad_sequences\n",
    "# from keras.callbacks import TensorBoard \n",
    "# from keras.objectives import categorical_crossentropy\n",
    "# from keras.callbacks import EarlyStopping\n",
    "\n",
    "\n",
    "import tensorflow as tf\n",
    "from tensorflow import keras\n",
    "\n",
    "from tensorflow.keras.models import Sequential, Model\n",
    "from tensorflow.keras.layers import Dense, Bidirectional, LSTM, SpatialDropout1D, concatenate\n",
    "from tensorflow.keras.layers import Dropout\n",
    "from tensorflow.keras.layers import SimpleRNN, GRU, Masking\n",
    "from tensorflow.keras.layers import Activation\n",
    "from tensorflow.keras.layers import Input\n",
    "from tensorflow.keras.layers import Embedding\n",
    "from tensorflow.keras.layers import Conv1D, Flatten, MaxPooling1D\n",
    "from tensorflow.keras.layers import GlobalMaxPool1D, GlobalAveragePooling1D, GlobalMaxPooling1D\n",
    "from tensorflow.keras.preprocessing.text import Tokenizer\n",
    "from tensorflow.keras.preprocessing.sequence import pad_sequences\n",
    "from tensorflow.keras.callbacks import TensorBoard \n",
    "from tensorflow.keras.losses import categorical_crossentropy\n",
    "from tensorflow.keras.callbacks import EarlyStopping \n",
    "from tensorflow.keras.preprocessing.text import Tokenizer"
   ]
  },
  {
   "cell_type": "markdown",
   "id": "c9cd4255",
   "metadata": {},
   "source": [
    "#### Обработка данных"
   ]
  },
  {
   "cell_type": "code",
   "execution_count": 14,
   "id": "b7ba777d",
   "metadata": {},
   "outputs": [],
   "source": [
    "df_train = pd.read_csv(\"train.csv\")\n",
    "df_test = pd.read_csv(\"test.csv\")\n",
    "df_val = pd.read_csv(\"val.csv\")"
   ]
  },
  {
   "cell_type": "code",
   "execution_count": 15,
   "id": "7babb62c",
   "metadata": {},
   "outputs": [
    {
     "data": {
      "text/html": [
       "<div>\n",
       "<style scoped>\n",
       "    .dataframe tbody tr th:only-of-type {\n",
       "        vertical-align: middle;\n",
       "    }\n",
       "\n",
       "    .dataframe tbody tr th {\n",
       "        vertical-align: top;\n",
       "    }\n",
       "\n",
       "    .dataframe thead th {\n",
       "        text-align: right;\n",
       "    }\n",
       "</style>\n",
       "<table border=\"1\" class=\"dataframe\">\n",
       "  <thead>\n",
       "    <tr style=\"text-align: right;\">\n",
       "      <th></th>\n",
       "      <th>id</th>\n",
       "      <th>text</th>\n",
       "      <th>class</th>\n",
       "    </tr>\n",
       "  </thead>\n",
       "  <tbody>\n",
       "    <tr>\n",
       "      <th>0</th>\n",
       "      <td>0</td>\n",
       "      <td>@alisachachka не уезжаааааааай. :(❤ я тоже не хочу, чтобы ты уезжала.</td>\n",
       "      <td>0</td>\n",
       "    </tr>\n",
       "    <tr>\n",
       "      <th>1</th>\n",
       "      <td>1</td>\n",
       "      <td>RT @GalyginVadim: Ребята и девчата!\\nВсе в кино!!! \"Вот Это Любовь!\"\\nСегодня! Завтра!  И потом!)))))\\n#вотэтолюбовь</td>\n",
       "      <td>1</td>\n",
       "    </tr>\n",
       "    <tr>\n",
       "      <th>2</th>\n",
       "      <td>2</td>\n",
       "      <td>RT @ARTEM_KLYUSHIN: Кто ненавидит пробки ретвит((((( RT</td>\n",
       "      <td>0</td>\n",
       "    </tr>\n",
       "    <tr>\n",
       "      <th>3</th>\n",
       "      <td>3</td>\n",
       "      <td>RT @epupybobv: Хочется котлету по-киевски. Запретный плод. :)</td>\n",
       "      <td>1</td>\n",
       "    </tr>\n",
       "    <tr>\n",
       "      <th>4</th>\n",
       "      <td>4</td>\n",
       "      <td>@KarineKurganova @Yess__Boss босапопа есбоса не боится мороза и .......))</td>\n",
       "      <td>1</td>\n",
       "    </tr>\n",
       "  </tbody>\n",
       "</table>\n",
       "</div>"
      ],
      "text/plain": [
       "   id  \\\n",
       "0   0   \n",
       "1   1   \n",
       "2   2   \n",
       "3   3   \n",
       "4   4   \n",
       "\n",
       "                                                                                                                   text  \\\n",
       "0                                                 @alisachachka не уезжаааааааай. :(❤ я тоже не хочу, чтобы ты уезжала.   \n",
       "1  RT @GalyginVadim: Ребята и девчата!\\nВсе в кино!!! \"Вот Это Любовь!\"\\nСегодня! Завтра!  И потом!)))))\\n#вотэтолюбовь   \n",
       "2                                                               RT @ARTEM_KLYUSHIN: Кто ненавидит пробки ретвит((((( RT   \n",
       "3                                                         RT @epupybobv: Хочется котлету по-киевски. Запретный плод. :)   \n",
       "4                                             @KarineKurganova @Yess__Boss босапопа есбоса не боится мороза и .......))   \n",
       "\n",
       "   class  \n",
       "0      0  \n",
       "1      1  \n",
       "2      0  \n",
       "3      1  \n",
       "4      1  "
      ]
     },
     "execution_count": 15,
     "metadata": {},
     "output_type": "execute_result"
    }
   ],
   "source": [
    "df_train.head(5)"
   ]
  },
  {
   "cell_type": "code",
   "execution_count": 16,
   "id": "16a31443",
   "metadata": {},
   "outputs": [],
   "source": [
    "sw = set(get_stop_words(\"ru\"))\n",
    "exclude = set(punctuation)\n",
    "morpher = MorphAnalyzer()\n",
    "\n",
    "def preprocess_text(txt):\n",
    "    txt = str(txt)\n",
    "    txt = \"\".join(c for c in txt if c not in exclude)\n",
    "    txt = txt.lower()\n",
    "    txt = re.sub(\"\\sне\", \"не\", txt)\n",
    "    txt = [morpher.parse(word)[0].normal_form for word in txt.split() if word not in sw]\n",
    "    return \" \".join(txt)\n",
    "\n",
    "df_train['text'] = df_train['text'].apply(preprocess_text)\n",
    "df_val['text'] = df_val['text'].apply(preprocess_text)\n",
    "df_test['text'] = df_test['text'].apply(preprocess_text)"
   ]
  },
  {
   "cell_type": "code",
   "execution_count": 17,
   "id": "11853217",
   "metadata": {},
   "outputs": [],
   "source": [
    "text_corpus_train = df_train['text'].values\n",
    "text_corpus_valid = df_val['text'].values\n",
    "text_corpus_test = df_test['text'].values"
   ]
  },
  {
   "cell_type": "code",
   "execution_count": 18,
   "id": "2fd60ca2",
   "metadata": {},
   "outputs": [],
   "source": [
    "tokenizer = Tokenizer(num_words=None, \n",
    "                     filters='#$%&()*+-<=>@[\\\\]^_`{|}~\\t\\n',\n",
    "                     lower = False, split = ' ')\n",
    "tokenizer.fit_on_texts(text_corpus_train)\n",
    "\n",
    "sequences_train = tokenizer.texts_to_sequences(text_corpus_train)\n",
    "sequences_val = tokenizer.texts_to_sequences(text_corpus_valid)\n",
    "sequences_test = tokenizer.texts_to_sequences(text_corpus_test)\n",
    "\n",
    "word_count = len(tokenizer.index_word) + 1\n",
    "training_length = max([len(i.split()) for i in text_corpus_train])\n",
    "\n",
    "X_train = pad_sequences(sequences_train, maxlen=training_length)\n",
    "X_valid = pad_sequences(sequences_val, maxlen=training_length)"
   ]
  },
  {
   "cell_type": "code",
   "execution_count": 19,
   "id": "665c42fd",
   "metadata": {},
   "outputs": [],
   "source": [
    "y_train = df_train['class'].values\n",
    "y_val = df_val['class'].values"
   ]
  },
  {
   "cell_type": "markdown",
   "id": "362ded52",
   "metadata": {},
   "source": [
    "#### Сверточная сеть"
   ]
  },
  {
   "cell_type": "code",
   "execution_count": 20,
   "id": "b32d0660",
   "metadata": {},
   "outputs": [],
   "source": [
    "model = Sequential()\n",
    "model.add(Embedding(input_dim=word_count, \n",
    "                    output_dim=128, \n",
    "                    input_length=training_length, \n",
    "                    trainable=True,\n",
    "                    mask_zero=True)\n",
    "         )\n",
    "model.add(Masking(mask_value=0.0))\n",
    "model.add(Conv1D(128, 3))\n",
    "model.add(Activation(\"relu\"))\n",
    "model.add(GlobalMaxPool1D())\n",
    "model.add(Dense(10))\n",
    "model.add(Activation(\"relu\"))\n",
    "model.add(Dense(1, activation='sigmoid'))\n",
    "\n",
    "model.compile(optimizer='adam', \n",
    "              loss='binary_crossentropy', \n",
    "              metrics=['accuracy']\n",
    "              )"
   ]
  },
  {
   "cell_type": "code",
   "execution_count": 21,
   "id": "cf2063bd",
   "metadata": {},
   "outputs": [
    {
     "name": "stdout",
     "output_type": "stream",
     "text": [
      "Epoch 1/10\n",
      "319/319 [==============================] - 64s 199ms/step - loss: 0.5398 - accuracy: 0.7165 - val_loss: 0.4800 - val_accuracy: 0.7596\n"
     ]
    }
   ],
   "source": [
    "early_stopping=EarlyStopping(monitor='val_loss')  \n",
    "history = model.fit(X_train, \n",
    "                    y_train, \n",
    "                    batch_size=512, \n",
    "                    epochs=10, \n",
    "                    verbose=1, \n",
    "                    validation_split=0.1, \n",
    "                    callbacks=[early_stopping]\n",
    "                    )"
   ]
  },
  {
   "cell_type": "code",
   "execution_count": 22,
   "id": "1b3c7724",
   "metadata": {},
   "outputs": [
    {
     "name": "stdout",
     "output_type": "stream",
     "text": [
      "45/45 [==============================] - 0s 8ms/step - loss: 0.5086 - accuracy: 0.7446\n",
      "\n",
      "\n",
      "Test score: 0.5086029171943665\n",
      "Test accuracy: 0.7445664405822754\n"
     ]
    }
   ],
   "source": [
    "score = model.evaluate(X_valid, y_val, batch_size=512, verbose=1)\n",
    "print('\\n')\n",
    "print('Test score:', score[0])\n",
    "print('Test accuracy:', score[1])"
   ]
  },
  {
   "cell_type": "code",
   "execution_count": 23,
   "id": "2f7c19ff",
   "metadata": {},
   "outputs": [
    {
     "data": {
      "text/html": [
       "<div>\n",
       "<style scoped>\n",
       "    .dataframe tbody tr th:only-of-type {\n",
       "        vertical-align: middle;\n",
       "    }\n",
       "\n",
       "    .dataframe tbody tr th {\n",
       "        vertical-align: top;\n",
       "    }\n",
       "\n",
       "    .dataframe thead th {\n",
       "        text-align: right;\n",
       "    }\n",
       "</style>\n",
       "<table border=\"1\" class=\"dataframe\">\n",
       "  <thead>\n",
       "    <tr style=\"text-align: right;\">\n",
       "      <th></th>\n",
       "      <th>Model</th>\n",
       "      <th>Score</th>\n",
       "      <th>Accuracy</th>\n",
       "    </tr>\n",
       "  </thead>\n",
       "  <tbody>\n",
       "    <tr>\n",
       "      <th>0</th>\n",
       "      <td>CNN</td>\n",
       "      <td>0.508603</td>\n",
       "      <td>0.744566</td>\n",
       "    </tr>\n",
       "  </tbody>\n",
       "</table>\n",
       "</div>"
      ],
      "text/plain": [
       "  Model     Score  Accuracy\n",
       "0   CNN  0.508603  0.744566"
      ]
     },
     "execution_count": 23,
     "metadata": {},
     "output_type": "execute_result"
    }
   ],
   "source": [
    "compare_result = pd.DataFrame(columns=['Model', 'Score', 'Accuracy'])\n",
    "compare_result.loc[0] = ['CNN', score[0], score[1]]\n",
    "compare_result"
   ]
  },
  {
   "cell_type": "markdown",
   "id": "193993c3",
   "metadata": {},
   "source": [
    "#### RNN\n",
    "\n",
    "Простая рекуррентная сеть"
   ]
  },
  {
   "cell_type": "code",
   "execution_count": 24,
   "id": "4311dd2e",
   "metadata": {},
   "outputs": [],
   "source": [
    "model = Sequential()\n",
    "model.add(Embedding(input_dim=word_count, \n",
    "                    input_length=training_length, \n",
    "                    output_dim=30, \n",
    "                    trainable=True, \n",
    "                    mask_zero=True)\n",
    "         )\n",
    "model.add(Masking(mask_value=0.0))\n",
    "model.add(SimpleRNN(64))\n",
    "model.add(Dense(64, activation='relu'))\n",
    "model.add(Dropout(0.5))\n",
    "model.add(Dense(1, activation='sigmoid'))\n",
    "\n",
    "model.compile(optimizer='adam', \n",
    "              loss='binary_crossentropy', \n",
    "              metrics=['accuracy']\n",
    "              )"
   ]
  },
  {
   "cell_type": "code",
   "execution_count": 25,
   "id": "11a07c0c",
   "metadata": {},
   "outputs": [
    {
     "name": "stdout",
     "output_type": "stream",
     "text": [
      "Epoch 1/10\n",
      "319/319 [==============================] - 23s 70ms/step - loss: 0.5611 - accuracy: 0.6962 - val_loss: 0.4941 - val_accuracy: 0.7546\n"
     ]
    }
   ],
   "source": [
    "early_stopping=EarlyStopping(monitor='val_loss')  \n",
    "history = model.fit(X_train, \n",
    "                    y_train, \n",
    "                    batch_size=512, \n",
    "                    epochs=10, \n",
    "                    verbose=1, \n",
    "                    validation_split=0.1, \n",
    "                    callbacks=[early_stopping]\n",
    "                    )"
   ]
  },
  {
   "cell_type": "code",
   "execution_count": 26,
   "id": "5835a2fc",
   "metadata": {},
   "outputs": [
    {
     "name": "stdout",
     "output_type": "stream",
     "text": [
      "45/45 [==============================] - 0s 10ms/step - loss: 0.5085 - accuracy: 0.7414\n",
      "\n",
      "\n",
      "Test score: 0.5084782242774963\n",
      "Test accuracy: 0.7414363026618958\n"
     ]
    }
   ],
   "source": [
    "score = model.evaluate(X_valid, y_val, batch_size=512, verbose=1)\n",
    "print('\\n')\n",
    "print('Test score:', score[0])\n",
    "print('Test accuracy:', score[1])"
   ]
  },
  {
   "cell_type": "code",
   "execution_count": 27,
   "id": "22f5b85b",
   "metadata": {},
   "outputs": [
    {
     "data": {
      "text/html": [
       "<div>\n",
       "<style scoped>\n",
       "    .dataframe tbody tr th:only-of-type {\n",
       "        vertical-align: middle;\n",
       "    }\n",
       "\n",
       "    .dataframe tbody tr th {\n",
       "        vertical-align: top;\n",
       "    }\n",
       "\n",
       "    .dataframe thead th {\n",
       "        text-align: right;\n",
       "    }\n",
       "</style>\n",
       "<table border=\"1\" class=\"dataframe\">\n",
       "  <thead>\n",
       "    <tr style=\"text-align: right;\">\n",
       "      <th></th>\n",
       "      <th>Model</th>\n",
       "      <th>Score</th>\n",
       "      <th>Accuracy</th>\n",
       "    </tr>\n",
       "  </thead>\n",
       "  <tbody>\n",
       "    <tr>\n",
       "      <th>0</th>\n",
       "      <td>CNN</td>\n",
       "      <td>0.508603</td>\n",
       "      <td>0.744566</td>\n",
       "    </tr>\n",
       "    <tr>\n",
       "      <th>1</th>\n",
       "      <td>RNN</td>\n",
       "      <td>0.508478</td>\n",
       "      <td>0.741436</td>\n",
       "    </tr>\n",
       "  </tbody>\n",
       "</table>\n",
       "</div>"
      ],
      "text/plain": [
       "  Model     Score  Accuracy\n",
       "0   CNN  0.508603  0.744566\n",
       "1   RNN  0.508478  0.741436"
      ]
     },
     "execution_count": 27,
     "metadata": {},
     "output_type": "execute_result"
    }
   ],
   "source": [
    "compare_result.loc[1] = ['RNN', score[0], score[1]]\n",
    "compare_result"
   ]
  },
  {
   "cell_type": "markdown",
   "id": "1eb539b2",
   "metadata": {},
   "source": [
    "#### LSTM"
   ]
  },
  {
   "cell_type": "code",
   "execution_count": 28,
   "id": "b79732ae",
   "metadata": {},
   "outputs": [],
   "source": [
    "model = Sequential()\n",
    "model.add(Embedding(input_dim=word_count, \n",
    "                    input_length=training_length, \n",
    "                    output_dim=30, \n",
    "                    trainable=True, \n",
    "                    mask_zero=True)\n",
    "          )\n",
    "model.add(Masking(mask_value=0.0))\n",
    "model.add(LSTM(64, recurrent_dropout=0.2))\n",
    "model.add(Dense(64, activation='relu'))\n",
    "model.add(Dropout(0.5))\n",
    "model.add(Dense(1, activation='sigmoid'))\n",
    "\n",
    "model.compile(optimizer='adam', \n",
    "              loss='binary_crossentropy',\n",
    "              metrics=['accuracy']\n",
    "              )"
   ]
  },
  {
   "cell_type": "code",
   "execution_count": 29,
   "id": "58489ae2",
   "metadata": {},
   "outputs": [
    {
     "name": "stdout",
     "output_type": "stream",
     "text": [
      "Epoch 1/10\n",
      "319/319 [==============================] - 40s 119ms/step - loss: 0.5552 - accuracy: 0.7069 - val_loss: 0.4929 - val_accuracy: 0.7538\n"
     ]
    }
   ],
   "source": [
    "early_stopping=EarlyStopping(monitor='val_loss')  \n",
    "history = model.fit(X_train,\n",
    "                    y_train, \n",
    "                    batch_size=512, \n",
    "                    epochs=10, \n",
    "                    verbose=1, \n",
    "                    validation_split=0.1, \n",
    "                    callbacks=[early_stopping]\n",
    "                    )"
   ]
  },
  {
   "cell_type": "code",
   "execution_count": 30,
   "id": "f890e7c3",
   "metadata": {},
   "outputs": [
    {
     "name": "stdout",
     "output_type": "stream",
     "text": [
      "45/45 [==============================] - 1s 33ms/step - loss: 0.5131 - accuracy: 0.7418\n",
      "\n",
      "\n",
      "Test score: 0.5130863785743713\n",
      "Test accuracy: 0.7417889833450317\n"
     ]
    }
   ],
   "source": [
    "score = model.evaluate(X_valid, y_val, batch_size=512, verbose=1)\n",
    "print('\\n')\n",
    "print('Test score:', score[0])\n",
    "print('Test accuracy:', score[1])"
   ]
  },
  {
   "cell_type": "code",
   "execution_count": 31,
   "id": "3954eb11",
   "metadata": {},
   "outputs": [
    {
     "data": {
      "text/html": [
       "<div>\n",
       "<style scoped>\n",
       "    .dataframe tbody tr th:only-of-type {\n",
       "        vertical-align: middle;\n",
       "    }\n",
       "\n",
       "    .dataframe tbody tr th {\n",
       "        vertical-align: top;\n",
       "    }\n",
       "\n",
       "    .dataframe thead th {\n",
       "        text-align: right;\n",
       "    }\n",
       "</style>\n",
       "<table border=\"1\" class=\"dataframe\">\n",
       "  <thead>\n",
       "    <tr style=\"text-align: right;\">\n",
       "      <th></th>\n",
       "      <th>Model</th>\n",
       "      <th>Score</th>\n",
       "      <th>Accuracy</th>\n",
       "    </tr>\n",
       "  </thead>\n",
       "  <tbody>\n",
       "    <tr>\n",
       "      <th>0</th>\n",
       "      <td>CNN</td>\n",
       "      <td>0.508603</td>\n",
       "      <td>0.744566</td>\n",
       "    </tr>\n",
       "    <tr>\n",
       "      <th>1</th>\n",
       "      <td>RNN</td>\n",
       "      <td>0.508478</td>\n",
       "      <td>0.741436</td>\n",
       "    </tr>\n",
       "    <tr>\n",
       "      <th>2</th>\n",
       "      <td>LSTM</td>\n",
       "      <td>0.513086</td>\n",
       "      <td>0.741789</td>\n",
       "    </tr>\n",
       "  </tbody>\n",
       "</table>\n",
       "</div>"
      ],
      "text/plain": [
       "  Model     Score  Accuracy\n",
       "0   CNN  0.508603  0.744566\n",
       "1   RNN  0.508478  0.741436\n",
       "2  LSTM  0.513086  0.741789"
      ]
     },
     "execution_count": 31,
     "metadata": {},
     "output_type": "execute_result"
    }
   ],
   "source": [
    "compare_result.loc[2] = ['LSTM', score[0], score[1]]\n",
    "compare_result"
   ]
  },
  {
   "cell_type": "markdown",
   "id": "fcb0be59",
   "metadata": {},
   "source": [
    "#### GRU"
   ]
  },
  {
   "cell_type": "code",
   "execution_count": 32,
   "id": "b433e6c1",
   "metadata": {},
   "outputs": [],
   "source": [
    "model = Sequential()\n",
    "model.add(Embedding(input_dim=word_count,\n",
    "                    input_length=training_length,\n",
    "                    output_dim=30,\n",
    "                    trainable=True,\n",
    "                    mask_zero=True)\n",
    "         )\n",
    "model.add(Masking(mask_value=0.0))\n",
    "model.add(GRU(64, recurrent_dropout=0.2))\n",
    "model.add(Dense(64, activation='relu'))\n",
    "model.add(Dropout(0.5))\n",
    "model.add(Dense(1, activation='sigmoid'))\n",
    "\n",
    "model.compile(optimizer='adam',\n",
    "              loss='binary_crossentropy',\n",
    "              metrics=['accuracy']\n",
    "              )"
   ]
  },
  {
   "cell_type": "code",
   "execution_count": 33,
   "id": "531e78f8",
   "metadata": {},
   "outputs": [
    {
     "name": "stdout",
     "output_type": "stream",
     "text": [
      "Epoch 1/10\n",
      "319/319 [==============================] - 31s 93ms/step - loss: 0.5513 - accuracy: 0.7087 - val_loss: 0.4949 - val_accuracy: 0.7567\n"
     ]
    }
   ],
   "source": [
    "early_stopping=EarlyStopping(monitor='val_loss')  \n",
    "history = model.fit(X_train, y_train,batch_size=512,epochs=10,verbose=1,validation_split=0.1,callbacks=[early_stopping])"
   ]
  },
  {
   "cell_type": "code",
   "execution_count": 34,
   "id": "86b5d3ef",
   "metadata": {},
   "outputs": [
    {
     "name": "stdout",
     "output_type": "stream",
     "text": [
      "45/45 [==============================] - 1s 23ms/step - loss: 0.5221 - accuracy: 0.7410\n",
      "\n",
      "\n",
      "Test score: 0.5221145153045654\n",
      "Test accuracy: 0.7409513592720032\n"
     ]
    }
   ],
   "source": [
    "score = model.evaluate(X_valid, y_val, batch_size=512, verbose=1)\n",
    "print('\\n')\n",
    "print('Test score:', score[0])\n",
    "print('Test accuracy:', score[1])"
   ]
  },
  {
   "cell_type": "code",
   "execution_count": 35,
   "id": "69a768f4",
   "metadata": {},
   "outputs": [
    {
     "data": {
      "text/html": [
       "<div>\n",
       "<style scoped>\n",
       "    .dataframe tbody tr th:only-of-type {\n",
       "        vertical-align: middle;\n",
       "    }\n",
       "\n",
       "    .dataframe tbody tr th {\n",
       "        vertical-align: top;\n",
       "    }\n",
       "\n",
       "    .dataframe thead th {\n",
       "        text-align: right;\n",
       "    }\n",
       "</style>\n",
       "<table border=\"1\" class=\"dataframe\">\n",
       "  <thead>\n",
       "    <tr style=\"text-align: right;\">\n",
       "      <th></th>\n",
       "      <th>Model</th>\n",
       "      <th>Score</th>\n",
       "      <th>Accuracy</th>\n",
       "    </tr>\n",
       "  </thead>\n",
       "  <tbody>\n",
       "    <tr>\n",
       "      <th>0</th>\n",
       "      <td>CNN</td>\n",
       "      <td>0.508603</td>\n",
       "      <td>0.744566</td>\n",
       "    </tr>\n",
       "    <tr>\n",
       "      <th>1</th>\n",
       "      <td>RNN</td>\n",
       "      <td>0.508478</td>\n",
       "      <td>0.741436</td>\n",
       "    </tr>\n",
       "    <tr>\n",
       "      <th>2</th>\n",
       "      <td>LSTM</td>\n",
       "      <td>0.513086</td>\n",
       "      <td>0.741789</td>\n",
       "    </tr>\n",
       "    <tr>\n",
       "      <th>3</th>\n",
       "      <td>GRU</td>\n",
       "      <td>0.522115</td>\n",
       "      <td>0.740951</td>\n",
       "    </tr>\n",
       "  </tbody>\n",
       "</table>\n",
       "</div>"
      ],
      "text/plain": [
       "  Model     Score  Accuracy\n",
       "0   CNN  0.508603  0.744566\n",
       "1   RNN  0.508478  0.741436\n",
       "2  LSTM  0.513086  0.741789\n",
       "3   GRU  0.522115  0.740951"
      ]
     },
     "execution_count": 35,
     "metadata": {},
     "output_type": "execute_result"
    }
   ],
   "source": [
    "compare_result.loc[3] = ['GRU', score[0], score[1]]\n",
    "compare_result"
   ]
  },
  {
   "cell_type": "code",
   "execution_count": 36,
   "id": "217fe213",
   "metadata": {},
   "outputs": [
    {
     "data": {
      "text/html": [
       "<div>\n",
       "<style scoped>\n",
       "    .dataframe tbody tr th:only-of-type {\n",
       "        vertical-align: middle;\n",
       "    }\n",
       "\n",
       "    .dataframe tbody tr th {\n",
       "        vertical-align: top;\n",
       "    }\n",
       "\n",
       "    .dataframe thead th {\n",
       "        text-align: right;\n",
       "    }\n",
       "</style>\n",
       "<table border=\"1\" class=\"dataframe\">\n",
       "  <thead>\n",
       "    <tr style=\"text-align: right;\">\n",
       "      <th></th>\n",
       "      <th>Model</th>\n",
       "      <th>Score</th>\n",
       "      <th>Accuracy</th>\n",
       "    </tr>\n",
       "  </thead>\n",
       "  <tbody>\n",
       "    <tr>\n",
       "      <th>0</th>\n",
       "      <td>CNN</td>\n",
       "      <td>0.508603</td>\n",
       "      <td>0.744566</td>\n",
       "    </tr>\n",
       "    <tr>\n",
       "      <th>1</th>\n",
       "      <td>RNN</td>\n",
       "      <td>0.508478</td>\n",
       "      <td>0.741436</td>\n",
       "    </tr>\n",
       "    <tr>\n",
       "      <th>2</th>\n",
       "      <td>LSTM</td>\n",
       "      <td>0.513086</td>\n",
       "      <td>0.741789</td>\n",
       "    </tr>\n",
       "    <tr>\n",
       "      <th>3</th>\n",
       "      <td>GRU</td>\n",
       "      <td>0.522115</td>\n",
       "      <td>0.740951</td>\n",
       "    </tr>\n",
       "  </tbody>\n",
       "</table>\n",
       "</div>"
      ],
      "text/plain": [
       "  Model     Score  Accuracy\n",
       "0   CNN  0.508603  0.744566\n",
       "1   RNN  0.508478  0.741436\n",
       "2  LSTM  0.513086  0.741789\n",
       "3   GRU  0.522115  0.740951"
      ]
     },
     "execution_count": 36,
     "metadata": {},
     "output_type": "execute_result"
    }
   ],
   "source": [
    "compare_result"
   ]
  },
  {
   "cell_type": "markdown",
   "id": "1054403a",
   "metadata": {},
   "source": [
    "#### Совместные архитектуры CNN -> RNN\n",
    "\n",
    "##### CNN-SimpleRNN"
   ]
  },
  {
   "cell_type": "code",
   "execution_count": 37,
   "id": "c3925a11",
   "metadata": {},
   "outputs": [
    {
     "name": "stdout",
     "output_type": "stream",
     "text": [
      "Epoch 1/10\n",
      "319/319 [==============================] - 24s 74ms/step - loss: 0.5590 - accuracy: 0.7002 - val_loss: 0.4938 - val_accuracy: 0.7578\n"
     ]
    }
   ],
   "source": [
    "model = Sequential()\n",
    "model.add(Embedding(input_dim=word_count, \n",
    "                    input_length=training_length, \n",
    "                    output_dim=30, \n",
    "                    trainable=True, \n",
    "                    mask_zero=True)\n",
    "          )\n",
    "model.add(Masking(mask_value=0.0))\n",
    "model.add(Conv1D(128, 3))\n",
    "model.add(Activation(\"relu\"))\n",
    "model.add(SimpleRNN(64))\n",
    "model.add(Dense(64, activation='relu'))\n",
    "model.add(Dropout(0.5))\n",
    "model.add(Dense(1, activation='sigmoid'))\n",
    "\n",
    "model.compile(optimizer='adam', \n",
    "              loss='binary_crossentropy', \n",
    "              metrics=['accuracy']\n",
    "              )\n",
    "early_stopping=EarlyStopping(monitor='val_loss')  \n",
    "history = model.fit(X_train, \n",
    "                    y_train, \n",
    "                    batch_size=512, \n",
    "                    epochs=10, verbose=1, \n",
    "                    validation_split=0.1, \n",
    "                    callbacks=[early_stopping]\n",
    "                    )"
   ]
  },
  {
   "cell_type": "code",
   "execution_count": 38,
   "id": "7bc5fcea",
   "metadata": {},
   "outputs": [
    {
     "name": "stdout",
     "output_type": "stream",
     "text": [
      "45/45 [==============================] - 1s 15ms/step - loss: 0.5027 - accuracy: 0.7451\n",
      "\n",
      "\n",
      "Test score: 0.5027254819869995\n",
      "Test accuracy: 0.7451395392417908\n"
     ]
    }
   ],
   "source": [
    "score = model.evaluate(X_valid, y_val, batch_size=512, verbose=1)\n",
    "print('\\n')\n",
    "print('Test score:', score[0])\n",
    "print('Test accuracy:', score[1])"
   ]
  },
  {
   "cell_type": "code",
   "execution_count": 39,
   "id": "94d1ffd8",
   "metadata": {},
   "outputs": [
    {
     "data": {
      "text/html": [
       "<div>\n",
       "<style scoped>\n",
       "    .dataframe tbody tr th:only-of-type {\n",
       "        vertical-align: middle;\n",
       "    }\n",
       "\n",
       "    .dataframe tbody tr th {\n",
       "        vertical-align: top;\n",
       "    }\n",
       "\n",
       "    .dataframe thead th {\n",
       "        text-align: right;\n",
       "    }\n",
       "</style>\n",
       "<table border=\"1\" class=\"dataframe\">\n",
       "  <thead>\n",
       "    <tr style=\"text-align: right;\">\n",
       "      <th></th>\n",
       "      <th>Model</th>\n",
       "      <th>Score</th>\n",
       "      <th>Accuracy</th>\n",
       "    </tr>\n",
       "  </thead>\n",
       "  <tbody>\n",
       "    <tr>\n",
       "      <th>0</th>\n",
       "      <td>CNN</td>\n",
       "      <td>0.508603</td>\n",
       "      <td>0.744566</td>\n",
       "    </tr>\n",
       "    <tr>\n",
       "      <th>1</th>\n",
       "      <td>RNN</td>\n",
       "      <td>0.508478</td>\n",
       "      <td>0.741436</td>\n",
       "    </tr>\n",
       "    <tr>\n",
       "      <th>2</th>\n",
       "      <td>LSTM</td>\n",
       "      <td>0.513086</td>\n",
       "      <td>0.741789</td>\n",
       "    </tr>\n",
       "    <tr>\n",
       "      <th>3</th>\n",
       "      <td>GRU</td>\n",
       "      <td>0.522115</td>\n",
       "      <td>0.740951</td>\n",
       "    </tr>\n",
       "    <tr>\n",
       "      <th>4</th>\n",
       "      <td>CNN-SimpleRNN</td>\n",
       "      <td>0.502725</td>\n",
       "      <td>0.745140</td>\n",
       "    </tr>\n",
       "  </tbody>\n",
       "</table>\n",
       "</div>"
      ],
      "text/plain": [
       "           Model     Score  Accuracy\n",
       "0            CNN  0.508603  0.744566\n",
       "1            RNN  0.508478  0.741436\n",
       "2           LSTM  0.513086  0.741789\n",
       "3            GRU  0.522115  0.740951\n",
       "4  CNN-SimpleRNN  0.502725  0.745140"
      ]
     },
     "execution_count": 39,
     "metadata": {},
     "output_type": "execute_result"
    }
   ],
   "source": [
    "compare_result.loc[4] = ['CNN-SimpleRNN', score[0], score[1]]\n",
    "compare_result"
   ]
  },
  {
   "cell_type": "markdown",
   "id": "268213a9",
   "metadata": {},
   "source": [
    "##### CNN - LSTM"
   ]
  },
  {
   "cell_type": "code",
   "execution_count": 40,
   "id": "dd98cfa3",
   "metadata": {},
   "outputs": [
    {
     "name": "stdout",
     "output_type": "stream",
     "text": [
      "Epoch 1/10\n",
      "319/319 [==============================] - 43s 132ms/step - loss: 0.5513 - accuracy: 0.7085 - val_loss: 0.4869 - val_accuracy: 0.7600\n"
     ]
    }
   ],
   "source": [
    "model = Sequential()\n",
    "model.add(Embedding(input_dim=word_count, \n",
    "                    input_length=training_length, \n",
    "                    output_dim=30, \n",
    "                    trainable=True, \n",
    "                    mask_zero=True)\n",
    "          )\n",
    "model.add(Masking(mask_value=0.0))\n",
    "model.add(Conv1D(128, 3))\n",
    "model.add(Activation(\"relu\"))\n",
    "model.add(LSTM(64, recurrent_dropout=0.2))\n",
    "model.add(Dense(64, activation='relu'))\n",
    "model.add(Dropout(0.5))\n",
    "model.add(Dense(1, activation='sigmoid'))\n",
    "\n",
    "model.compile(optimizer='adam', \n",
    "              loss='binary_crossentropy', \n",
    "              metrics=['accuracy']\n",
    "              )\n",
    "early_stopping=EarlyStopping(monitor='val_loss')  \n",
    "history = model.fit(X_train,\n",
    "                    y_train, \n",
    "                    batch_size=512, \n",
    "                    epochs=10, \n",
    "                    verbose=1, \n",
    "                    validation_split=0.1, \n",
    "                    callbacks=[early_stopping]\n",
    "                    )"
   ]
  },
  {
   "cell_type": "code",
   "execution_count": 41,
   "id": "5a0c1776",
   "metadata": {},
   "outputs": [
    {
     "name": "stdout",
     "output_type": "stream",
     "text": [
      "45/45 [==============================] - 1s 21ms/step - loss: 0.5024 - accuracy: 0.7484\n",
      "\n",
      "\n",
      "Test score: 0.5023513436317444\n",
      "Test accuracy: 0.7483577728271484\n"
     ]
    }
   ],
   "source": [
    "score = model.evaluate(X_valid, y_val, batch_size=512, verbose=1)\n",
    "print('\\n')\n",
    "print('Test score:', score[0])\n",
    "print('Test accuracy:', score[1])"
   ]
  },
  {
   "cell_type": "code",
   "execution_count": 42,
   "id": "d7824e31",
   "metadata": {},
   "outputs": [
    {
     "data": {
      "text/html": [
       "<div>\n",
       "<style scoped>\n",
       "    .dataframe tbody tr th:only-of-type {\n",
       "        vertical-align: middle;\n",
       "    }\n",
       "\n",
       "    .dataframe tbody tr th {\n",
       "        vertical-align: top;\n",
       "    }\n",
       "\n",
       "    .dataframe thead th {\n",
       "        text-align: right;\n",
       "    }\n",
       "</style>\n",
       "<table border=\"1\" class=\"dataframe\">\n",
       "  <thead>\n",
       "    <tr style=\"text-align: right;\">\n",
       "      <th></th>\n",
       "      <th>Model</th>\n",
       "      <th>Score</th>\n",
       "      <th>Accuracy</th>\n",
       "    </tr>\n",
       "  </thead>\n",
       "  <tbody>\n",
       "    <tr>\n",
       "      <th>0</th>\n",
       "      <td>CNN</td>\n",
       "      <td>0.508603</td>\n",
       "      <td>0.744566</td>\n",
       "    </tr>\n",
       "    <tr>\n",
       "      <th>1</th>\n",
       "      <td>RNN</td>\n",
       "      <td>0.508478</td>\n",
       "      <td>0.741436</td>\n",
       "    </tr>\n",
       "    <tr>\n",
       "      <th>2</th>\n",
       "      <td>LSTM</td>\n",
       "      <td>0.513086</td>\n",
       "      <td>0.741789</td>\n",
       "    </tr>\n",
       "    <tr>\n",
       "      <th>3</th>\n",
       "      <td>GRU</td>\n",
       "      <td>0.522115</td>\n",
       "      <td>0.740951</td>\n",
       "    </tr>\n",
       "    <tr>\n",
       "      <th>4</th>\n",
       "      <td>CNN-SimpleRNN</td>\n",
       "      <td>0.502725</td>\n",
       "      <td>0.745140</td>\n",
       "    </tr>\n",
       "    <tr>\n",
       "      <th>5</th>\n",
       "      <td>CNN - LSTM</td>\n",
       "      <td>0.502351</td>\n",
       "      <td>0.748358</td>\n",
       "    </tr>\n",
       "  </tbody>\n",
       "</table>\n",
       "</div>"
      ],
      "text/plain": [
       "           Model     Score  Accuracy\n",
       "0            CNN  0.508603  0.744566\n",
       "1            RNN  0.508478  0.741436\n",
       "2           LSTM  0.513086  0.741789\n",
       "3            GRU  0.522115  0.740951\n",
       "4  CNN-SimpleRNN  0.502725  0.745140\n",
       "5     CNN - LSTM  0.502351  0.748358"
      ]
     },
     "execution_count": 42,
     "metadata": {},
     "output_type": "execute_result"
    }
   ],
   "source": [
    "compare_result.loc[5] = ['CNN - LSTM', score[0], score[1]]\n",
    "compare_result"
   ]
  },
  {
   "cell_type": "markdown",
   "id": "0b221a64",
   "metadata": {},
   "source": [
    "##### CNN-GRU"
   ]
  },
  {
   "cell_type": "code",
   "execution_count": 43,
   "id": "f9c72cf4",
   "metadata": {},
   "outputs": [
    {
     "name": "stdout",
     "output_type": "stream",
     "text": [
      "Epoch 1/10\n",
      "319/319 [==============================] - 38s 115ms/step - loss: 0.5506 - accuracy: 0.7070 - val_loss: 0.4875 - val_accuracy: 0.7585\n"
     ]
    }
   ],
   "source": [
    "model = Sequential()\n",
    "model.add(Embedding(input_dim=word_count,\n",
    "                    input_length=training_length,\n",
    "                    output_dim=30,\n",
    "                    trainable=True, \n",
    "                    mask_zero=True)\n",
    "          )\n",
    "model.add(Masking(mask_value=0.0))\n",
    "model.add(Conv1D(128, 3))\n",
    "model.add(Activation(\"relu\"))\n",
    "model.add(GRU(64, recurrent_dropout=0.2))\n",
    "model.add(Dense(64, activation='relu'))\n",
    "model.add(Dropout(0.5))\n",
    "model.add(Dense(1, activation='sigmoid'))\n",
    "\n",
    "model.compile(optimizer='adam', \n",
    "              loss='binary_crossentropy', \n",
    "              metrics=['accuracy']\n",
    "              )\n",
    "early_stopping=EarlyStopping(monitor='val_loss')  \n",
    "history = model.fit(X_train, \n",
    "                    y_train,\n",
    "                    batch_size=512,\n",
    "                    epochs=10,\n",
    "                    verbose=1,\n",
    "                    validation_split=0.1,\n",
    "                    callbacks=[early_stopping]\n",
    "                    )"
   ]
  },
  {
   "cell_type": "code",
   "execution_count": 44,
   "id": "136b2f73",
   "metadata": {},
   "outputs": [
    {
     "name": "stdout",
     "output_type": "stream",
     "text": [
      "45/45 [==============================] - 1s 27ms/step - loss: 0.5301 - accuracy: 0.7374\n",
      "\n",
      "\n",
      "Test score: 0.5300748944282532\n",
      "Test accuracy: 0.7373804450035095\n"
     ]
    }
   ],
   "source": [
    "score = model.evaluate(X_valid, y_val, batch_size=512, verbose=1)\n",
    "print('\\n')\n",
    "print('Test score:', score[0])\n",
    "print('Test accuracy:', score[1])"
   ]
  },
  {
   "cell_type": "code",
   "execution_count": 45,
   "id": "30d4f172",
   "metadata": {},
   "outputs": [
    {
     "data": {
      "text/html": [
       "<div>\n",
       "<style scoped>\n",
       "    .dataframe tbody tr th:only-of-type {\n",
       "        vertical-align: middle;\n",
       "    }\n",
       "\n",
       "    .dataframe tbody tr th {\n",
       "        vertical-align: top;\n",
       "    }\n",
       "\n",
       "    .dataframe thead th {\n",
       "        text-align: right;\n",
       "    }\n",
       "</style>\n",
       "<table border=\"1\" class=\"dataframe\">\n",
       "  <thead>\n",
       "    <tr style=\"text-align: right;\">\n",
       "      <th></th>\n",
       "      <th>Model</th>\n",
       "      <th>Score</th>\n",
       "      <th>Accuracy</th>\n",
       "    </tr>\n",
       "  </thead>\n",
       "  <tbody>\n",
       "    <tr>\n",
       "      <th>0</th>\n",
       "      <td>CNN</td>\n",
       "      <td>0.508603</td>\n",
       "      <td>0.744566</td>\n",
       "    </tr>\n",
       "    <tr>\n",
       "      <th>1</th>\n",
       "      <td>RNN</td>\n",
       "      <td>0.508478</td>\n",
       "      <td>0.741436</td>\n",
       "    </tr>\n",
       "    <tr>\n",
       "      <th>2</th>\n",
       "      <td>LSTM</td>\n",
       "      <td>0.513086</td>\n",
       "      <td>0.741789</td>\n",
       "    </tr>\n",
       "    <tr>\n",
       "      <th>3</th>\n",
       "      <td>GRU</td>\n",
       "      <td>0.522115</td>\n",
       "      <td>0.740951</td>\n",
       "    </tr>\n",
       "    <tr>\n",
       "      <th>4</th>\n",
       "      <td>CNN-SimpleRNN</td>\n",
       "      <td>0.502725</td>\n",
       "      <td>0.745140</td>\n",
       "    </tr>\n",
       "    <tr>\n",
       "      <th>5</th>\n",
       "      <td>CNN - LSTM</td>\n",
       "      <td>0.502351</td>\n",
       "      <td>0.748358</td>\n",
       "    </tr>\n",
       "    <tr>\n",
       "      <th>6</th>\n",
       "      <td>CNN-GRU</td>\n",
       "      <td>0.530075</td>\n",
       "      <td>0.737380</td>\n",
       "    </tr>\n",
       "  </tbody>\n",
       "</table>\n",
       "</div>"
      ],
      "text/plain": [
       "           Model     Score  Accuracy\n",
       "0            CNN  0.508603  0.744566\n",
       "1            RNN  0.508478  0.741436\n",
       "2           LSTM  0.513086  0.741789\n",
       "3            GRU  0.522115  0.740951\n",
       "4  CNN-SimpleRNN  0.502725  0.745140\n",
       "5     CNN - LSTM  0.502351  0.748358\n",
       "6        CNN-GRU  0.530075  0.737380"
      ]
     },
     "execution_count": 45,
     "metadata": {},
     "output_type": "execute_result"
    }
   ],
   "source": [
    "compare_result.loc[6] = ['CNN-GRU', score[0], score[1]]\n",
    "compare_result"
   ]
  },
  {
   "cell_type": "markdown",
   "id": "4dda928a",
   "metadata": {},
   "source": [
    "#### Совместные архитектуры RNN -> CNN\n",
    "\n",
    "##### SimpleRNN-CNN"
   ]
  },
  {
   "cell_type": "code",
   "execution_count": 46,
   "id": "9c46efaf",
   "metadata": {},
   "outputs": [
    {
     "name": "stdout",
     "output_type": "stream",
     "text": [
      "Epoch 1/10\n",
      "319/319 [==============================] - 31s 95ms/step - loss: 0.6711 - accuracy: 0.5471 - val_loss: 0.6583 - val_accuracy: 0.5621\n"
     ]
    }
   ],
   "source": [
    "model = Sequential()\n",
    "model.add(Embedding(input_dim=word_count, \n",
    "                    input_length=training_length, \n",
    "                    output_dim=30, \n",
    "                    trainable=True, \n",
    "                    mask_zero=True))\n",
    "model.add(Masking(mask_value=0.0))\n",
    "model.add(SimpleRNN(64, return_sequences=True))\n",
    "model.add(Conv1D(64, 3))\n",
    "model.add(Activation(\"relu\"))\n",
    "model.add(Dense(64, activation='relu'))\n",
    "model.add(Dropout(0.5))\n",
    "model.add(Dense(1, activation='sigmoid'))\n",
    "\n",
    "model.compile(optimizer='adam', \n",
    "              loss='binary_crossentropy', \n",
    "              metrics=['accuracy']\n",
    "              )\n",
    "early_stopping=EarlyStopping(monitor='val_loss')  \n",
    "history = model.fit(X_train, \n",
    "                    y_train, \n",
    "                    batch_size=512, \n",
    "                    epochs=10, \n",
    "                    verbose=1, \n",
    "                    validation_split=0.1, \n",
    "                    callbacks=[early_stopping]\n",
    "                    )"
   ]
  },
  {
   "cell_type": "code",
   "execution_count": 47,
   "id": "826d68fb",
   "metadata": {},
   "outputs": [
    {
     "name": "stdout",
     "output_type": "stream",
     "text": [
      "45/45 [==============================] - 1s 22ms/step - loss: 0.6670 - accuracy: 0.5501\n",
      "\n",
      "\n",
      "Test score: 0.6670083403587341\n",
      "Test accuracy: 0.5501370429992676\n"
     ]
    }
   ],
   "source": [
    "score = model.evaluate(X_valid, y_val, batch_size=512, verbose=1)\n",
    "print('\\n')\n",
    "print('Test score:', score[0])\n",
    "print('Test accuracy:', score[1])"
   ]
  },
  {
   "cell_type": "code",
   "execution_count": 48,
   "id": "7992e80e",
   "metadata": {},
   "outputs": [
    {
     "data": {
      "text/html": [
       "<div>\n",
       "<style scoped>\n",
       "    .dataframe tbody tr th:only-of-type {\n",
       "        vertical-align: middle;\n",
       "    }\n",
       "\n",
       "    .dataframe tbody tr th {\n",
       "        vertical-align: top;\n",
       "    }\n",
       "\n",
       "    .dataframe thead th {\n",
       "        text-align: right;\n",
       "    }\n",
       "</style>\n",
       "<table border=\"1\" class=\"dataframe\">\n",
       "  <thead>\n",
       "    <tr style=\"text-align: right;\">\n",
       "      <th></th>\n",
       "      <th>Model</th>\n",
       "      <th>Score</th>\n",
       "      <th>Accuracy</th>\n",
       "    </tr>\n",
       "  </thead>\n",
       "  <tbody>\n",
       "    <tr>\n",
       "      <th>0</th>\n",
       "      <td>CNN</td>\n",
       "      <td>0.508603</td>\n",
       "      <td>0.744566</td>\n",
       "    </tr>\n",
       "    <tr>\n",
       "      <th>1</th>\n",
       "      <td>RNN</td>\n",
       "      <td>0.508478</td>\n",
       "      <td>0.741436</td>\n",
       "    </tr>\n",
       "    <tr>\n",
       "      <th>2</th>\n",
       "      <td>LSTM</td>\n",
       "      <td>0.513086</td>\n",
       "      <td>0.741789</td>\n",
       "    </tr>\n",
       "    <tr>\n",
       "      <th>3</th>\n",
       "      <td>GRU</td>\n",
       "      <td>0.522115</td>\n",
       "      <td>0.740951</td>\n",
       "    </tr>\n",
       "    <tr>\n",
       "      <th>4</th>\n",
       "      <td>CNN-SimpleRNN</td>\n",
       "      <td>0.502725</td>\n",
       "      <td>0.745140</td>\n",
       "    </tr>\n",
       "    <tr>\n",
       "      <th>5</th>\n",
       "      <td>CNN - LSTM</td>\n",
       "      <td>0.502351</td>\n",
       "      <td>0.748358</td>\n",
       "    </tr>\n",
       "    <tr>\n",
       "      <th>6</th>\n",
       "      <td>CNN-GRU</td>\n",
       "      <td>0.530075</td>\n",
       "      <td>0.737380</td>\n",
       "    </tr>\n",
       "    <tr>\n",
       "      <th>7</th>\n",
       "      <td>SimpleRNN-CNN</td>\n",
       "      <td>0.667008</td>\n",
       "      <td>0.550137</td>\n",
       "    </tr>\n",
       "  </tbody>\n",
       "</table>\n",
       "</div>"
      ],
      "text/plain": [
       "           Model     Score  Accuracy\n",
       "0            CNN  0.508603  0.744566\n",
       "1            RNN  0.508478  0.741436\n",
       "2           LSTM  0.513086  0.741789\n",
       "3            GRU  0.522115  0.740951\n",
       "4  CNN-SimpleRNN  0.502725  0.745140\n",
       "5     CNN - LSTM  0.502351  0.748358\n",
       "6        CNN-GRU  0.530075  0.737380\n",
       "7  SimpleRNN-CNN  0.667008  0.550137"
      ]
     },
     "execution_count": 48,
     "metadata": {},
     "output_type": "execute_result"
    }
   ],
   "source": [
    "compare_result.loc[7] = ['SimpleRNN-CNN', score[0], score[1]]\n",
    "compare_result"
   ]
  },
  {
   "cell_type": "markdown",
   "id": "b911fb9e",
   "metadata": {},
   "source": [
    "##### LSTM - CNN"
   ]
  },
  {
   "cell_type": "code",
   "execution_count": 49,
   "id": "6967f79c",
   "metadata": {},
   "outputs": [
    {
     "name": "stdout",
     "output_type": "stream",
     "text": [
      "Epoch 1/10\n",
      "319/319 [==============================] - 44s 135ms/step - loss: 0.6736 - accuracy: 0.5393 - val_loss: 0.6607 - val_accuracy: 0.5557\n"
     ]
    }
   ],
   "source": [
    "model = Sequential()\n",
    "model.add(Embedding(input_dim=word_count, \n",
    "                    input_length=training_length, \n",
    "                    output_dim=30)\n",
    "          )\n",
    "model.add(LSTM(64, recurrent_dropout=0.2, return_sequences=True))\n",
    "model.add(Conv1D(128, 3))\n",
    "model.add(Activation(\"relu\"))\n",
    "model.add(Dense(64, activation='relu'))\n",
    "model.add(Dropout(0.5))\n",
    "model.add(Dense(1, activation='sigmoid'))\n",
    "\n",
    "model.compile(optimizer='adam', \n",
    "              loss='binary_crossentropy', \n",
    "              metrics=['accuracy']\n",
    "              )\n",
    "early_stopping=EarlyStopping(monitor='val_loss')  \n",
    "history = model.fit(X_train,\n",
    "                    y_train, \n",
    "                    batch_size=512, \n",
    "                    epochs=10, \n",
    "                    verbose=1, \n",
    "                    validation_split=0.1, \n",
    "                    callbacks=[early_stopping]\n",
    "                    )"
   ]
  },
  {
   "cell_type": "code",
   "execution_count": 50,
   "id": "d0a1bf3a",
   "metadata": {},
   "outputs": [
    {
     "name": "stdout",
     "output_type": "stream",
     "text": [
      "45/45 [==============================] - 2s 43ms/step - loss: 0.6648 - accuracy: 0.5460\n",
      "\n",
      "\n",
      "Test score: 0.6647577285766602\n",
      "Test accuracy: 0.5460318326950073\n"
     ]
    }
   ],
   "source": [
    "score = model.evaluate(X_valid, y_val, batch_size=512, verbose=1)\n",
    "print('\\n')\n",
    "print('Test score:', score[0])\n",
    "print('Test accuracy:', score[1])"
   ]
  },
  {
   "cell_type": "code",
   "execution_count": 51,
   "id": "fce4877e",
   "metadata": {},
   "outputs": [
    {
     "data": {
      "text/html": [
       "<div>\n",
       "<style scoped>\n",
       "    .dataframe tbody tr th:only-of-type {\n",
       "        vertical-align: middle;\n",
       "    }\n",
       "\n",
       "    .dataframe tbody tr th {\n",
       "        vertical-align: top;\n",
       "    }\n",
       "\n",
       "    .dataframe thead th {\n",
       "        text-align: right;\n",
       "    }\n",
       "</style>\n",
       "<table border=\"1\" class=\"dataframe\">\n",
       "  <thead>\n",
       "    <tr style=\"text-align: right;\">\n",
       "      <th></th>\n",
       "      <th>Model</th>\n",
       "      <th>Score</th>\n",
       "      <th>Accuracy</th>\n",
       "    </tr>\n",
       "  </thead>\n",
       "  <tbody>\n",
       "    <tr>\n",
       "      <th>0</th>\n",
       "      <td>CNN</td>\n",
       "      <td>0.508603</td>\n",
       "      <td>0.744566</td>\n",
       "    </tr>\n",
       "    <tr>\n",
       "      <th>1</th>\n",
       "      <td>RNN</td>\n",
       "      <td>0.508478</td>\n",
       "      <td>0.741436</td>\n",
       "    </tr>\n",
       "    <tr>\n",
       "      <th>2</th>\n",
       "      <td>LSTM</td>\n",
       "      <td>0.513086</td>\n",
       "      <td>0.741789</td>\n",
       "    </tr>\n",
       "    <tr>\n",
       "      <th>3</th>\n",
       "      <td>GRU</td>\n",
       "      <td>0.522115</td>\n",
       "      <td>0.740951</td>\n",
       "    </tr>\n",
       "    <tr>\n",
       "      <th>4</th>\n",
       "      <td>CNN-SimpleRNN</td>\n",
       "      <td>0.502725</td>\n",
       "      <td>0.745140</td>\n",
       "    </tr>\n",
       "    <tr>\n",
       "      <th>5</th>\n",
       "      <td>CNN - LSTM</td>\n",
       "      <td>0.502351</td>\n",
       "      <td>0.748358</td>\n",
       "    </tr>\n",
       "    <tr>\n",
       "      <th>6</th>\n",
       "      <td>CNN-GRU</td>\n",
       "      <td>0.530075</td>\n",
       "      <td>0.737380</td>\n",
       "    </tr>\n",
       "    <tr>\n",
       "      <th>7</th>\n",
       "      <td>SimpleRNN-CNN</td>\n",
       "      <td>0.667008</td>\n",
       "      <td>0.550137</td>\n",
       "    </tr>\n",
       "    <tr>\n",
       "      <th>8</th>\n",
       "      <td>LSTM - CNN</td>\n",
       "      <td>0.664758</td>\n",
       "      <td>0.546032</td>\n",
       "    </tr>\n",
       "  </tbody>\n",
       "</table>\n",
       "</div>"
      ],
      "text/plain": [
       "           Model     Score  Accuracy\n",
       "0            CNN  0.508603  0.744566\n",
       "1            RNN  0.508478  0.741436\n",
       "2           LSTM  0.513086  0.741789\n",
       "3            GRU  0.522115  0.740951\n",
       "4  CNN-SimpleRNN  0.502725  0.745140\n",
       "5     CNN - LSTM  0.502351  0.748358\n",
       "6        CNN-GRU  0.530075  0.737380\n",
       "7  SimpleRNN-CNN  0.667008  0.550137\n",
       "8     LSTM - CNN  0.664758  0.546032"
      ]
     },
     "execution_count": 51,
     "metadata": {},
     "output_type": "execute_result"
    }
   ],
   "source": [
    "compare_result.loc[8] = ['LSTM - CNN', score[0], score[1]]\n",
    "compare_result"
   ]
  },
  {
   "cell_type": "markdown",
   "id": "16bd2e38",
   "metadata": {},
   "source": [
    "##### GRU-CNN"
   ]
  },
  {
   "cell_type": "code",
   "execution_count": 52,
   "id": "fa88eb99",
   "metadata": {},
   "outputs": [
    {
     "name": "stdout",
     "output_type": "stream",
     "text": [
      "Epoch 1/10\n",
      "319/319 [==============================] - 44s 134ms/step - loss: 0.6732 - accuracy: 0.5412 - val_loss: 0.6623 - val_accuracy: 0.5466\n"
     ]
    }
   ],
   "source": [
    "model = Sequential()\n",
    "model.add(Embedding(input_dim=word_count,\n",
    "                    input_length=training_length,\n",
    "                    output_dim=30,\n",
    "                    trainable=True, \n",
    "                    mask_zero=True)\n",
    "          )\n",
    "model.add(Masking(mask_value=0.0))\n",
    "model.add(GRU(64, recurrent_dropout=0.2, return_sequences=True))\n",
    "model.add(Conv1D(128, 3))\n",
    "model.add(Activation(\"relu\"))\n",
    "model.add(Dense(64, activation='relu'))\n",
    "model.add(Dropout(0.5))\n",
    "model.add(Dense(1, activation='sigmoid'))\n",
    "\n",
    "model.compile(optimizer='adam', \n",
    "              loss='binary_crossentropy', \n",
    "              metrics=['accuracy']\n",
    "              )\n",
    "early_stopping=EarlyStopping(monitor='val_loss')  \n",
    "history = model.fit(X_train, \n",
    "                    y_train,\n",
    "                    batch_size=512,\n",
    "                    epochs=10,\n",
    "                    verbose=1,\n",
    "                    validation_split=0.1,\n",
    "                    callbacks=[early_stopping]\n",
    "                    )"
   ]
  },
  {
   "cell_type": "code",
   "execution_count": 53,
   "id": "3545f077",
   "metadata": {},
   "outputs": [
    {
     "name": "stdout",
     "output_type": "stream",
     "text": [
      "45/45 [==============================] - 2s 42ms/step - loss: 0.6655 - accuracy: 0.5448\n",
      "\n",
      "\n",
      "Test score: 0.6654859185218811\n",
      "Test accuracy: 0.5447692275047302\n"
     ]
    }
   ],
   "source": [
    "score = model.evaluate(X_valid, y_val, batch_size=512, verbose=1)\n",
    "print('\\n')\n",
    "print('Test score:', score[0])\n",
    "print('Test accuracy:', score[1])"
   ]
  },
  {
   "cell_type": "code",
   "execution_count": 54,
   "id": "46337c1e",
   "metadata": {},
   "outputs": [
    {
     "data": {
      "text/html": [
       "<div>\n",
       "<style scoped>\n",
       "    .dataframe tbody tr th:only-of-type {\n",
       "        vertical-align: middle;\n",
       "    }\n",
       "\n",
       "    .dataframe tbody tr th {\n",
       "        vertical-align: top;\n",
       "    }\n",
       "\n",
       "    .dataframe thead th {\n",
       "        text-align: right;\n",
       "    }\n",
       "</style>\n",
       "<table border=\"1\" class=\"dataframe\">\n",
       "  <thead>\n",
       "    <tr style=\"text-align: right;\">\n",
       "      <th></th>\n",
       "      <th>Model</th>\n",
       "      <th>Score</th>\n",
       "      <th>Accuracy</th>\n",
       "    </tr>\n",
       "  </thead>\n",
       "  <tbody>\n",
       "    <tr>\n",
       "      <th>0</th>\n",
       "      <td>CNN</td>\n",
       "      <td>0.508603</td>\n",
       "      <td>0.744566</td>\n",
       "    </tr>\n",
       "    <tr>\n",
       "      <th>1</th>\n",
       "      <td>RNN</td>\n",
       "      <td>0.508478</td>\n",
       "      <td>0.741436</td>\n",
       "    </tr>\n",
       "    <tr>\n",
       "      <th>2</th>\n",
       "      <td>LSTM</td>\n",
       "      <td>0.513086</td>\n",
       "      <td>0.741789</td>\n",
       "    </tr>\n",
       "    <tr>\n",
       "      <th>3</th>\n",
       "      <td>GRU</td>\n",
       "      <td>0.522115</td>\n",
       "      <td>0.740951</td>\n",
       "    </tr>\n",
       "    <tr>\n",
       "      <th>4</th>\n",
       "      <td>CNN-SimpleRNN</td>\n",
       "      <td>0.502725</td>\n",
       "      <td>0.745140</td>\n",
       "    </tr>\n",
       "    <tr>\n",
       "      <th>5</th>\n",
       "      <td>CNN - LSTM</td>\n",
       "      <td>0.502351</td>\n",
       "      <td>0.748358</td>\n",
       "    </tr>\n",
       "    <tr>\n",
       "      <th>6</th>\n",
       "      <td>CNN-GRU</td>\n",
       "      <td>0.530075</td>\n",
       "      <td>0.737380</td>\n",
       "    </tr>\n",
       "    <tr>\n",
       "      <th>7</th>\n",
       "      <td>SimpleRNN-CNN</td>\n",
       "      <td>0.667008</td>\n",
       "      <td>0.550137</td>\n",
       "    </tr>\n",
       "    <tr>\n",
       "      <th>8</th>\n",
       "      <td>LSTM - CNN</td>\n",
       "      <td>0.664758</td>\n",
       "      <td>0.546032</td>\n",
       "    </tr>\n",
       "    <tr>\n",
       "      <th>9</th>\n",
       "      <td>GRU - CNN</td>\n",
       "      <td>0.665486</td>\n",
       "      <td>0.544769</td>\n",
       "    </tr>\n",
       "  </tbody>\n",
       "</table>\n",
       "</div>"
      ],
      "text/plain": [
       "           Model     Score  Accuracy\n",
       "0            CNN  0.508603  0.744566\n",
       "1            RNN  0.508478  0.741436\n",
       "2           LSTM  0.513086  0.741789\n",
       "3            GRU  0.522115  0.740951\n",
       "4  CNN-SimpleRNN  0.502725  0.745140\n",
       "5     CNN - LSTM  0.502351  0.748358\n",
       "6        CNN-GRU  0.530075  0.737380\n",
       "7  SimpleRNN-CNN  0.667008  0.550137\n",
       "8     LSTM - CNN  0.664758  0.546032\n",
       "9      GRU - CNN  0.665486  0.544769"
      ]
     },
     "execution_count": 54,
     "metadata": {},
     "output_type": "execute_result"
    }
   ],
   "source": [
    "compare_result.loc[9] = ['GRU - CNN', score[0], score[1]]\n",
    "compare_result"
   ]
  },
  {
   "cell_type": "markdown",
   "id": "7fe99277",
   "metadata": {},
   "source": [
    "***Вывод:*** кроме RNN -> CNN модели показывают примерно одинаковую результативность."
   ]
  }
 ],
 "metadata": {
  "kernelspec": {
   "display_name": "Python 3 (ipykernel)",
   "language": "python",
   "name": "python3"
  },
  "language_info": {
   "codemirror_mode": {
    "name": "ipython",
    "version": 3
   },
   "file_extension": ".py",
   "mimetype": "text/x-python",
   "name": "python",
   "nbconvert_exporter": "python",
   "pygments_lexer": "ipython3",
   "version": "3.9.12"
  }
 },
 "nbformat": 4,
 "nbformat_minor": 5
}
